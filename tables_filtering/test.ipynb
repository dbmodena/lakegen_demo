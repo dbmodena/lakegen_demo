{
 "cells": [
  {
   "cell_type": "code",
   "execution_count": 1,
   "id": "ba51000a-bcd8-4db3-9ad4-eddf6a2badfd",
   "metadata": {},
   "outputs": [],
   "source": [
    "import os\n",
    "\n",
    "import pandas as pd\n",
    "from tqdm import tqdm"
   ]
  },
  {
   "cell_type": "markdown",
   "id": "17537479",
   "metadata": {},
   "source": [
    "## Load the examples"
   ]
  },
  {
   "cell_type": "code",
   "execution_count": 5,
   "id": "86240dd5-7b4f-4b72-9a80-a72b42774df3",
   "metadata": {},
   "outputs": [],
   "source": [
    "keywords_gt = pd.read_csv(os.path.join('..', 'data', 'keywords_gt_with_examples.csv'))\n",
    "# keywords_gt = keywords_gt.rename({'n_keys': 'n_keywords'}, axis=1)\n",
    "# keywords_gt['presence'] = keywords_gt['presence'].map(lambda x: x if x != 'ERROR' else -1).astype(int)\n",
    "# keywords_gt.to_csv(os.path.join('..', 'data', 'keywords_gt_with_examples_all.csv'), index=False)"
   ]
  },
  {
   "cell_type": "code",
   "execution_count": 6,
   "id": "8846246a",
   "metadata": {},
   "outputs": [
    {
     "data": {
      "text/plain": [
       "(1301, 18)"
      ]
     },
     "execution_count": 6,
     "metadata": {},
     "output_type": "execute_result"
    }
   ],
   "source": [
    "keywords_gt.shape"
   ]
  },
  {
   "cell_type": "code",
   "execution_count": 7,
   "id": "9574d3dd",
   "metadata": {},
   "outputs": [
    {
     "data": {
      "text/html": [
       "<div>\n",
       "<style scoped>\n",
       "    .dataframe tbody tr th:only-of-type {\n",
       "        vertical-align: middle;\n",
       "    }\n",
       "\n",
       "    .dataframe tbody tr th {\n",
       "        vertical-align: top;\n",
       "    }\n",
       "\n",
       "    .dataframe thead th {\n",
       "        text-align: right;\n",
       "    }\n",
       "</style>\n",
       "<table border=\"1\" class=\"dataframe\">\n",
       "  <thead>\n",
       "    <tr style=\"text-align: right;\">\n",
       "      <th></th>\n",
       "      <th>country_tag</th>\n",
       "      <th>type</th>\n",
       "      <th>difficulty</th>\n",
       "      <th>r_rsc_id</th>\n",
       "      <th>s_rsc_id</th>\n",
       "      <th>r_pkg_id</th>\n",
       "      <th>s_pkg_id</th>\n",
       "      <th>nl</th>\n",
       "      <th>keywords</th>\n",
       "      <th>prompt_tokens</th>\n",
       "      <th>completion_tokens</th>\n",
       "      <th>presence</th>\n",
       "      <th>response</th>\n",
       "      <th>result_count</th>\n",
       "      <th>top_k</th>\n",
       "      <th>n_keywords</th>\n",
       "      <th>r_id_index</th>\n",
       "      <th>s_id_index</th>\n",
       "    </tr>\n",
       "  </thead>\n",
       "  <tbody>\n",
       "    <tr>\n",
       "      <th>0</th>\n",
       "      <td>CAN</td>\n",
       "      <td>single-table</td>\n",
       "      <td>moderate</td>\n",
       "      <td>a7c95445-e336-41e3-945c-1bc938ff0612</td>\n",
       "      <td>NaN</td>\n",
       "      <td>12c89aa5-063a-f0ed-334a-3019133b9ee8</td>\n",
       "      <td>NaN</td>\n",
       "      <td>What is the total amount paid by each departme...</td>\n",
       "      <td>supplier+payments</td>\n",
       "      <td>1530</td>\n",
       "      <td>372</td>\n",
       "      <td>1</td>\n",
       "      <td>&lt;think&gt;\\n\\n&lt;/think&gt;\\n\\n## Query Analysis Resul...</td>\n",
       "      <td>17</td>\n",
       "      <td>1000.0</td>\n",
       "      <td>2.0</td>\n",
       "      <td>14.0</td>\n",
       "      <td>NaN</td>\n",
       "    </tr>\n",
       "    <tr>\n",
       "      <th>1</th>\n",
       "      <td>CAN</td>\n",
       "      <td>single-table</td>\n",
       "      <td>challenging</td>\n",
       "      <td>a7c95445-e336-41e3-945c-1bc938ff0612</td>\n",
       "      <td>NaN</td>\n",
       "      <td>12c89aa5-063a-f0ed-334a-3019133b9ee8</td>\n",
       "      <td>NaN</td>\n",
       "      <td>Which supplier received the highest payment fr...</td>\n",
       "      <td>new brunswick+supplier</td>\n",
       "      <td>1528</td>\n",
       "      <td>229</td>\n",
       "      <td>1</td>\n",
       "      <td>&lt;think&gt;\\n\\n&lt;/think&gt;\\n\\n## Query Analysis Resul...</td>\n",
       "      <td>10</td>\n",
       "      <td>1000.0</td>\n",
       "      <td>2.0</td>\n",
       "      <td>7.0</td>\n",
       "      <td>NaN</td>\n",
       "    </tr>\n",
       "    <tr>\n",
       "      <th>2</th>\n",
       "      <td>CAN</td>\n",
       "      <td>single-table</td>\n",
       "      <td>simple</td>\n",
       "      <td>ae2204c7-db9e-450e-8158-c70eedada7ae</td>\n",
       "      <td>NaN</td>\n",
       "      <td>4879e498-c9ac-44a3-d7d1-21af22e2224c</td>\n",
       "      <td>NaN</td>\n",
       "      <td>Which suppliers received payments over $100,00...</td>\n",
       "      <td>suppliers+new brunswick</td>\n",
       "      <td>1530</td>\n",
       "      <td>360</td>\n",
       "      <td>1</td>\n",
       "      <td>&lt;think&gt;\\n\\n&lt;/think&gt;\\n\\n## Query Analysis Resul...</td>\n",
       "      <td>10</td>\n",
       "      <td>1000.0</td>\n",
       "      <td>2.0</td>\n",
       "      <td>5.0</td>\n",
       "      <td>NaN</td>\n",
       "    </tr>\n",
       "    <tr>\n",
       "      <th>3</th>\n",
       "      <td>CAN</td>\n",
       "      <td>single-table</td>\n",
       "      <td>moderate</td>\n",
       "      <td>ae2204c7-db9e-450e-8158-c70eedada7ae</td>\n",
       "      <td>NaN</td>\n",
       "      <td>4879e498-c9ac-44a3-d7d1-21af22e2224c</td>\n",
       "      <td>NaN</td>\n",
       "      <td>According to the Government of New Brunswick’s...</td>\n",
       "      <td>public accounts+new brunswick</td>\n",
       "      <td>1531</td>\n",
       "      <td>356</td>\n",
       "      <td>1</td>\n",
       "      <td>&lt;think&gt;\\n\\n&lt;/think&gt;\\n\\n## Query Analysis Resul...</td>\n",
       "      <td>34</td>\n",
       "      <td>1000.0</td>\n",
       "      <td>2.0</td>\n",
       "      <td>22.0</td>\n",
       "      <td>NaN</td>\n",
       "    </tr>\n",
       "    <tr>\n",
       "      <th>4</th>\n",
       "      <td>CAN</td>\n",
       "      <td>single-table</td>\n",
       "      <td>challenging</td>\n",
       "      <td>ae2204c7-db9e-450e-8158-c70eedada7ae</td>\n",
       "      <td>NaN</td>\n",
       "      <td>4879e498-c9ac-44a3-d7d1-21af22e2224c</td>\n",
       "      <td>NaN</td>\n",
       "      <td>According to the Government of New Brunswick’s...</td>\n",
       "      <td>supplier+new brunswick</td>\n",
       "      <td>1524</td>\n",
       "      <td>204</td>\n",
       "      <td>1</td>\n",
       "      <td>&lt;think&gt;\\n\\n&lt;/think&gt;\\n\\n## Query Analysis Resul...</td>\n",
       "      <td>10</td>\n",
       "      <td>1000.0</td>\n",
       "      <td>2.0</td>\n",
       "      <td>5.0</td>\n",
       "      <td>NaN</td>\n",
       "    </tr>\n",
       "  </tbody>\n",
       "</table>\n",
       "</div>"
      ],
      "text/plain": [
       "  country_tag          type   difficulty  \\\n",
       "0         CAN  single-table     moderate   \n",
       "1         CAN  single-table  challenging   \n",
       "2         CAN  single-table       simple   \n",
       "3         CAN  single-table     moderate   \n",
       "4         CAN  single-table  challenging   \n",
       "\n",
       "                               r_rsc_id s_rsc_id  \\\n",
       "0  a7c95445-e336-41e3-945c-1bc938ff0612      NaN   \n",
       "1  a7c95445-e336-41e3-945c-1bc938ff0612      NaN   \n",
       "2  ae2204c7-db9e-450e-8158-c70eedada7ae      NaN   \n",
       "3  ae2204c7-db9e-450e-8158-c70eedada7ae      NaN   \n",
       "4  ae2204c7-db9e-450e-8158-c70eedada7ae      NaN   \n",
       "\n",
       "                               r_pkg_id s_pkg_id  \\\n",
       "0  12c89aa5-063a-f0ed-334a-3019133b9ee8      NaN   \n",
       "1  12c89aa5-063a-f0ed-334a-3019133b9ee8      NaN   \n",
       "2  4879e498-c9ac-44a3-d7d1-21af22e2224c      NaN   \n",
       "3  4879e498-c9ac-44a3-d7d1-21af22e2224c      NaN   \n",
       "4  4879e498-c9ac-44a3-d7d1-21af22e2224c      NaN   \n",
       "\n",
       "                                                  nl  \\\n",
       "0  What is the total amount paid by each departme...   \n",
       "1  Which supplier received the highest payment fr...   \n",
       "2  Which suppliers received payments over $100,00...   \n",
       "3  According to the Government of New Brunswick’s...   \n",
       "4  According to the Government of New Brunswick’s...   \n",
       "\n",
       "                        keywords  prompt_tokens  completion_tokens  presence  \\\n",
       "0              supplier+payments           1530                372         1   \n",
       "1         new brunswick+supplier           1528                229         1   \n",
       "2        suppliers+new brunswick           1530                360         1   \n",
       "3  public accounts+new brunswick           1531                356         1   \n",
       "4         supplier+new brunswick           1524                204         1   \n",
       "\n",
       "                                            response  result_count   top_k  \\\n",
       "0  <think>\\n\\n</think>\\n\\n## Query Analysis Resul...            17  1000.0   \n",
       "1  <think>\\n\\n</think>\\n\\n## Query Analysis Resul...            10  1000.0   \n",
       "2  <think>\\n\\n</think>\\n\\n## Query Analysis Resul...            10  1000.0   \n",
       "3  <think>\\n\\n</think>\\n\\n## Query Analysis Resul...            34  1000.0   \n",
       "4  <think>\\n\\n</think>\\n\\n## Query Analysis Resul...            10  1000.0   \n",
       "\n",
       "   n_keywords  r_id_index  s_id_index  \n",
       "0         2.0        14.0         NaN  \n",
       "1         2.0         7.0         NaN  \n",
       "2         2.0         5.0         NaN  \n",
       "3         2.0        22.0         NaN  \n",
       "4         2.0         5.0         NaN  "
      ]
     },
     "execution_count": 7,
     "metadata": {},
     "output_type": "execute_result"
    }
   ],
   "source": [
    "keywords_gt.head()"
   ]
  },
  {
   "cell_type": "code",
   "execution_count": 8,
   "id": "f1191b13-792f-47a0-8d86-b6372937bd64",
   "metadata": {},
   "outputs": [
    {
     "data": {
      "text/plain": [
       "(100, 18)"
      ]
     },
     "execution_count": 8,
     "metadata": {},
     "output_type": "execute_result"
    }
   ],
   "source": [
    "data = keywords_gt[\n",
    "    (keywords_gt['n_keywords'] == 2) & \n",
    "    (keywords_gt['presence'] == 1) &\n",
    "    (keywords_gt['r_id_index'] < 50) &\n",
    "    ((keywords_gt['s_id_index'] < 50) | (pd.isna(keywords_gt['s_id_index'])))\n",
    "].iloc[:].sample(100, random_state=42)\n",
    "\n",
    "data.shape"
   ]
  },
  {
   "cell_type": "code",
   "execution_count": 9,
   "id": "ac2445b5",
   "metadata": {},
   "outputs": [
    {
     "data": {
      "text/plain": [
       "7"
      ]
     },
     "execution_count": 9,
     "metadata": {},
     "output_type": "execute_result"
    }
   ],
   "source": [
    "data[(data['r_id_index'] < 30) & (data['s_id_index'] < 30)].shape[0]"
   ]
  },
  {
   "cell_type": "markdown",
   "id": "8972371f",
   "metadata": {},
   "source": [
    "## Fetching Packages and relative Tables"
   ]
  },
  {
   "cell_type": "code",
   "execution_count": 8,
   "id": "d6bae1d7",
   "metadata": {},
   "outputs": [],
   "source": [
    "from ckan import CanadaCKAN\n",
    "\n",
    "ckan_client = CanadaCKAN() "
   ]
  },
  {
   "cell_type": "code",
   "execution_count": null,
   "id": "96f6bb7f",
   "metadata": {},
   "outputs": [
    {
     "data": {
      "text/plain": [
       "'12c89aa5-063a-f0ed-334a-3019133b9ee8'"
      ]
     },
     "execution_count": 137,
     "metadata": {},
     "output_type": "execute_result"
    }
   ],
   "source": [
    "data.iloc[0]['r_pkg_id']"
   ]
  },
  {
   "cell_type": "code",
   "execution_count": 139,
   "id": "1b224efc",
   "metadata": {},
   "outputs": [],
   "source": [
    "r = ckan_client.package_show(id=data.iloc[0]['r_pkg_id'])"
   ]
  },
  {
   "cell_type": "code",
   "execution_count": 145,
   "id": "dd74333d",
   "metadata": {},
   "outputs": [],
   "source": [
    "del r['result']['resources']"
   ]
  },
  {
   "cell_type": "code",
   "execution_count": 147,
   "id": "80c7520c",
   "metadata": {},
   "outputs": [
    {
     "data": {
      "text/plain": [
       "{'aggregate_identifier': '',\n",
       " 'association_type': [],\n",
       " 'audience': [],\n",
       " 'author': None,\n",
       " 'author_email': None,\n",
       " 'collection': 'federated',\n",
       " 'contact_information': '{\"fr\": {\"organization_name\": \"Finances et Conseil du Trésor\",\"electronic_mail_address\": \"opendatadonneesouvertes@snb.ca\"},\"en\": {\"organization_name\": \"Finance and Treasury Board\",\"electronic_mail_address\": \"opendatadonneesouvertes@snb.ca\"}}',\n",
       " 'contributor': {},\n",
       " 'creator_user_id': 'b88b9549-3a4b-43a9-9375-5f3fc20fe782',\n",
       " 'data_series_issue_identification': {},\n",
       " 'data_series_name': {},\n",
       " 'date_published': '2021-10-28 00:00:00',\n",
       " 'display_flags': [],\n",
       " 'federated_date_modified': '2024-07-09',\n",
       " 'file_id': '12c89aa5-063a-f0ed-334a-3019133b9ee8',\n",
       " 'frequency': 'unknown',\n",
       " 'geographic_region': [],\n",
       " 'hierarchy_level': 'dataset; jeuDonnées',\n",
       " 'id': '12c89aa5-063a-f0ed-334a-3019133b9ee8',\n",
       " 'imso_approval': 'true',\n",
       " 'isopen': False,\n",
       " 'jurisdiction': 'provincial',\n",
       " 'keywords': {'en': ['supplier lists',\n",
       "   'listes de fournisseurs',\n",
       "   'public accounts',\n",
       "   'comptes publics'],\n",
       "  'fr': ['listes de fournisseurs',\n",
       "   'suppliers lists',\n",
       "   'comptes publics',\n",
       "   'public accounts']},\n",
       " 'license_id': 'nb-oglnb',\n",
       " 'license_title': 'Open Government Licence - New Brunswick',\n",
       " 'license_url': 'http://www.snb.ca/e/2000/data-E.html',\n",
       " 'maintainer': None,\n",
       " 'maintainer_contact_form': {'en': '', 'fr': ''},\n",
       " 'maintainer_email': 'opendatadonneesouvertes@snb.ca',\n",
       " 'metadata_contact': {'en': 'Finance and Treasury Board',\n",
       "  'fr': 'Finances et Conseil du Trésor'},\n",
       " 'metadata_created': '2021-12-21T17:56:29.206069',\n",
       " 'metadata_modified': '2024-07-24T15:55:16.157180',\n",
       " 'name': '12c89aa5-063a-f0ed-334a-3019133b9ee8',\n",
       " 'notes': 'Supplier, grant, loans and purchase card payment information is for the fiscal year ended March 31, 2020. See \"2020-Supplier Lists - Guide to Disclosure_Listes de fournisseurs - Guide de divulgation.pdf\" under Attachments below for further information regarding the disclosures.',\n",
       " 'notes_translated': {'en': 'Supplier, grant, loans and purchase card payment information is for the fiscal year ended March 31, 2020. See \"2020-Supplier Lists - Guide to Disclosure_Listes de fournisseurs - Guide de divulgation.pdf\" under Attachments below for further information regarding the disclosures.',\n",
       "  'fr': \"L’information sur les paiements versés aux fournisseurs, les paiements des subventions, les versements de prêts et les paiements au titre des cartes d'achat est présentée pour l’exercice terminé le 31 mars 2020. Voir « 2020-Supplier Lists - Guide to Disclosure_Listes de fournisseurs - Guide de divulgation.pdf » dans les Pièces-jointes ci-dessous pour plus d'informations concernant les divulgations.\"},\n",
       " 'num_resources': 9,\n",
       " 'num_tags': 0,\n",
       " 'org_section': {},\n",
       " 'org_title_at_publication': {'en': 'Government of New Brunswick',\n",
       "  'fr': 'Gouvernement du Nouveau-Brunswick'},\n",
       " 'organization': {'id': '15f95d08-fb23-48d4-876e-2f29e1916b55',\n",
       "  'name': 'nb',\n",
       "  'title': 'Government of New Brunswick | Gouvernement du Nouveau-Brunswick',\n",
       "  'type': 'organization',\n",
       "  'description': '',\n",
       "  'image_url': '',\n",
       "  'created': '2020-05-14T14:46:30.600688',\n",
       "  'is_organization': True,\n",
       "  'approval_status': 'approved',\n",
       "  'state': 'active'},\n",
       " 'owner_org': '15f95d08-fb23-48d4-876e-2f29e1916b55',\n",
       " 'place_of_publication': [],\n",
       " 'position_name': {},\n",
       " 'private': False,\n",
       " 'program_page_url': {},\n",
       " 'ready_to_publish': 'true',\n",
       " 'responsible_role': 'RI_414',\n",
       " 'restrictions': 'unrestricted',\n",
       " 'spatial_representation_type': [],\n",
       " 'state': 'active',\n",
       " 'subject': ['government_and_politics'],\n",
       " 'time_period_coverage_start': '0001-01-01 00:00:00',\n",
       " 'title': '2020 - Supplier and Grant Payments by Department',\n",
       " 'title_translated': {'en': '2020 - Supplier and Grant Payments by Department',\n",
       "  'fr': 'Paiements aux fournisseurs et des subventions par ministère'},\n",
       " 'topic_category': ['society'],\n",
       " 'type': 'dataset',\n",
       " 'url': None,\n",
       " 'version': None,\n",
       " 'tags': [],\n",
       " 'groups': [],\n",
       " 'relationships_as_subject': [],\n",
       " 'relationships_as_object': []}"
      ]
     },
     "execution_count": 147,
     "metadata": {},
     "output_type": "execute_result"
    }
   ],
   "source": [
    "r['result']"
   ]
  },
  {
   "cell_type": "code",
   "execution_count": 9,
   "id": "ad5c7d2c",
   "metadata": {},
   "outputs": [
    {
     "name": "stdout",
     "output_type": "stream",
     "text": [
      "https://open.canada.ca/data/api/3/action/package_search?q=suppliers+payments&rows=20&defType=edismax&sort=sort desc\n"
     ]
    },
    {
     "data": {
      "text/plain": [
       "53"
      ]
     },
     "execution_count": 9,
     "metadata": {},
     "output_type": "execute_result"
    }
   ],
   "source": [
    "import os\n",
    "import shutil\n",
    "\n",
    "shutil.rmtree('tmp')\n",
    "os.makedirs('tmp', exist_ok=True)\n",
    "\n",
    "cnt = ckan_client.download_tables_from_package_search('tmp', 'csv', 3, q='suppliers+payments', rows=20, defType='edismax', sort='sort desc')\n",
    "\n",
    "cnt"
   ]
  },
  {
   "cell_type": "code",
   "execution_count": 10,
   "id": "96a8dd0a",
   "metadata": {},
   "outputs": [
    {
     "data": {
      "text/plain": [
       "(True, True)"
      ]
     },
     "execution_count": 10,
     "metadata": {},
     "output_type": "execute_result"
    }
   ],
   "source": [
    "resource_ids = list(map(lambda s: s.removesuffix('.csv'), os.listdir('tmp')))\n",
    "\n",
    "data['r_rsc_id'][0] in resource_ids, data['s_rsc_id'][0] in resource_ids"
   ]
  },
  {
   "cell_type": "markdown",
   "id": "30e632e3",
   "metadata": {},
   "source": [
    "## Setup the BLEND index with ALL the downloaded resources"
   ]
  },
  {
   "cell_type": "code",
   "execution_count": 7,
   "id": "d60431ce",
   "metadata": {},
   "outputs": [],
   "source": [
    "import blend\n",
    "\n",
    "searcher = blend.BLEND(os.path.join('data', 'blend.db'))"
   ]
  },
  {
   "cell_type": "code",
   "execution_count": 8,
   "id": "d7a653d7",
   "metadata": {},
   "outputs": [
    {
     "data": {
      "text/plain": [
       "<blend.DBHandler.DBHandler at 0x706c98f5ac90>"
      ]
     },
     "execution_count": 8,
     "metadata": {},
     "output_type": "execute_result"
    }
   ],
   "source": [
    "searcher._db_handler"
   ]
  },
  {
   "cell_type": "code",
   "execution_count": 10,
   "id": "1eb3e3df",
   "metadata": {},
   "outputs": [],
   "source": [
    "import duckdb\n",
    "dbcon = duckdb.connect(os.path.join('data', 'blend.db'))\n",
    "dbcon.close()"
   ]
  },
  {
   "cell_type": "code",
   "execution_count": 4,
   "id": "ea49d52b",
   "metadata": {},
   "outputs": [],
   "source": [
    "dbcon.sql(\"DROP TABLE IF EXISTS AllTables CASCADE;\")"
   ]
  },
  {
   "cell_type": "code",
   "execution_count": null,
   "id": "ca019132",
   "metadata": {},
   "outputs": [
    {
     "name": "stderr",
     "output_type": "stream",
     "text": [
      "Parsing and storing tables:   0%|          | 0/10 [00:45<?, ?it/s]\n"
     ]
    }
   ],
   "source": [
    "subset_ids = os.listdir(os.path.join('data', 'tmp'))[:10]\n",
    "searcher.create_index(os.path.join('data', 'tmp'), subset_ids, max_workers=6, limit_table_rows=100, verbose=True)"
   ]
  },
  {
   "cell_type": "code",
   "execution_count": 5,
   "id": "bd97b063",
   "metadata": {},
   "outputs": [
    {
     "name": "stdout",
     "output_type": "stream",
     "text": [
      "┌──────────────────────────────────────────────┬──────────────────────────────────────┬──────────┬────────┬──────────────────┬─────────────┬──────────┬──────────────────────────────────────────────────────────────────────────────────────────────────────────────────────────────────┐\n",
      "│                  CellValue                   │               TableId                │ ColumnId │ RowId  │ GranularityClass │ Granularity │ Quadrant │                                                             SuperKey                                                             │\n",
      "│                   varchar                    │               varchar                │  uint32  │ uint32 │     varchar      │   varchar   │ boolean  │                                                               blob                                                               │\n",
      "├──────────────────────────────────────────────┼──────────────────────────────────────┼──────────┼────────┼──────────────────┼─────────────┼──────────┼──────────────────────────────────────────────────────────────────────────────────────────────────────────────────────────────────┤\n",
      "│ 0702755 b.c. ltd.                            │ c53c8f11-f8b5-4ca5-8bc7-68c92774d03c │        0 │      0 │ NULL             │ base        │ NULL     │ 00000001000000001000000000000000000000000001000000000000000000000000000000000000010100000000100010000000000000000000100010010000 │\n",
      "│ 0705180 b.c. ltd.                            │ c53c8f11-f8b5-4ca5-8bc7-68c92774d03c │        0 │      1 │ NULL             │ base        │ NULL     │ 00000001000000001000000001001000001000000000001000000000000000000000000000000000010000010000010000000000000000000000000000010000 │\n",
      "│ 0707249 b.c. ltd.                            │ c53c8f11-f8b5-4ca5-8bc7-68c92774d03c │        0 │      2 │ NULL             │ base        │ NULL     │ 00000010000000001000010000000000000001000001000000000000000000000000000101000000000000000000100000000000000000000000000010010000 │\n",
      "│ 0724686 b.c. ltd.                            │ c53c8f11-f8b5-4ca5-8bc7-68c92774d03c │        0 │      3 │ NULL             │ base        │ NULL     │ 00000001000000001000000001001000000001000001000001000000000000000000000000010000000000000000010000100000000000000000000000000000 │\n",
      "│ 0724848 b.c. ltd.                            │ c53c8f11-f8b5-4ca5-8bc7-68c92774d03c │        0 │      4 │ NULL             │ base        │ NULL     │ 00000001000000001000000000001000000000000001000001000000000000000000000000000000000000010100100000000000000000000000000010010000 │\n",
      "│ 0731010 b.c. ltd.                            │ c53c8f11-f8b5-4ca5-8bc7-68c92774d03c │        0 │      5 │ NULL             │ base        │ NULL     │ 00000001000000001000000000001000000000001000000000000000000000000000000000000000100000010000000010000000000000000000100010010000 │\n",
      "│ 0734121 b.c. ltd.                            │ c53c8f11-f8b5-4ca5-8bc7-68c92774d03c │        0 │      6 │ NULL             │ base        │ NULL     │ 00000010000000001000000000001000000001001001000001000000000000000000000000000001000100000000010000000000000000000000000000000000 │\n",
      "│ 0735677 b.c. ltd.                            │ c53c8f11-f8b5-4ca5-8bc7-68c92774d03c │        0 │      7 │ NULL             │ base        │ NULL     │ 00000001000000001000000000000001001000001000000001000000000000000000000000000000000000000010010100000000000000000000000000010000 │\n",
      "│ 0739959 b.c. ltd.                            │ c53c8f11-f8b5-4ca5-8bc7-68c92774d03c │        0 │      8 │ NULL             │ base        │ NULL     │ 00000010000000001000000000001000001000001000000001000000000000000000001000001000000000000000010000000000000000000000000000010000 │\n",
      "│ 0745248 b.c. ltd.                            │ c53c8f11-f8b5-4ca5-8bc7-68c92774d03c │        0 │      9 │ NULL             │ base        │ NULL     │ 00000010000000001000000010001000001000000001000001000000000000000000000000000000001000100000100000000000000000000000000000000000 │\n",
      "│         ·                                    │                  ·                   │        · │      · │  ·               │  ·          │  ·       │                                                                ·                                                                 │\n",
      "│         ·                                    │                  ·                   │        · │      · │  ·               │  ·          │  ·       │                                                                ·                                                                 │\n",
      "│         ·                                    │                  ·                   │        · │      · │  ·               │  ·          │  ·       │                                                                ·                                                                 │\n",
      "│ payments & grants / paiements et subventions │ a99c50a4-a2f8-4613-9f51-2c5ebb6f4445 │        2 │     90 │ NULL             │ base        │ NULL     │ 00100010001000000010000000010000000000000000100000000000010000000000000000100000000000000000000010000010000000011010000000000000 │\n",
      "│ payments & grants / paiements et subventions │ a99c50a4-a2f8-4613-9f51-2c5ebb6f4445 │        2 │     91 │ NULL             │ base        │ NULL     │ 00000011010000000010000000000000000000000000101000000000010000100000100000000000000000000010010000000000100000001000000000000001 │\n",
      "│ payments & grants / paiements et subventions │ a99c50a4-a2f8-4613-9f51-2c5ebb6f4445 │        2 │     92 │ NULL             │ base        │ NULL     │ 00000010001010000010000000000000000000000010100000000000010000000100000000010000000000000000100000100100000001000001010000000000 │\n",
      "│ payments & grants / paiements et subventions │ a99c50a4-a2f8-4613-9f51-2c5ebb6f4445 │        2 │     93 │ NULL             │ base        │ NULL     │ 00010010001000000010000001000000100000000001100000000000010000000000000000000000000000000000011000010000000000001000000010000000 │\n",
      "│ payments & grants / paiements et subventions │ a99c50a4-a2f8-4613-9f51-2c5ebb6f4445 │        2 │     94 │ NULL             │ base        │ NULL     │ 00000110010000000010000000000000000010000000100001000000010000000000000000000000000000000100000000000000001001011000000010000000 │\n",
      "│ payments & grants / paiements et subventions │ a99c50a4-a2f8-4613-9f51-2c5ebb6f4445 │        2 │     95 │ NULL             │ base        │ NULL     │ 00000011001000000010000000000000000000000000101000100001011000100000000000000000000000000000010000010000000000001000010000000000 │\n",
      "│ payments & grants / paiements et subventions │ a99c50a4-a2f8-4613-9f51-2c5ebb6f4445 │        2 │     96 │ NULL             │ base        │ NULL     │ 00000010001000100010000000000000000000000000100000000000010000000000000100100011000000000000010100001001000000000000000000000000 │\n",
      "│ payments & grants / paiements et subventions │ a99c50a4-a2f8-4613-9f51-2c5ebb6f4445 │        2 │     97 │ NULL             │ base        │ NULL     │ 00000010011000000010000000010000000000000000100100000000110000000000000100000000001000000000010001000001000010000000000000000000 │\n",
      "│ payments & grants / paiements et subventions │ a99c50a4-a2f8-4613-9f51-2c5ebb6f4445 │        2 │     98 │ NULL             │ base        │ NULL     │ 00000110001000000010000000000000000000000000100000000000010000000000000000000000010000010000000000001010000100010000000000000000 │\n",
      "│ payments & grants / paiements et subventions │ a99c50a4-a2f8-4613-9f51-2c5ebb6f4445 │        2 │     99 │ NULL             │ base        │ NULL     │ 00000010010000010010000000000000000000000000100000000000010000000000000000000000000000000100001010100000000001100001000001000000 │\n",
      "├──────────────────────────────────────────────┴──────────────────────────────────────┴──────────┴────────┴──────────────────┴─────────────┴──────────┴──────────────────────────────────────────────────────────────────────────────────────────────────────────────────────────────────┤\n",
      "│ 2288 rows (20 shown)                                                                                                                                                                                                                                                         8 columns │\n",
      "└────────────────────────────────────────────────────────────────────────────────────────────────────────────────────────────────────────────────────────────────────────────────────────────────────────────────────────────────────────────────────────────────────────────────────────┘\n",
      "\n"
     ]
    }
   ],
   "source": [
    "import duckdb\n",
    "\n",
    "dbcon = duckdb.connect(os.path.join('data', 'blend.db'))\n",
    "dbcon.table('AllTables').show()"
   ]
  },
  {
   "cell_type": "code",
   "execution_count": 141,
   "id": "834310bd",
   "metadata": {},
   "outputs": [
    {
     "data": {
      "text/plain": [
       "┌──────────────┐\n",
       "│ count_star() │\n",
       "│    int64     │\n",
       "├──────────────┤\n",
       "│         2288 │\n",
       "└──────────────┘"
      ]
     },
     "execution_count": 141,
     "metadata": {},
     "output_type": "execute_result"
    }
   ],
   "source": [
    "dbcon.sql(\"SELECT COUNT(*) FROM AllTables;\")"
   ]
  },
  {
   "cell_type": "code",
   "execution_count": null,
   "id": "6bee5b0a",
   "metadata": {},
   "outputs": [],
   "source": [
    "import os\n",
    "import re\n",
    "from typing import Dict, List, Literal\n",
    "\n",
    "import polars as pl\n",
    "\n",
    "from blend import BLEND\n",
    "\n",
    "\n",
    "def search_single_joins(\n",
    "    tables_path: str,\n",
    "    searcher: BLEND | None = None,\n",
    "    db_path: str | None = None,\n",
    "    table_ids: List[str] | None = None,\n",
    "    format: Literal[\"csv\", \"parquet\"] = \"csv\",\n",
    "    join_on_columns: Dict[str, List[int]] | None = None,\n",
    "    k: int = 3,\n",
    "    **blend_kwargs,\n",
    ") -> List[Dict]:\n",
    "    \"\"\"\n",
    "    Run a single-column-join search on the given tables.\n",
    "\n",
    "    :param tables_path: directory where table (CSV/parquet) files are stored.\n",
    "    :param searcher: an instance of BLEND searcher. If None, db_path is required to create a new one.\n",
    "    :param db_path: a path where to store the BLEND database, required if searcher parameter is None.\n",
    "    :param table_ids: a subset of table IDs (without any type extension) to use for the search. If None, all tables are used.\n",
    "    :param format: format of tables. Default is CSV.\n",
    "    :param join_on_columns: a dictionary where, for each table,\n",
    "                            is provided a list of columns on which the search is performed.\n",
    "                            If None, the search is done over every column of every tables.\n",
    "    :param k: number of results to return for each search.\n",
    "    :param blend_kwargs: keyword arguments passed to blend.create_index.\n",
    "    :return: a list of dictionaries, where each reports the pair of tablees and columns and the relative overlap.\n",
    "    \"\"\"\n",
    "\n",
    "    # take table IDs\n",
    "    table_ids = list(filter(\n",
    "        lambda _id: True if table_ids is None else _id in table_ids,\n",
    "        map(lambda _id: re.sub(r\"(.csv|.parquet)$\", \"\", _id), os.listdir(tables_path)),\n",
    "    ))\n",
    "\n",
    "    if not searcher:\n",
    "        searcher = BLEND(db_path)\n",
    "        searcher.create_index(data_path=tables_path, **blend_kwargs)\n",
    "\n",
    "    results = []\n",
    "\n",
    "    for table_id in table_ids:\n",
    "        n_rows = blend_kwargs.get(\"limit_table_rows\", None)\n",
    "\n",
    "        # read the current query table\n",
    "        match format:\n",
    "            case \"csv\":\n",
    "                df = pl.read_csv(\n",
    "                    os.path.join(tables_path, table_id + \".csv\"), n_rows=n_rows\n",
    "                )\n",
    "            case \"parquet\":\n",
    "                df = pl.read_parquet(\n",
    "                    os.path.join(tables_path, table_id + \".parquet\"), r_rows=n_rows\n",
    "                )\n",
    "\n",
    "        # for each column, perform a signle-join-search\n",
    "        for column in df.columns:\n",
    "            # if this column is not in the subset of\n",
    "            # selected columns for this table, continue\n",
    "            if (\n",
    "                join_on_columns\n",
    "                and table_id in join_on_columns\n",
    "                and column not in join_on_columns[table_id]\n",
    "            ):\n",
    "                continue\n",
    "\n",
    "            query_values = df.get_column(column).to_list()\n",
    "\n",
    "            # perform the search with BLEND\n",
    "            res = searcher.single_column_join_search(query_values, k)\n",
    "\n",
    "            for res_table_id, res_column_id, overlap in res:\n",
    "                match format:\n",
    "                    case \"csv\":\n",
    "                        r_df = pl.read_csv(\n",
    "                            os.path.join(tables_path, res_table_id + \".csv\"), n_rows=0\n",
    "                        )\n",
    "                    case \"parquet\":\n",
    "                        r_df = pl.read_parquet(\n",
    "                            os.path.join(tables_path, res_table_id + \".parquet\"),\n",
    "                            r_rows=0,\n",
    "                        )\n",
    "\n",
    "                results.append(\n",
    "                    {\n",
    "                        \"left_table\": table_id,\n",
    "                        \"left_column\": column,\n",
    "                        \"right_table\": res_table_id,\n",
    "                        \"right_column\": r_df.columns[res_column_id],\n",
    "                        \"overlap\": overlap,\n",
    "                    }\n",
    "                )\n",
    "\n",
    "    return results\n",
    "\n",
    "\n",
    "def main():\n",
    "    pass\n",
    "\n",
    "\n",
    "if __name__ == \"__main__\":\n",
    "    main()\n"
   ]
  },
  {
   "cell_type": "code",
   "execution_count": 5,
   "id": "b3fb8fe5",
   "metadata": {},
   "outputs": [
    {
     "name": "stdout",
     "output_type": "stream",
     "text": [
      "['f4b00406-0e71-4ac1-b78b-0faa732a210e', '77296379-7101-4638-a0e8-ad779996f010']\n"
     ]
    }
   ],
   "source": [
    "import re \n",
    "\n",
    "query_tables = os.listdir(os.path.join('data', 'tmp'))[11:13]\n",
    "query_tables = list(map(lambda _id: re.sub(r\"(\\.csv|\\.parquet)\", \"\", _id), query_tables))\n",
    "\n",
    "results = search_single_joins(os.path.join('data', 'tmp'), searcher, os.path.join('data', 'blend.db'), query_tables)"
   ]
  },
  {
   "cell_type": "code",
   "execution_count": 6,
   "id": "1db3f792",
   "metadata": {},
   "outputs": [
    {
     "data": {
      "text/plain": [
       "[{'left_table': 'f4b00406-0e71-4ac1-b78b-0faa732a210e',\n",
       "  'left_column': 'Payment / Paiement',\n",
       "  'right_table': 'f838d643-e46c-4c90-adf2-d5b8ea694298',\n",
       "  'right_column': 'Payment / Paiement',\n",
       "  'overlap': 10},\n",
       " {'left_table': 'f4b00406-0e71-4ac1-b78b-0faa732a210e',\n",
       "  'left_column': 'Payment / Paiement',\n",
       "  'right_table': '18c17dcf-617d-44d7-b351-6fd7c3fc6b48',\n",
       "  'right_column': 'Amount',\n",
       "  'overlap': 4},\n",
       " {'left_table': 'f4b00406-0e71-4ac1-b78b-0faa732a210e',\n",
       "  'left_column': 'Payment / Paiement',\n",
       "  'right_table': 'a99c50a4-a2f8-4613-9f51-2c5ebb6f4445',\n",
       "  'right_column': 'Payment / Paiement',\n",
       "  'overlap': 3},\n",
       " {'left_table': '77296379-7101-4638-a0e8-ad779996f010',\n",
       "  'left_column': 'Payment / Paiement',\n",
       "  'right_table': 'f838d643-e46c-4c90-adf2-d5b8ea694298',\n",
       "  'right_column': 'Payment / Paiement',\n",
       "  'overlap': 100},\n",
       " {'left_table': '77296379-7101-4638-a0e8-ad779996f010',\n",
       "  'left_column': 'Payment / Paiement',\n",
       "  'right_table': 'a99c50a4-a2f8-4613-9f51-2c5ebb6f4445',\n",
       "  'right_column': 'Payment / Paiement',\n",
       "  'overlap': 4},\n",
       " {'left_table': '77296379-7101-4638-a0e8-ad779996f010',\n",
       "  'left_column': 'Payment / Paiement',\n",
       "  'right_table': '18c17dcf-617d-44d7-b351-6fd7c3fc6b48',\n",
       "  'right_column': 'Amount',\n",
       "  'overlap': 2}]"
      ]
     },
     "execution_count": 6,
     "metadata": {},
     "output_type": "execute_result"
    }
   ],
   "source": [
    "results"
   ]
  },
  {
   "cell_type": "code",
   "execution_count": null,
   "id": "28707abb-d3f7-440a-a05e-542ed38bd05f",
   "metadata": {},
   "outputs": [],
   "source": [
    "s_rsc_metadata = ckan_client.resource_show(resource_id=data['s_rsc_id'][0])"
   ]
  },
  {
   "cell_type": "code",
   "execution_count": null,
   "id": "8b9d841b",
   "metadata": {},
   "outputs": [],
   "source": [
    "response = ckan_client.package_search(\"payment+supplier\", 3)"
   ]
  },
  {
   "cell_type": "markdown",
   "id": "b7cb8842",
   "metadata": {},
   "source": [
    "## Packages pre-filtering"
   ]
  },
  {
   "cell_type": "markdown",
   "id": "9843d8b8",
   "metadata": {},
   "source": [
    "If we can **pre-filter** tables by checking their relevance from package metadata, we can download and post-process **few data** and **reduce the search space** for the subsequent table-selector agent"
   ]
  },
  {
   "cell_type": "markdown",
   "id": "f56b3276",
   "metadata": {},
   "source": [
    "### Setup Agent and Prompts"
   ]
  },
  {
   "cell_type": "code",
   "execution_count": 4,
   "id": "dba825cf",
   "metadata": {},
   "outputs": [],
   "source": [
    "import os\n",
    "\n",
    "from dotenv import load_dotenv\n",
    "from autogen_core.models import UserMessage\n",
    "from autogen_agentchat.agents import AssistantAgent\n",
    "from autogen_agentchat.messages import StructuredMessage\n",
    "from autogen_agentchat.ui import Console\n",
    "from autogen_ext.models.openai import OpenAIChatCompletionClient"
   ]
  },
  {
   "cell_type": "code",
   "execution_count": 5,
   "id": "7a1b7d83",
   "metadata": {},
   "outputs": [],
   "source": [
    "# same seed for any random operation\n",
    "seed = 42\n",
    "\n",
    "# Load environment variables from .env file\n",
    "load_dotenv()\n",
    "assert \"TOGETHER_API_KEY\" in os.environ\n",
    "\n",
    "settings = {\n",
    "    \"model\": \"Qwen/Qwen3-235B-A22B-fp8-tput\",\n",
    "    \"temperature\": 0.1,\n",
    "    \"top_p\": 1,\n",
    "    \"frequency_penalty\": 0,\n",
    "    \"presence_penalty\": 0,\n",
    "    \"max_tokens\": 10000,\n",
    "}\n",
    "\n",
    "model_client = OpenAIChatCompletionClient(\n",
    "    base_url = \"https://api.together.xyz/v1/\",\n",
    "    api_key=os.getenv(\"TOGETHER_API_KEY\", \"\"),\n",
    "    model_info= {\n",
    "        \"vision\": False,\n",
    "        \"function_calling\": True,\n",
    "        \"json_output\": True,\n",
    "        \"family\": \"unknown\",\n",
    "        \"structured_output\": True\n",
    "    },\n",
    "    **settings   \n",
    ")"
   ]
  },
  {
   "cell_type": "code",
   "execution_count": 91,
   "id": "c5df4c9f",
   "metadata": {},
   "outputs": [],
   "source": [
    "with open(os.path.join('prompts', 'TablePreFilter.md')) as file:\n",
    "    TABLE_PRE_FILTER_SYSTEM_PROMPT = file.read()\n",
    "\n",
    "with open(os.path.join('prompts', 'TablePreFilter-task.md')) as file:\n",
    "    TABLE_PRE_FILTER_TASK_PROMPT = file.read()\n",
    "\n",
    "with open(os.path.join('prompts', 'TablePreFilter-allatonce.md')) as file:\n",
    "    TABLE_PRE_FILTER_ALL_SYSTEM_PROMPT = file.read()\n",
    "\n",
    "TABLE_PRE_FILTER_ALL_TASK_QUESTION_PROMPT = \"<question>{question}</question>\"\n",
    "TABLE_PRE_FILTER_ALL_TASK_PACKAGE_PROMPT = \"<package>{title}</package><notes>{notes}</notes>\""
   ]
  },
  {
   "cell_type": "code",
   "execution_count": 74,
   "id": "8d1156d6",
   "metadata": {},
   "outputs": [],
   "source": [
    "# analyze packages one-by-one, \n",
    "# without a overall view of available packages\n",
    "analyzer = AssistantAgent(\n",
    "    name=\"TablePreFilter\", \n",
    "    model_client=model_client, \n",
    "    system_message=TABLE_PRE_FILTER_SYSTEM_PROMPT\n",
    ")"
   ]
  },
  {
   "cell_type": "code",
   "execution_count": 92,
   "id": "2f74affd",
   "metadata": {},
   "outputs": [],
   "source": [
    "# analyze packages all-at-once\n",
    "analyzer_all = AssistantAgent(\n",
    "    name=\"TablePreFilter_all\", \n",
    "    model_client=model_client, \n",
    "    system_message=TABLE_PRE_FILTER_ALL_SYSTEM_PROMPT\n",
    ")"
   ]
  },
  {
   "cell_type": "markdown",
   "id": "768d3498",
   "metadata": {},
   "source": [
    "### Prepare data for querying the agent"
   ]
  },
  {
   "cell_type": "code",
   "execution_count": 68,
   "id": "70f82146",
   "metadata": {},
   "outputs": [
    {
     "data": {
      "text/html": [
       "<div>\n",
       "<style scoped>\n",
       "    .dataframe tbody tr th:only-of-type {\n",
       "        vertical-align: middle;\n",
       "    }\n",
       "\n",
       "    .dataframe tbody tr th {\n",
       "        vertical-align: top;\n",
       "    }\n",
       "\n",
       "    .dataframe thead th {\n",
       "        text-align: right;\n",
       "    }\n",
       "</style>\n",
       "<table border=\"1\" class=\"dataframe\">\n",
       "  <thead>\n",
       "    <tr style=\"text-align: right;\">\n",
       "      <th></th>\n",
       "      <th>country_tag</th>\n",
       "      <th>type</th>\n",
       "      <th>difficulty</th>\n",
       "      <th>r_rsc_id</th>\n",
       "      <th>s_rsc_id</th>\n",
       "      <th>r_pkg_id</th>\n",
       "      <th>s_pkg_id</th>\n",
       "      <th>r_col_name</th>\n",
       "      <th>s_col_name</th>\n",
       "      <th>nl</th>\n",
       "      <th>top_k</th>\n",
       "      <th>n_keywords</th>\n",
       "      <th>keywords</th>\n",
       "      <th>presence</th>\n",
       "      <th>result_count</th>\n",
       "      <th>r_id_index</th>\n",
       "      <th>s_id_index</th>\n",
       "      <th>prompt_tokens</th>\n",
       "      <th>completion_tokens</th>\n",
       "      <th>response</th>\n",
       "    </tr>\n",
       "  </thead>\n",
       "  <tbody>\n",
       "    <tr>\n",
       "      <th>0</th>\n",
       "      <td>CAN</td>\n",
       "      <td>multi-table-join</td>\n",
       "      <td>simple</td>\n",
       "      <td>ce336623-43d6-4e5d-81d8-26fb9145cf92</td>\n",
       "      <td>ab5df4ac-7f55-461b-934f-d7af48d18e6f</td>\n",
       "      <td>2f40fb8f-a9e7-4f5b-94e9-04fbfaa10676</td>\n",
       "      <td>2013c544-62e8-4485-ad4b-6e5ba5e373b9</td>\n",
       "      <td>coa_segment_04_l3_and_desc</td>\n",
       "      <td>coa_segment_04_l3_and_desc</td>\n",
       "      <td>How do the operating expenses for different fi...</td>\n",
       "      <td>1000</td>\n",
       "      <td>2</td>\n",
       "      <td>british columbia+operating expenses</td>\n",
       "      <td>1</td>\n",
       "      <td>47</td>\n",
       "      <td>0.0</td>\n",
       "      <td>31.0</td>\n",
       "      <td>649</td>\n",
       "      <td>19</td>\n",
       "      <td>&lt;think&gt;\\n\\n&lt;/think&gt;\\n\\n&lt;keywords&gt;british colum...</td>\n",
       "    </tr>\n",
       "  </tbody>\n",
       "</table>\n",
       "</div>"
      ],
      "text/plain": [
       "  country_tag              type difficulty  \\\n",
       "0         CAN  multi-table-join     simple   \n",
       "\n",
       "                               r_rsc_id                              s_rsc_id  \\\n",
       "0  ce336623-43d6-4e5d-81d8-26fb9145cf92  ab5df4ac-7f55-461b-934f-d7af48d18e6f   \n",
       "\n",
       "                               r_pkg_id                              s_pkg_id  \\\n",
       "0  2f40fb8f-a9e7-4f5b-94e9-04fbfaa10676  2013c544-62e8-4485-ad4b-6e5ba5e373b9   \n",
       "\n",
       "                   r_col_name                  s_col_name  \\\n",
       "0  coa_segment_04_l3_and_desc  coa_segment_04_l3_and_desc   \n",
       "\n",
       "                                                  nl  top_k  n_keywords  \\\n",
       "0  How do the operating expenses for different fi...   1000           2   \n",
       "\n",
       "                              keywords  presence  result_count  r_id_index  \\\n",
       "0  british columbia+operating expenses         1            47         0.0   \n",
       "\n",
       "   s_id_index  prompt_tokens  completion_tokens  \\\n",
       "0        31.0            649                 19   \n",
       "\n",
       "                                            response  \n",
       "0  <think>\\n\\n</think>\\n\\n<keywords>british colum...  "
      ]
     },
     "execution_count": 68,
     "metadata": {},
     "output_type": "execute_result"
    }
   ],
   "source": [
    "data"
   ]
  },
  {
   "cell_type": "code",
   "execution_count": 69,
   "id": "3631b672",
   "metadata": {},
   "outputs": [
    {
     "data": {
      "text/plain": [
       "'british columbia+operating expenses'"
      ]
     },
     "execution_count": 69,
     "metadata": {},
     "output_type": "execute_result"
    }
   ],
   "source": [
    "keywords = data['keywords'][0]\n",
    "keywords"
   ]
  },
  {
   "cell_type": "code",
   "execution_count": 100,
   "id": "1248cb54",
   "metadata": {},
   "outputs": [
    {
     "name": "stdout",
     "output_type": "stream",
     "text": [
      "https://open.canada.ca/data/api/3/action/package_search?q=british columbia+operating expenses&rows=50&defType=edismax&sort=sort desc\n"
     ]
    }
   ],
   "source": [
    "from ckan import CanadaCKAN\n",
    "\n",
    "ckan_client = CanadaCKAN() \n",
    "\n",
    "ckan_response = ckan_client.package_search(q=keywords, rows=50, defType='edismax', sort='sort desc')"
   ]
  },
  {
   "cell_type": "code",
   "execution_count": 101,
   "id": "c6d711cb",
   "metadata": {},
   "outputs": [],
   "source": [
    "packages = ckan_response['result']['results']"
   ]
  },
  {
   "cell_type": "code",
   "execution_count": 102,
   "id": "bb3d8fb7",
   "metadata": {},
   "outputs": [
    {
     "data": {
      "text/plain": [
       "\"How do the operating expenses for different fiscal years compare between the 2018 and 2023 supplementary estimates for various ministries in the Government of British Columbia budget? Specifically, I'm interested in seeing the alignment of these expenses based on their specific cost categories like salaries and benefits or operating costs.\""
      ]
     },
     "execution_count": 102,
     "metadata": {},
     "output_type": "execute_result"
    }
   ],
   "source": [
    "data['nl'][0]"
   ]
  },
  {
   "cell_type": "code",
   "execution_count": 105,
   "id": "7bd2e92a",
   "metadata": {},
   "outputs": [],
   "source": [
    "desired_package_ids = [data['r_pkg_id'][0], data['s_pkg_id'][0]]"
   ]
  },
  {
   "cell_type": "code",
   "execution_count": 106,
   "id": "724622c1",
   "metadata": {},
   "outputs": [
    {
     "name": "stdout",
     "output_type": "stream",
     "text": [
      "2f40fb8f-a9e7-4f5b-94e9-04fbfaa10676 True\n",
      "2013c544-62e8-4485-ad4b-6e5ba5e373b9 True\n"
     ]
    }
   ],
   "source": [
    "for d in desired_package_ids:\n",
    "    s = False\n",
    "    for p in packages:\n",
    "        if p['id'] == d:\n",
    "            s = True\n",
    "            break\n",
    "    print(d, s)"
   ]
  },
  {
   "cell_type": "markdown",
   "id": "50861305",
   "metadata": {},
   "source": [
    "### Query the Agent"
   ]
  },
  {
   "cell_type": "code",
   "execution_count": null,
   "id": "be912e09",
   "metadata": {},
   "outputs": [
    {
     "name": "stderr",
     "output_type": "stream",
     "text": [
      "100%|██████████| 17/17 [06:10<00:00, 21.77s/it]\n"
     ]
    }
   ],
   "source": [
    "# ask the agent for an answer. If no_think=True, the thinking process is truncated.\n",
    "# A much shorter time is required for this option\n",
    "no_think = False\n",
    "model_choices = []\n",
    "\n",
    "for package in tqdm(packages[:0]):\n",
    "    # print(package['title'])\n",
    "    # print(package['notes'])\n",
    "    # print(', '.join(package['keywords']['en']))\n",
    "    # print()\n",
    "    prompt = TABLE_PRE_FILTER_TASK_PROMPT.format(\n",
    "        question=data['nl'][0],\n",
    "        title=package['title'],\n",
    "        # notes='N/A', \n",
    "        notes=package['notes'][:300],\n",
    "        keywords='N/A' # ', '.join(package['keywords']['en'])\n",
    "        # keywords=', '.join(package['keywords']['en'])\n",
    "    )\n",
    "\n",
    "    if no_think:\n",
    "        prompt = '/nothink' + ' ' + prompt\n",
    "\n",
    "    response = await analyzer.run(task=prompt)\n",
    "    response = response.messages[-1]\n",
    "    model_choices.append(response)"
   ]
  },
  {
   "cell_type": "code",
   "execution_count": 113,
   "id": "b080ab91",
   "metadata": {},
   "outputs": [],
   "source": [
    "# ask the agent for an answer. If no_think=True, the thinking process is truncated.\n",
    "# A much shorter time is required for this option\n",
    "no_think = True\n",
    "model_allatonce_choices = []\n",
    "\n",
    "prompt = TABLE_PRE_FILTER_ALL_TASK_QUESTION_PROMPT\n",
    "prompt = prompt.format(question=data['nl'][0])\n",
    "\n",
    "for package in packages:\n",
    "    prompt += TABLE_PRE_FILTER_ALL_TASK_PACKAGE_PROMPT.format(\n",
    "        title=package['title'],\n",
    "        notes=package['notes'][:200]\n",
    "    ) + '\\n'\n",
    "\n",
    "if no_think:\n",
    "    prompt = '/nothink' + ' ' + prompt\n",
    "\n",
    "response = await analyzer_all.run(task=prompt)\n",
    "response = response.messages[-1]\n",
    "model_allatonce_choices.append(response)"
   ]
  },
  {
   "cell_type": "code",
   "execution_count": 127,
   "id": "a0cb461d",
   "metadata": {},
   "outputs": [
    {
     "ename": "AttributeError",
     "evalue": "'AssistantAgent' object has no attribute 'create'",
     "output_type": "error",
     "traceback": [
      "\u001b[31m---------------------------------------------------------------------------\u001b[39m",
      "\u001b[31mAttributeError\u001b[39m                            Traceback (most recent call last)",
      "\u001b[36mCell\u001b[39m\u001b[36m \u001b[39m\u001b[32mIn[127]\u001b[39m\u001b[32m, line 1\u001b[39m\n\u001b[32m----> \u001b[39m\u001b[32m1\u001b[39m \u001b[43manalyzer_all\u001b[49m\u001b[43m.\u001b[49m\u001b[43mcreate\u001b[49m\n",
      "\u001b[31mAttributeError\u001b[39m: 'AssistantAgent' object has no attribute 'create'"
     ]
    }
   ],
   "source": [
    "analyzer_all.create"
   ]
  },
  {
   "cell_type": "code",
   "execution_count": 114,
   "id": "f80e98cd",
   "metadata": {},
   "outputs": [],
   "source": [
    "# extract the YES/NO answer from the agent reply\n",
    "import re\n",
    "\n",
    "answers = [\n",
    "    re.search(r\"<answer>(YES|NO)</answer>\", message.content).group(1)\n",
    "    for message in model_choices\n",
    "]\n",
    "\n",
    "answers = list(zip(answers, [p['id'] for p in ckan_response['result']['results']]))\n",
    "answers = [a[1] for a in answers if a[0] == 'YES']\n",
    "# answers"
   ]
  },
  {
   "cell_type": "code",
   "execution_count": 116,
   "id": "b973238b",
   "metadata": {},
   "outputs": [
    {
     "data": {
      "text/plain": [
       "[('2f40fb8f-a9e7-4f5b-94e9-04fbfaa10676',\n",
       "  'Budget 2023 - Supplement to the Estimates'),\n",
       " ('2013c544-62e8-4485-ad4b-6e5ba5e373b9',\n",
       "  'Budget 2018 - Supplement to the Estimates')]"
      ]
     },
     "execution_count": 116,
     "metadata": {},
     "output_type": "execute_result"
    }
   ],
   "source": [
    "answers = re.findall(r\"<package>(.*)</package><answer>(YES|NO)</answer>\", model_allatonce_choices[0].content)\n",
    "answers = [(i['id'], a[0]) for i, a in zip(packages, answers) if a[1] == 'YES']\n",
    "selected_ids = [a[0] for a in answers]\n",
    "answers"
   ]
  },
  {
   "cell_type": "code",
   "execution_count": 117,
   "id": "ddacac8d",
   "metadata": {},
   "outputs": [
    {
     "name": "stderr",
     "output_type": "stream",
     "text": [
      "47it [00:00, 70203.81it/s]"
     ]
    },
    {
     "name": "stdout",
     "output_type": "stream",
     "text": [
      "0 2f40fb8f-a9e7-4f5b-94e9-04fbfaa10676\n",
      "0 Budget 2023 - Supplement to the Estimates\n",
      "0 >>> 2f40fb8f-a9e7-4f5b-94e9-04fbfaa10676\n",
      "0 >>> Budget 2023 - Supplement to the Estimates\n",
      "31 2013c544-62e8-4485-ad4b-6e5ba5e373b9\n",
      "31 Budget 2018 - Supplement to the Estimates\n",
      "31 >>> 2013c544-62e8-4485-ad4b-6e5ba5e373b9\n",
      "31 >>> Budget 2018 - Supplement to the Estimates\n"
     ]
    },
    {
     "name": "stderr",
     "output_type": "stream",
     "text": [
      "\n"
     ]
    }
   ],
   "source": [
    "for i, package in tqdm(enumerate(ckan_response['result']['results'])):\n",
    "    if package['id'] in selected_ids:\n",
    "        print(str(i) + ' ' + package['id'])\n",
    "        print(str(i) + ' ' + package['title'])\n",
    "        # print(package['notes'][:300])\n",
    "    if package['id'] in desired_package_ids:\n",
    "        print(str(i) + ' ' + '>>> ' + package['id'])\n",
    "        print(str(i) + ' ' + '>>> ' + package['title'])"
   ]
  },
  {
   "cell_type": "code",
   "execution_count": 86,
   "id": "4188107f",
   "metadata": {},
   "outputs": [
    {
     "data": {
      "text/plain": [
       "('2f40fb8f-a9e7-4f5b-94e9-04fbfaa10676',\n",
       " True,\n",
       " '2013c544-62e8-4485-ad4b-6e5ba5e373b9',\n",
       " False)"
      ]
     },
     "execution_count": 86,
     "metadata": {},
     "output_type": "execute_result"
    }
   ],
   "source": [
    "desired_package_ids[0], desired_package_ids[0] in selected_ids, desired_package_ids[1], desired_package_ids[1] in selected_ids"
   ]
  },
  {
   "cell_type": "code",
   "execution_count": 87,
   "id": "2a4b2061",
   "metadata": {},
   "outputs": [
    {
     "data": {
      "text/plain": [
       "\"How do the operating expenses for different fiscal years compare between the 2018 and 2023 supplementary estimates for various ministries in the Government of British Columbia budget? Specifically, I'm interested in seeing the alignment of these expenses based on their specific cost categories like salaries and benefits or operating costs.\""
      ]
     },
     "execution_count": 87,
     "metadata": {},
     "output_type": "execute_result"
    }
   ],
   "source": [
    "data['nl'][0]"
   ]
  },
  {
   "cell_type": "code",
   "execution_count": 111,
   "id": "172c6816",
   "metadata": {},
   "outputs": [],
   "source": [
    "with open('answers/missing_package_with_all_packages.txt', 'w') as file:\n",
    "    file.write(model_allatonce_choices[0].content)"
   ]
  },
  {
   "cell_type": "code",
   "execution_count": 121,
   "id": "a5f196fb",
   "metadata": {},
   "outputs": [
    {
     "data": {
      "text/plain": [
       "TextMessage(id='14cc1647-8bbe-4bfa-9e7c-9b0d2a4ef513', source='TablePreFilter_all', models_usage=RequestUsage(prompt_tokens=11346, completion_tokens=1506), metadata={}, created_at=datetime.datetime(2025, 7, 25, 9, 19, 57, 712520, tzinfo=datetime.timezone.utc), content='<think>\\n\\n</think>\\n\\n<package>Budget 2023 - Supplement to the Estimates</package><answer>YES</answer>  \\n<package>Operating Statement Tbl 2.1</package><answer>NO</answer>  \\n<package>Historical Operating Statement Surplus (Deficit) Tbl A2.14</package><answer>NO</answer>  \\n<package>BC Finance - Standard Object of Expense</package><answer>NO</answer>  \\n<package>Budget 2013 June Update - Provincial Debt Summary Tbl 1.17</package><answer>NO</answer>  \\n<package>Historical Operating Statement Surplus (Deficit), 1969-1970 to 2011-12 Tbl A2.14</package><answer>NO</answer>  \\n<package>Budget 2012 - Provincial Debt Tbl 1.20</package><answer>NO</answer>  \\n<package>Budget 2014 - Ten-Year Operating Statement 2007-08 to 2016-17 Tbl A8</package><answer>NO</answer>  \\n<package>Budget 2014 - Provincial Debt Summary Tbl 1.16</package><answer>NO</answer>  \\n<package>Budget 2014 - Supplement to the Estimates</package><answer>NO</answer>  \\n<package>Budget 2012 - Operating Statement Tbl 1.1</package><answer>NO</answer>  \\n<package>Budget 2012 - Ten-Year Expense Tbls A11 and A12</package><answer>NO</answer>  \\n<package>Budget 2016 - Supplement to the Estimates</package><answer>NO</answer>  \\n<package>Budget 2017 - Supplement to the Estimates</package><answer>NO</answer>  \\n<package>Budget 2012 - Supplement to the Estimates</package><answer>NO</answer>  \\n<package>2013-14 First Quarterly Report - Operating Statement Tbl 1.6</package><answer>NO</answer>  \\n<package>2012-13 Second Quarterly Report - 2012-13 Operating Statement Tbl 1.5</package><answer>NO</answer>  \\n<package>Budget 2015 - Supplement to the Estimates</package><answer>NO</answer>  \\n<package>Budget 2013 June Update - Ten-Year Operating Statement Tbl A8</package><answer>NO</answer>  \\n<package>Operating Statement, 1999-00 to 2010-11 Tbl A2.2</package><answer>NO</answer>  \\n<package>2012-13 First Quarterly Report - 2012-13 Operating Statement Tbl 3.6</package><answer>NO</answer>  \\n<package>Budget 2021 - Supplement to the Estimates</package><answer>NO</answer>  \\n<package>Budget 2012 - Ten-Year Operating Statement Tbl A8</package><answer>NO</answer>  \\n<package>Budget 2019 - Supplement to the Estimates</package><answer>NO</answer>  \\n<package>BC Finance - 2013 Financial and Economic Review - Historical Operating Statement Surplus (Deficit) - 1969-1970 to 2012-13 - Table A2.14</package><answer>NO</answer>  \\n<package>Operating Statement, 2000-01 to 2011-12 Tbl A2.2</package><answer>NO</answer>  \\n<package>Budget 2013 June Update - Ten-Year Expense Tbls A11 and A12</package><answer>NO</answer>  \\n<package>BC Finance - 2013 Financial and Economic Review - BC GDP - Income Based - 2007 to 2012 with annual percentage changes - Table A1.4</package><answer>NO</answer>  \\n<package>2013-14 Third Quarterly Report - Operating Statement Tbl 4.6</package><answer>NO</answer>  \\n<package>Historical Commodity Prices (in US Dollars) Tbl A1.9</package><answer>NO</answer>  \\n<package>Budget 2020 - Supplement to the Estimates</package><answer>NO</answer>  \\n<package>Budget 2018 - Supplement to the Estimates</package><answer>YES</answer>  \\n<package>2013-14 Second Quarterly Report - Operating Statement Tbl 1.6</package><answer>NO</answer>  \\n<package>Budget 2013 - Supplement to the Estimates</package><answer>NO</answer>  \\n<package>Budget 2013 June Update - Three Year Fiscal Plan Tbl 1.1</package><answer>NO</answer>  \\n<package>2013 Financial-Economic Rev - Operating Statement - 2001-02 to 2012-13 Tbl A2.2</package><answer>NO</answer>  \\n<package>Budget 2012 - Third Quarter Summary Tbl 4.7</package><answer>NO</answer>  \\n<package>2012-13 First Quarterly Report - Operating Statement 2005-06 to 2014-15 Tbl A4</package><answer>NO</answer>  \\n<package>2012-13 First Quarterly Report - Fiscal Plan Tbl 1.2</package><answer>NO</answer>  \\n<package>Budget 2014 - Ten-Year Expense by Function 2007-08 to 2016-17 Tbls A11 and A12</package><answer>NO</answer>  \\n<package>Budget 2022 - Supplement to the Estimates</package><answer>NO</answer>  \\n<package>Operating Statement, Budget 2011 Tbl 2.1</package><answer>NO</answer>  \\n<package>Budget 2025 - Supplement to the Estimates</package><answer>NO</answer>  \\n<package>Budget 2014 - Three Year Fiscal Plan, Operating Statement Tbl 1.1</package><answer>NO</answer>  \\n<package>2013 Financial-Economic Rev - Operating Statement Tbl 2.1</package><answer>NO</answer>  \\n<package>Budget 2013 - June update - Supplement to the Estimates</package><answer>NO</answer>  \\n<package>Budget 2024 - Supplement to the Estimates</package><answer>NO</answer>', type='TextMessage')"
      ]
     },
     "execution_count": 121,
     "metadata": {},
     "output_type": "execute_result"
    }
   ],
   "source": [
    "model_allatonce_choices[0]"
   ]
  },
  {
   "cell_type": "markdown",
   "id": "804cac20",
   "metadata": {},
   "source": [
    "### Results from evaluate_allatonce.py"
   ]
  },
  {
   "cell_type": "code",
   "execution_count": 132,
   "id": "4cfd2de6",
   "metadata": {},
   "outputs": [],
   "source": [
    "import os\n",
    "import pandas as pd\n",
    "\n",
    "df = pd.read_csv(os.path.join('data', 'allatonce_evaluation_k30.csv'))\n",
    "df = pd.read_csv(os.path.join('data', 'embedding_eval_k30.csv'))"
   ]
  },
  {
   "cell_type": "code",
   "execution_count": 133,
   "id": "0507fc8c",
   "metadata": {},
   "outputs": [
    {
     "data": {
      "text/plain": [
       "((100, 1), (100, 1))"
      ]
     },
     "execution_count": 133,
     "metadata": {},
     "output_type": "execute_result"
    }
   ],
   "source": [
    "X = df[['r_present', 'r_selected']].dropna().map(int)\n",
    "y_true = X['r_present'].values.reshape((-1, 1))\n",
    "y_pred = X['r_selected'].values.reshape((-1, 1))\n",
    "y_true.shape, y_pred.shape"
   ]
  },
  {
   "cell_type": "code",
   "execution_count": 134,
   "id": "a77742df",
   "metadata": {},
   "outputs": [],
   "source": [
    "from sklearn.metrics import confusion_matrix, ConfusionMatrixDisplay\n",
    "\n",
    "cm = confusion_matrix(y_true, y_pred)\n"
   ]
  },
  {
   "cell_type": "code",
   "execution_count": 135,
   "id": "ff9035a5",
   "metadata": {},
   "outputs": [
    {
     "data": {
      "image/png": "[encoded data removed]",
      "text/plain": [
       "<Figure size 640x480 with 2 Axes>"
      ]
     },
     "metadata": {},
     "output_type": "display_data"
    }
   ],
   "source": [
    "import matplotlib.pyplot as plt\n",
    "\n",
    "disp = ConfusionMatrixDisplay(confusion_matrix=cm)\n",
    "disp.plot()\n",
    "plt.show()"
   ]
  },
  {
   "cell_type": "markdown",
   "id": "f11ad82d",
   "metadata": {},
   "source": [
    "## Resources Pre-Filtering"
   ]
  },
  {
   "cell_type": "markdown",
   "id": "35b04a31",
   "metadata": {},
   "source": [
    "Once we have selected a small subset of all the available packages, again we can choose which resources satisfy us most: a model should avoid to download same datasets from different formats (e.g. CSV and XLSX) or languages (EN vs FR)"
   ]
  },
  {
   "cell_type": "code",
   "execution_count": 10,
   "id": "8863fb0e",
   "metadata": {},
   "outputs": [],
   "source": [
    "from ckan import CanadaCKAN\n",
    "\n",
    "ckan_client = CanadaCKAN()"
   ]
  },
  {
   "cell_type": "code",
   "execution_count": 133,
   "id": "fa188c81",
   "metadata": {},
   "outputs": [
    {
     "data": {
      "text/plain": [
       "('a5cb7c3c-0371-4a20-ac9a-98fc4c3536bb', nan)"
      ]
     },
     "execution_count": 133,
     "metadata": {},
     "output_type": "execute_result"
    }
   ],
   "source": [
    "i = 23\n",
    "idx = data.index[i]\n",
    "question = data.loc[idx]['nl']\n",
    "r_pkg_id = data.loc[idx]['r_pkg_id']\n",
    "s_pkg_id = data.loc[idx]['s_pkg_id']\n",
    "r_rsc_id = data.loc[idx]['r_rsc_id']\n",
    "r_pkg_id, s_pkg_id"
   ]
  },
  {
   "cell_type": "code",
   "execution_count": 134,
   "id": "295a268e",
   "metadata": {},
   "outputs": [],
   "source": [
    "package_metadata = ckan_client.package_show(id=r_pkg_id)['result']"
   ]
  },
  {
   "cell_type": "code",
   "execution_count": 135,
   "id": "9379a2fd",
   "metadata": {},
   "outputs": [
    {
     "data": {
      "text/plain": [
       "'fb79c2c3-27fe-454e-b9ee-6d1049ea41eb'"
      ]
     },
     "execution_count": 135,
     "metadata": {},
     "output_type": "execute_result"
    }
   ],
   "source": [
    "r_rsc_id"
   ]
  },
  {
   "cell_type": "code",
   "execution_count": 136,
   "id": "20c13152",
   "metadata": {},
   "outputs": [
    {
     "name": "stdout",
     "output_type": "stream",
     "text": [
      "---------------------------------------------  ------------------------------------  ---\n",
      "Appendix B1 of 2020-2021 NCRMP Report EN       001d3db4-8af8-4259-a017-09604beab006\n",
      "Appendix B1 of 2020-2021 NCRMP Report FR       e0b83ef3-40d0-470b-90df-62699ab742d1\n",
      "Appendix B2 of 2020-2021 NCRMP Report EN       73358490-423c-4b54-a6e1-383828e4efd7\n",
      "Appendix B2 of 2020-2021 NCRMP Report FR       c541e163-6fb9-472d-9b48-97d067c84a5f\n",
      "Appendix B3 of 2020-2021 NCRMP Report EN       fb79c2c3-27fe-454e-b9ee-6d1049ea41eb  <<<\n",
      "Appendix B3 of 2020-2021 NCRMP Report FR       6c8b55db-546f-487a-981e-4a5e92224680\n",
      "Appendix B4 of 2020-2021 NCRMP Report EN       8180a735-fa80-4f54-adeb-072ce0c25611\n",
      "Appendix B4 of 2020-2021 NCRMP Report FR       02705d98-4402-49df-bdd2-6238e505a17e\n",
      "Appendix B5 of 2020-2021 NCRMP Report EN       b03de182-7e2b-4818-9228-ad8d0b3c84da\n",
      "Appendix B5 of 2020-2021 NCRMP Report FR       8929476e-21b7-421f-8aeb-a9108d4bcb1c\n",
      "Appendix B6 of 2020-2021 NCRMP Report EN       bff2426f-7c57-49e0-837f-7065a306623a\n",
      "Appendix B6 of 2020-2021 NCRMP Report FR       611ddf54-2a3b-45d7-8645-adafa0ebc557\n",
      "Appendix B7 of 2020-2021 NCRMP Report EN       5c1b87ff-8f2a-4d35-ae10-92ec91bf15fb\n",
      "Appendix B7 of 2020-2021 NCRMP Report FR       6183bc3c-9aab-4654-a04f-e3dfaf451608\n",
      "Supplemental Information for NCRMP Appendix B  5cc8348f-4b76-498e-8f1a-e8712912fa96\n",
      "---------------------------------------------  ------------------------------------  ---\n"
     ]
    }
   ],
   "source": [
    "from tabulate import tabulate\n",
    "\n",
    "x = []\n",
    "for r in package_metadata['resources']:\n",
    "    x.append((r['name'], r['id'], '<<<' if r['id'] == r_rsc_id else ''))\n",
    "print(tabulate(x))"
   ]
  },
  {
   "cell_type": "code",
   "execution_count": 132,
   "id": "6b070870",
   "metadata": {},
   "outputs": [
    {
     "data": {
      "text/plain": [
       "\"According to Statistics Canada's data on new housing prices, what are the average values of the indexes for houses and land across various base years when there is no reported status?\""
      ]
     },
     "execution_count": 132,
     "metadata": {},
     "output_type": "execute_result"
    }
   ],
   "source": [
    "question"
   ]
  },
  {
   "cell_type": "markdown",
   "id": "98c97488",
   "metadata": {},
   "source": [
    "A first simple filter is on data format: ONLY CSVs are ACCEPTED\n",
    "\n",
    "Another one is on language: here we want to work only on ENGLISH resources"
   ]
  },
  {
   "cell_type": "code",
   "execution_count": 127,
   "id": "0e6abe15",
   "metadata": {},
   "outputs": [
    {
     "name": "stdout",
     "output_type": "stream",
     "text": [
      "resource    cache_last_updated    cache_url    character_set    created                     data_quality            datastore_active    datastore_contains_all_records_of_source_file    date_published    description    format    hash    id                                    language    last_modified    metadata_modified           mimetype    mimetype_inner    name                                                          name_translated                                                                                                                                      package_id                              position  resource_type    state    unique_identifier    url                                                                                                                                                                     url_type\n",
      "----------  --------------------  -----------  ---------------  --------------------------  ----------------------  ------------------  -----------------------------------------------  ----------------  -------------  --------  ------  ------------------------------------  ----------  ---------------  --------------------------  ----------  ----------------  ------------------------------------------------------------  ---------------------------------------------------------------------------------------------------------------------------------------------------  ------------------------------------  ----------  ---------------  -------  -------------------  ----------------------------------------------------------------------------------------------------------------------------------------------------------------------  ----------\n",
      "                                               UTF-8            2019-12-13T20:33:12.689902  []                      False               False                                                                             CSV               e632b405-fb49-4f76-a94d-c24964f654ed  ['en']                       2024-11-20T21:44:44.571099                                Statement of Authorities (ARCHIVED)                           {'fr': 'État des autorisations (ARCHIVÉ)', 'en': 'Statement of Authorities (ARCHIVED)'}                                                              fc6ba156-a167-4abd-b172-d1293efebe55           0  dataset          active                        https://open.canada.ca/data/dataset/a35cf382-690c-4221-a971-cf0fd189a46f/resource/d6cda842-f547-4d92-be57-34a11a35507a/download/eso_qfr_en.csv\n",
      "                                               UTF-8            2019-12-13T20:33:12.689915  ['data_includes_uris']  False               False                                                                             CSV               2035f8aa-9069-4860-82cd-17b48e1ec7c2  ['en']                       2024-11-20T21:44:44.571280                                Expenditures by Standard Object (ARCHIVED)                    {'fr': 'Dépenses par article courant (ARCHIVÉ)', 'en': 'Expenditures by Standard Object (ARCHIVED)'}                                                 fc6ba156-a167-4abd-b172-d1293efebe55           2  dataset          active                        https://open.canada.ca/data/dataset/a35cf382-690c-4221-a971-cf0fd189a46f/resource/d6cda842-f547-4d92-be57-34a11a35507a/download/eso_qfr_en.csv\n",
      "                                               UTF-8            2019-12-13T20:33:12.689920  []                      False               False                                                                             CSV               0a8eeabf-10fb-435b-84f1-f7f25da8aebc  ['en']                       2023-12-06T19:13:09.733858                                Transfer Payments (Annual)                                    {'fr': 'Paiements de transfert (annuel)', 'en': 'Transfer Payments (Annual)'}                                                                        fc6ba156-a167-4abd-b172-d1293efebe55           4  dataset          active                        https://open.canada.ca/data/dataset/a35cf382-690c-4221-a971-cf0fd189a46f/resource/f942e312-df08-4f05-8fba-8b37b2a688db/download/tp_pt_en.csv\n",
      "                                               UTF-8            2019-12-13T20:33:12.689926  []                      False               False                                                                             CSV               82e0cd86-7918-4769-89aa-fbe2f0d57d64  ['en']                       2024-11-20T21:44:44.571551                                Expenditures by Standard Object (Annual)                      {'fr': 'Dépenses par article courant (annuel)', 'en': 'Expenditures by Standard Object (Annual)'}                                                    fc6ba156-a167-4abd-b172-d1293efebe55           6  dataset          active                        https://open.canada.ca/data/dataset/a35cf382-690c-4221-a971-cf0fd189a46f/resource/27e54a33-3c39-42a9-8d58-46dd37c527e5/download/eso_eac_en.csv\n",
      "                                               UTF-8            2019-12-13T20:33:12.689931  []                      True                False                                                                             CSV               3fde453f-e3b7-4fa4-a282-f195bf872f9e  ['en']                       2024-11-20T21:44:44.571708                                Authorities and Expenditures by Vote (Annual)                 {'fr': 'Autorisations et dépenses par crédit (annuel)', 'en': 'Authorities and Expenditures by Vote (Annual)'}                                       fc6ba156-a167-4abd-b172-d1293efebe55           8  dataset          active                        https://open.canada.ca/data/dataset/fc6ba156-a167-4abd-b172-d1293efebe55/resource/3fde453f-e3b7-4fa4-a282-f195bf872f9e/download/eav_eac_en.csv                          upload\n",
      "                                               UTF-8            2019-12-13T20:33:12.689936  []                      False               False                                                                             CSV               29812c40-2de6-4f5a-bef6-2a062b69502f  ['en']                       2024-11-20T21:44:44.571842                                Authorities and Expenditures by Program (2013-14 to 2017-18)  {'fr': 'Autorisations et dépenses par programme (2013-2014 à 2017-2018)', 'en': 'Authorities and Expenditures by Program (2013-14 to 2017-18)'}      fc6ba156-a167-4abd-b172-d1293efebe55          10  dataset          active                        https://open.canada.ca/data/dataset/a35cf382-690c-4221-a971-cf0fd189a46f/resource/8d237273-a4e2-49ca-96b1-7bbc07b15828/download/ctempdatasetsauth_exp_prog_1317_en.csv\n",
      ">>>                                            UTF-8            2019-12-13T20:33:12.689941  []                      True                False                                                                             CSV               2d6af7ca-0063-4ce8-a50f-1a273adf196e  ['en']                       2024-11-21T02:07:01.363403                                Estimates - Expenditure Authorities by Vote (Sub-annual)      {'fr': 'Budget des dépenses - Autorisations à dépenser par crédit (sous-annuel)', 'en': 'Estimates - Expenditure Authorities by Vote (Sub-annual)'}  fc6ba156-a167-4abd-b172-d1293efebe55          12  dataset          active                        https://open.canada.ca/data/dataset/fc6ba156-a167-4abd-b172-d1293efebe55/resource/2d6af7ca-0063-4ce8-a50f-1a273adf196e/download/abv_apc_en.csv                          upload\n",
      "                                               UTF-8            2020-03-12T18:21:29.706633  []                      True                False                                            2020-03-12                       CSV               83004889-d936-406c-87e1-6707b02e9769  ['en']                       2024-11-21T02:07:01.363547                                Estimates - Statutory Forecasts                               {'fr': 'Budget des dépenses - Prévisions législatives', 'en': 'Estimates - Statutory Forecasts'}                                                     fc6ba156-a167-4abd-b172-d1293efebe55          14  dataset          active                        https://open.canada.ca/data/dataset/fc6ba156-a167-4abd-b172-d1293efebe55/resource/83004889-d936-406c-87e1-6707b02e9769/download/sa_al_en.csv                            upload\n"
     ]
    }
   ],
   "source": [
    "res = package_metadata['resources'][:]\n",
    "\n",
    "apply_filters = True\n",
    "\n",
    "def format_f(resource):\n",
    "    return resource['format'] == 'CSV'\n",
    "\n",
    "def language_f(resource):\n",
    "    return 'language' in resource and 'en' in resource['language']\n",
    "\n",
    "def resource_type_f(resource):\n",
    "    return 'resource_type' in resource and resource['resource_type'] == 'dataset'\n",
    "\n",
    "\n",
    "if apply_filters:\n",
    "    res = list(\n",
    "        filter(format_f, \n",
    "               filter(language_f, \n",
    "                      filter(resource_type_f, res\n",
    "                    )\n",
    "                )\n",
    "            )\n",
    "        )\n",
    "\n",
    "keys = res[0].keys()\n",
    "\n",
    "x = []\n",
    "\n",
    "for r in res:\n",
    "    v = ['>>>' if r['id'] == r_rsc_id else '']\n",
    "    for k in keys:\n",
    "        if k in r:\n",
    "            v.append(r[k])\n",
    "        else:\n",
    "            v.append(None)\n",
    "    x.append(v)\n",
    "\n",
    "\n",
    "\n",
    "print(tabulate(x, headers=['resource'] + list(keys)))"
   ]
  },
  {
   "cell_type": "code",
   "execution_count": 60,
   "id": "48206f88",
   "metadata": {},
   "outputs": [
    {
     "data": {
      "text/plain": [
       "dict_keys(['cache_last_updated', 'cache_url', 'character_set', 'created', 'data_quality', 'datastore_active', 'datastore_contains_all_records_of_source_file', 'date_published', 'description', 'format', 'hash', 'id', 'language', 'last_modified', 'metadata_modified', 'mimetype', 'mimetype_inner', 'name', 'name_translated', 'package_id', 'position', 'related_relationship', 'related_type', 'resource_type', 'state', 'unique_identifier', 'url', 'url_type'])"
      ]
     },
     "execution_count": 60,
     "metadata": {},
     "output_type": "execute_result"
    }
   ],
   "source": [
    "keys"
   ]
  },
  {
   "cell_type": "code",
   "execution_count": 73,
   "id": "744c9ffc",
   "metadata": {},
   "outputs": [
    {
     "data": {
      "text/plain": [
       "dict_keys(['aafc_resource_metadata_schema', 'aafcdc_evaluation_feedback', 'cache_last_updated', 'cache_url', 'character_set', 'created', 'data_quality', 'data_source_repository', 'datastore_active', 'datastore_contains_all_records_of_source_file', 'date_published', 'description', 'format', 'hash', 'id', 'language', 'last_modified', 'metadata_modified', 'mimetype', 'mimetype_inner', 'name', 'name_translated', 'package_id', 'position', 'resource_type', 'selectResourceOption', 'state', 'unique_identifier', 'url', 'url_type'])"
      ]
     },
     "execution_count": 73,
     "metadata": {},
     "output_type": "execute_result"
    }
   ],
   "source": [
    "keys"
   ]
  }
 ],
 "metadata": {
  "kernelspec": {
   "display_name": "lakegen",
   "language": "python",
   "name": "python3"
  },
  "language_info": {
   "codemirror_mode": {
    "name": "ipython",
    "version": 3
   },
   "file_extension": ".py",
   "mimetype": "text/x-python",
   "name": "python",
   "nbconvert_exporter": "python",
   "pygments_lexer": "ipython3",
   "version": "3.12.11"
  }
 },
 "nbformat": 4,
 "nbformat_minor": 5
}
