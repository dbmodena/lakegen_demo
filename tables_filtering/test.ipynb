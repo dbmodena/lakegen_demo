{
   "cells": [
      {
         "cell_type": "code",
         "execution_count": 1,
         "id": "ba51000a-bcd8-4db3-9ad4-eddf6a2badfd",
         "metadata": {},
         "outputs": [],
         "source": [
            "import os\n",
            "\n",
            "import pandas as pd\n",
            "from tqdm import tqdm"
         ]
      },
      {
         "cell_type": "markdown",
         "id": "17537479",
         "metadata": {},
         "source": [
            "## Load the examples"
         ]
      },
      {
         "cell_type": "code",
         "execution_count": 2,
         "id": "86240dd5-7b4f-4b72-9a80-a72b42774df3",
         "metadata": {},
         "outputs": [],
         "source": [
            "keywords_gt = pd.read_csv(os.path.join('..', 'data', 'keywords_gt_with_examples.csv'))\n",
            "# keywords_gt = keywords_gt.rename({'n_keys': 'n_keywords'}, axis=1)\n",
            "# keywords_gt['presence'] = keywords_gt['presence'].map(lambda x: x if x != 'ERROR' else -1).astype(int)\n",
            "# keywords_gt.to_csv(os.path.join('..', 'data', 'keywords_gt_with_examples_all.csv'), index=False)"
         ]
      },
      {
         "cell_type": "code",
         "execution_count": 3,
         "id": "8846246a",
         "metadata": {},
         "outputs": [
            {
               "data": {
                  "text/plain": [
                     "(1301, 18)"
                  ]
               },
               "execution_count": 3,
               "metadata": {},
               "output_type": "execute_result"
            }
         ],
         "source": [
            "keywords_gt.shape"
         ]
      },
      {
         "cell_type": "code",
         "execution_count": 4,
         "id": "9574d3dd",
         "metadata": {},
         "outputs": [
            {
               "data": {
                  "text/html": [
                     "<div>\n",
                     "<style scoped>\n",
                     "    .dataframe tbody tr th:only-of-type {\n",
                     "        vertical-align: middle;\n",
                     "    }\n",
                     "\n",
                     "    .dataframe tbody tr th {\n",
                     "        vertical-align: top;\n",
                     "    }\n",
                     "\n",
                     "    .dataframe thead th {\n",
                     "        text-align: right;\n",
                     "    }\n",
                     "</style>\n",
                     "<table border=\"1\" class=\"dataframe\">\n",
                     "  <thead>\n",
                     "    <tr style=\"text-align: right;\">\n",
                     "      <th></th>\n",
                     "      <th>country_tag</th>\n",
                     "      <th>type</th>\n",
                     "      <th>difficulty</th>\n",
                     "      <th>r_rsc_id</th>\n",
                     "      <th>s_rsc_id</th>\n",
                     "      <th>r_pkg_id</th>\n",
                     "      <th>s_pkg_id</th>\n",
                     "      <th>nl</th>\n",
                     "      <th>keywords</th>\n",
                     "      <th>prompt_tokens</th>\n",
                     "      <th>completion_tokens</th>\n",
                     "      <th>presence</th>\n",
                     "      <th>response</th>\n",
                     "      <th>result_count</th>\n",
                     "      <th>top_k</th>\n",
                     "      <th>n_keywords</th>\n",
                     "      <th>r_id_index</th>\n",
                     "      <th>s_id_index</th>\n",
                     "    </tr>\n",
                     "  </thead>\n",
                     "  <tbody>\n",
                     "    <tr>\n",
                     "      <th>0</th>\n",
                     "      <td>CAN</td>\n",
                     "      <td>single-table</td>\n",
                     "      <td>moderate</td>\n",
                     "      <td>a7c95445-e336-41e3-945c-1bc938ff0612</td>\n",
                     "      <td>NaN</td>\n",
                     "      <td>12c89aa5-063a-f0ed-334a-3019133b9ee8</td>\n",
                     "      <td>NaN</td>\n",
                     "      <td>What is the total amount paid by each departme...</td>\n",
                     "      <td>supplier+payments</td>\n",
                     "      <td>1530</td>\n",
                     "      <td>372</td>\n",
                     "      <td>1</td>\n",
                     "      <td>&lt;think&gt;\\n\\n&lt;/think&gt;\\n\\n## Query Analysis Resul...</td>\n",
                     "      <td>17</td>\n",
                     "      <td>1000.0</td>\n",
                     "      <td>2.0</td>\n",
                     "      <td>14.0</td>\n",
                     "      <td>NaN</td>\n",
                     "    </tr>\n",
                     "    <tr>\n",
                     "      <th>1</th>\n",
                     "      <td>CAN</td>\n",
                     "      <td>single-table</td>\n",
                     "      <td>challenging</td>\n",
                     "      <td>a7c95445-e336-41e3-945c-1bc938ff0612</td>\n",
                     "      <td>NaN</td>\n",
                     "      <td>12c89aa5-063a-f0ed-334a-3019133b9ee8</td>\n",
                     "      <td>NaN</td>\n",
                     "      <td>Which supplier received the highest payment fr...</td>\n",
                     "      <td>new brunswick+supplier</td>\n",
                     "      <td>1528</td>\n",
                     "      <td>229</td>\n",
                     "      <td>1</td>\n",
                     "      <td>&lt;think&gt;\\n\\n&lt;/think&gt;\\n\\n## Query Analysis Resul...</td>\n",
                     "      <td>10</td>\n",
                     "      <td>1000.0</td>\n",
                     "      <td>2.0</td>\n",
                     "      <td>7.0</td>\n",
                     "      <td>NaN</td>\n",
                     "    </tr>\n",
                     "    <tr>\n",
                     "      <th>2</th>\n",
                     "      <td>CAN</td>\n",
                     "      <td>single-table</td>\n",
                     "      <td>simple</td>\n",
                     "      <td>ae2204c7-db9e-450e-8158-c70eedada7ae</td>\n",
                     "      <td>NaN</td>\n",
                     "      <td>4879e498-c9ac-44a3-d7d1-21af22e2224c</td>\n",
                     "      <td>NaN</td>\n",
                     "      <td>Which suppliers received payments over $100,00...</td>\n",
                     "      <td>suppliers+new brunswick</td>\n",
                     "      <td>1530</td>\n",
                     "      <td>360</td>\n",
                     "      <td>1</td>\n",
                     "      <td>&lt;think&gt;\\n\\n&lt;/think&gt;\\n\\n## Query Analysis Resul...</td>\n",
                     "      <td>10</td>\n",
                     "      <td>1000.0</td>\n",
                     "      <td>2.0</td>\n",
                     "      <td>5.0</td>\n",
                     "      <td>NaN</td>\n",
                     "    </tr>\n",
                     "    <tr>\n",
                     "      <th>3</th>\n",
                     "      <td>CAN</td>\n",
                     "      <td>single-table</td>\n",
                     "      <td>moderate</td>\n",
                     "      <td>ae2204c7-db9e-450e-8158-c70eedada7ae</td>\n",
                     "      <td>NaN</td>\n",
                     "      <td>4879e498-c9ac-44a3-d7d1-21af22e2224c</td>\n",
                     "      <td>NaN</td>\n",
                     "      <td>According to the Government of New Brunswick’s...</td>\n",
                     "      <td>public accounts+new brunswick</td>\n",
                     "      <td>1531</td>\n",
                     "      <td>356</td>\n",
                     "      <td>1</td>\n",
                     "      <td>&lt;think&gt;\\n\\n&lt;/think&gt;\\n\\n## Query Analysis Resul...</td>\n",
                     "      <td>34</td>\n",
                     "      <td>1000.0</td>\n",
                     "      <td>2.0</td>\n",
                     "      <td>22.0</td>\n",
                     "      <td>NaN</td>\n",
                     "    </tr>\n",
                     "    <tr>\n",
                     "      <th>4</th>\n",
                     "      <td>CAN</td>\n",
                     "      <td>single-table</td>\n",
                     "      <td>challenging</td>\n",
                     "      <td>ae2204c7-db9e-450e-8158-c70eedada7ae</td>\n",
                     "      <td>NaN</td>\n",
                     "      <td>4879e498-c9ac-44a3-d7d1-21af22e2224c</td>\n",
                     "      <td>NaN</td>\n",
                     "      <td>According to the Government of New Brunswick’s...</td>\n",
                     "      <td>supplier+new brunswick</td>\n",
                     "      <td>1524</td>\n",
                     "      <td>204</td>\n",
                     "      <td>1</td>\n",
                     "      <td>&lt;think&gt;\\n\\n&lt;/think&gt;\\n\\n## Query Analysis Resul...</td>\n",
                     "      <td>10</td>\n",
                     "      <td>1000.0</td>\n",
                     "      <td>2.0</td>\n",
                     "      <td>5.0</td>\n",
                     "      <td>NaN</td>\n",
                     "    </tr>\n",
                     "  </tbody>\n",
                     "</table>\n",
                     "</div>"
                  ],
                  "text/plain": [
                     "  country_tag          type   difficulty  \\\n",
                     "0         CAN  single-table     moderate   \n",
                     "1         CAN  single-table  challenging   \n",
                     "2         CAN  single-table       simple   \n",
                     "3         CAN  single-table     moderate   \n",
                     "4         CAN  single-table  challenging   \n",
                     "\n",
                     "                               r_rsc_id s_rsc_id  \\\n",
                     "0  a7c95445-e336-41e3-945c-1bc938ff0612      NaN   \n",
                     "1  a7c95445-e336-41e3-945c-1bc938ff0612      NaN   \n",
                     "2  ae2204c7-db9e-450e-8158-c70eedada7ae      NaN   \n",
                     "3  ae2204c7-db9e-450e-8158-c70eedada7ae      NaN   \n",
                     "4  ae2204c7-db9e-450e-8158-c70eedada7ae      NaN   \n",
                     "\n",
                     "                               r_pkg_id s_pkg_id  \\\n",
                     "0  12c89aa5-063a-f0ed-334a-3019133b9ee8      NaN   \n",
                     "1  12c89aa5-063a-f0ed-334a-3019133b9ee8      NaN   \n",
                     "2  4879e498-c9ac-44a3-d7d1-21af22e2224c      NaN   \n",
                     "3  4879e498-c9ac-44a3-d7d1-21af22e2224c      NaN   \n",
                     "4  4879e498-c9ac-44a3-d7d1-21af22e2224c      NaN   \n",
                     "\n",
                     "                                                  nl  \\\n",
                     "0  What is the total amount paid by each departme...   \n",
                     "1  Which supplier received the highest payment fr...   \n",
                     "2  Which suppliers received payments over $100,00...   \n",
                     "3  According to the Government of New Brunswick’s...   \n",
                     "4  According to the Government of New Brunswick’s...   \n",
                     "\n",
                     "                        keywords  prompt_tokens  completion_tokens  presence  \\\n",
                     "0              supplier+payments           1530                372         1   \n",
                     "1         new brunswick+supplier           1528                229         1   \n",
                     "2        suppliers+new brunswick           1530                360         1   \n",
                     "3  public accounts+new brunswick           1531                356         1   \n",
                     "4         supplier+new brunswick           1524                204         1   \n",
                     "\n",
                     "                                            response  result_count   top_k  \\\n",
                     "0  <think>\\n\\n</think>\\n\\n## Query Analysis Resul...            17  1000.0   \n",
                     "1  <think>\\n\\n</think>\\n\\n## Query Analysis Resul...            10  1000.0   \n",
                     "2  <think>\\n\\n</think>\\n\\n## Query Analysis Resul...            10  1000.0   \n",
                     "3  <think>\\n\\n</think>\\n\\n## Query Analysis Resul...            34  1000.0   \n",
                     "4  <think>\\n\\n</think>\\n\\n## Query Analysis Resul...            10  1000.0   \n",
                     "\n",
                     "   n_keywords  r_id_index  s_id_index  \n",
                     "0         2.0        14.0         NaN  \n",
                     "1         2.0         7.0         NaN  \n",
                     "2         2.0         5.0         NaN  \n",
                     "3         2.0        22.0         NaN  \n",
                     "4         2.0         5.0         NaN  "
                  ]
               },
               "execution_count": 4,
               "metadata": {},
               "output_type": "execute_result"
            }
         ],
         "source": [
            "keywords_gt.head()"
         ]
      },
      {
         "cell_type": "code",
         "execution_count": 5,
         "id": "f1191b13-792f-47a0-8d86-b6372937bd64",
         "metadata": {},
         "outputs": [
            {
               "data": {
                  "text/plain": [
                     "(100, 18)"
                  ]
               },
               "execution_count": 5,
               "metadata": {},
               "output_type": "execute_result"
            }
         ],
         "source": [
            "data = keywords_gt[\n",
            "    (keywords_gt['n_keywords'] == 2) & \n",
            "    (keywords_gt['presence'] == 1) &\n",
            "    (keywords_gt['r_id_index'] < 50) &\n",
            "    ((keywords_gt['s_id_index'] < 50) | (pd.isna(keywords_gt['s_id_index'])))\n",
            "].iloc[:].sample(100, random_state=42)\n",
            "\n",
            "data.shape"
         ]
      },
      {
         "cell_type": "code",
         "execution_count": 6,
         "id": "ac2445b5",
         "metadata": {},
         "outputs": [
            {
               "data": {
                  "text/plain": [
                     "7"
                  ]
               },
               "execution_count": 6,
               "metadata": {},
               "output_type": "execute_result"
            }
         ],
         "source": [
            "data[(data['r_id_index'] < 30) & (data['s_id_index'] < 30)].shape[0]"
         ]
      },
      {
         "cell_type": "markdown",
         "id": "8972371f",
         "metadata": {},
         "source": [
            "## Fetching Packages and relative Tables"
         ]
      },
      {
         "cell_type": "code",
         "execution_count": 8,
         "id": "d6bae1d7",
         "metadata": {},
         "outputs": [],
         "source": [
            "from ckan import CanadaCKAN\n",
            "\n",
            "ckan_client = CanadaCKAN() "
         ]
      },
      {
         "cell_type": "code",
         "execution_count": null,
         "id": "96f6bb7f",
         "metadata": {},
         "outputs": [
            {
               "data": {
                  "text/plain": [
                     "'12c89aa5-063a-f0ed-334a-3019133b9ee8'"
                  ]
               },
               "execution_count": 137,
               "metadata": {},
               "output_type": "execute_result"
            }
         ],
         "source": [
            "data.iloc[0]['r_pkg_id']"
         ]
      },
      {
         "cell_type": "code",
         "execution_count": 139,
         "id": "1b224efc",
         "metadata": {},
         "outputs": [],
         "source": [
            "r = ckan_client.package_show(id=data.iloc[0]['r_pkg_id'])"
         ]
      },
      {
         "cell_type": "code",
         "execution_count": 145,
         "id": "dd74333d",
         "metadata": {},
         "outputs": [],
         "source": [
            "del r['result']['resources']"
         ]
      },
      {
         "cell_type": "code",
         "execution_count": 147,
         "id": "80c7520c",
         "metadata": {},
         "outputs": [
            {
               "data": {
                  "text/plain": [
                     "{'aggregate_identifier': '',\n",
                     " 'association_type': [],\n",
                     " 'audience': [],\n",
                     " 'author': None,\n",
                     " 'author_email': None,\n",
                     " 'collection': 'federated',\n",
                     " 'contact_information': '{\"fr\": {\"organization_name\": \"Finances et Conseil du Trésor\",\"electronic_mail_address\": \"opendatadonneesouvertes@snb.ca\"},\"en\": {\"organization_name\": \"Finance and Treasury Board\",\"electronic_mail_address\": \"opendatadonneesouvertes@snb.ca\"}}',\n",
                     " 'contributor': {},\n",
                     " 'creator_user_id': 'b88b9549-3a4b-43a9-9375-5f3fc20fe782',\n",
                     " 'data_series_issue_identification': {},\n",
                     " 'data_series_name': {},\n",
                     " 'date_published': '2021-10-28 00:00:00',\n",
                     " 'display_flags': [],\n",
                     " 'federated_date_modified': '2024-07-09',\n",
                     " 'file_id': '12c89aa5-063a-f0ed-334a-3019133b9ee8',\n",
                     " 'frequency': 'unknown',\n",
                     " 'geographic_region': [],\n",
                     " 'hierarchy_level': 'dataset; jeuDonnées',\n",
                     " 'id': '12c89aa5-063a-f0ed-334a-3019133b9ee8',\n",
                     " 'imso_approval': 'true',\n",
                     " 'isopen': False,\n",
                     " 'jurisdiction': 'provincial',\n",
                     " 'keywords': {'en': ['supplier lists',\n",
                     "   'listes de fournisseurs',\n",
                     "   'public accounts',\n",
                     "   'comptes publics'],\n",
                     "  'fr': ['listes de fournisseurs',\n",
                     "   'suppliers lists',\n",
                     "   'comptes publics',\n",
                     "   'public accounts']},\n",
                     " 'license_id': 'nb-oglnb',\n",
                     " 'license_title': 'Open Government Licence - New Brunswick',\n",
                     " 'license_url': 'http://www.snb.ca/e/2000/data-E.html',\n",
                     " 'maintainer': None,\n",
                     " 'maintainer_contact_form': {'en': '', 'fr': ''},\n",
                     " 'maintainer_email': 'opendatadonneesouvertes@snb.ca',\n",
                     " 'metadata_contact': {'en': 'Finance and Treasury Board',\n",
                     "  'fr': 'Finances et Conseil du Trésor'},\n",
                     " 'metadata_created': '2021-12-21T17:56:29.206069',\n",
                     " 'metadata_modified': '2024-07-24T15:55:16.157180',\n",
                     " 'name': '12c89aa5-063a-f0ed-334a-3019133b9ee8',\n",
                     " 'notes': 'Supplier, grant, loans and purchase card payment information is for the fiscal year ended March 31, 2020. See \"2020-Supplier Lists - Guide to Disclosure_Listes de fournisseurs - Guide de divulgation.pdf\" under Attachments below for further information regarding the disclosures.',\n",
                     " 'notes_translated': {'en': 'Supplier, grant, loans and purchase card payment information is for the fiscal year ended March 31, 2020. See \"2020-Supplier Lists - Guide to Disclosure_Listes de fournisseurs - Guide de divulgation.pdf\" under Attachments below for further information regarding the disclosures.',\n",
                     "  'fr': \"L’information sur les paiements versés aux fournisseurs, les paiements des subventions, les versements de prêts et les paiements au titre des cartes d'achat est présentée pour l’exercice terminé le 31 mars 2020. Voir « 2020-Supplier Lists - Guide to Disclosure_Listes de fournisseurs - Guide de divulgation.pdf » dans les Pièces-jointes ci-dessous pour plus d'informations concernant les divulgations.\"},\n",
                     " 'num_resources': 9,\n",
                     " 'num_tags': 0,\n",
                     " 'org_section': {},\n",
                     " 'org_title_at_publication': {'en': 'Government of New Brunswick',\n",
                     "  'fr': 'Gouvernement du Nouveau-Brunswick'},\n",
                     " 'organization': {'id': '15f95d08-fb23-48d4-876e-2f29e1916b55',\n",
                     "  'name': 'nb',\n",
                     "  'title': 'Government of New Brunswick | Gouvernement du Nouveau-Brunswick',\n",
                     "  'type': 'organization',\n",
                     "  'description': '',\n",
                     "  'image_url': '',\n",
                     "  'created': '2020-05-14T14:46:30.600688',\n",
                     "  'is_organization': True,\n",
                     "  'approval_status': 'approved',\n",
                     "  'state': 'active'},\n",
                     " 'owner_org': '15f95d08-fb23-48d4-876e-2f29e1916b55',\n",
                     " 'place_of_publication': [],\n",
                     " 'position_name': {},\n",
                     " 'private': False,\n",
                     " 'program_page_url': {},\n",
                     " 'ready_to_publish': 'true',\n",
                     " 'responsible_role': 'RI_414',\n",
                     " 'restrictions': 'unrestricted',\n",
                     " 'spatial_representation_type': [],\n",
                     " 'state': 'active',\n",
                     " 'subject': ['government_and_politics'],\n",
                     " 'time_period_coverage_start': '0001-01-01 00:00:00',\n",
                     " 'title': '2020 - Supplier and Grant Payments by Department',\n",
                     " 'title_translated': {'en': '2020 - Supplier and Grant Payments by Department',\n",
                     "  'fr': 'Paiements aux fournisseurs et des subventions par ministère'},\n",
                     " 'topic_category': ['society'],\n",
                     " 'type': 'dataset',\n",
                     " 'url': None,\n",
                     " 'version': None,\n",
                     " 'tags': [],\n",
                     " 'groups': [],\n",
                     " 'relationships_as_subject': [],\n",
                     " 'relationships_as_object': []}"
                  ]
               },
               "execution_count": 147,
               "metadata": {},
               "output_type": "execute_result"
            }
         ],
         "source": [
            "r['result']"
         ]
      },
      {
         "cell_type": "code",
         "execution_count": 9,
         "id": "ad5c7d2c",
         "metadata": {},
         "outputs": [
            {
               "name": "stdout",
               "output_type": "stream",
               "text": [
                  "https://open.canada.ca/data/api/3/action/package_search?q=suppliers+payments&rows=20&defType=edismax&sort=sort desc\n"
               ]
            },
            {
               "data": {
                  "text/plain": [
                     "53"
                  ]
               },
               "execution_count": 9,
               "metadata": {},
               "output_type": "execute_result"
            }
         ],
         "source": [
            "import os\n",
            "import shutil\n",
            "\n",
            "shutil.rmtree('tmp')\n",
            "os.makedirs('tmp', exist_ok=True)\n",
            "\n",
            "cnt = ckan_client.download_tables_from_package_search('tmp', 'csv', 3, q='suppliers+payments', rows=20, defType='edismax', sort='sort desc')\n",
            "\n",
            "cnt"
         ]
      },
      {
         "cell_type": "code",
         "execution_count": 10,
         "id": "96a8dd0a",
         "metadata": {},
         "outputs": [
            {
               "data": {
                  "text/plain": [
                     "(True, True)"
                  ]
               },
               "execution_count": 10,
               "metadata": {},
               "output_type": "execute_result"
            }
         ],
         "source": [
            "resource_ids = list(map(lambda s: s.removesuffix('.csv'), os.listdir('tmp')))\n",
            "\n",
            "data['r_rsc_id'][0] in resource_ids, data['s_rsc_id'][0] in resource_ids"
         ]
      },
      {
         "cell_type": "markdown",
         "id": "30e632e3",
         "metadata": {},
         "source": [
            "## Setup the BLEND index with ALL the downloaded resources"
         ]
      },
      {
         "cell_type": "code",
         "execution_count": null,
         "id": "d60431ce",
         "metadata": {},
         "outputs": [],
         "source": [
            "\n"
         ]
      },
      {
         "cell_type": "code",
         "execution_count": null,
         "id": "ca019132",
         "metadata": {},
         "outputs": [
            {
               "name": "stderr",
               "output_type": "stream",
               "text": [
                  "Parsing and storing tables: 100%|██████████| 10/10 [00:00<00:00, 12.13it/s]\n"
               ]
            },
            {
               "name": "stdout",
               "output_type": "stream",
               "text": [
                  "Tables ingestion completed.\n",
                  "Creating indexes...\n",
                  "Index creation completed.\n"
               ]
            }
         ],
         "source": []
      },
      {
         "cell_type": "code",
         "execution_count": 10,
         "id": "1eb3e3df",
         "metadata": {},
         "outputs": [],
         "source": [
            "import duckdb\n",
            "dbcon = duckdb.connect(os.path.join('data', 'blend.db'))\n",
            "dbcon.close()"
         ]
      },
      {
         "cell_type": "code",
         "execution_count": 4,
         "id": "ea49d52b",
         "metadata": {},
         "outputs": [],
         "source": [
            "dbcon.sql(\"DROP TABLE IF EXISTS AllTables CASCADE;\")"
         ]
      },
      {
         "cell_type": "code",
         "execution_count": null,
         "id": "ca019132",
         "metadata": {},
         "outputs": [
            {
               "name": "stderr",
               "output_type": "stream",
               "text": [
                  "Parsing and storing tables:   0%|          | 0/10 [00:45<?, ?it/s]\n"
               ]
            }
         ],
         "source": [
            "subset_ids = os.listdir(os.path.join('data', 'tmp'))[:10]\n",
            "searcher.create_index(os.path.join('data', 'tmp'), subset_ids, max_workers=6, limit_table_rows=100, verbose=True)"
         ]
      },
      {
         "cell_type": "code",
         "execution_count": 5,
         "id": "bd97b063",
         "metadata": {},
         "outputs": [
            {
               "name": "stdout",
               "output_type": "stream",
               "text": [
                  "┌──────────────────────────────────────────────┬──────────────────────────────────────┬──────────┬────────┬──────────────────┬─────────────┬──────────┬──────────────────────────────────────────────────────────────────────────────────────────────────────────────────────────────────┐\n",
                  "│                  CellValue                   │               TableId                │ ColumnId │ RowId  │ GranularityClass │ Granularity │ Quadrant │                                                             SuperKey                                                             │\n",
                  "│                   varchar                    │               varchar                │  uint32  │ uint32 │     varchar      │   varchar   │ boolean  │                                                               blob                                                               │\n",
                  "├──────────────────────────────────────────────┼──────────────────────────────────────┼──────────┼────────┼──────────────────┼─────────────┼──────────┼──────────────────────────────────────────────────────────────────────────────────────────────────────────────────────────────────┤\n",
                  "│ 0702755 b.c. ltd.                            │ c53c8f11-f8b5-4ca5-8bc7-68c92774d03c │        0 │      0 │ NULL             │ base        │ NULL     │ 00000001000000001000000000000000000000000001000000000000000000000000000000000000010100000000100010000000000000000000100010010000 │\n",
                  "│ 0705180 b.c. ltd.                            │ c53c8f11-f8b5-4ca5-8bc7-68c92774d03c │        0 │      1 │ NULL             │ base        │ NULL     │ 00000001000000001000000001001000001000000000001000000000000000000000000000000000010000010000010000000000000000000000000000010000 │\n",
                  "│ 0707249 b.c. ltd.                            │ c53c8f11-f8b5-4ca5-8bc7-68c92774d03c │        0 │      2 │ NULL             │ base        │ NULL     │ 00000010000000001000010000000000000001000001000000000000000000000000000101000000000000000000100000000000000000000000000010010000 │\n",
                  "│ 0724686 b.c. ltd.                            │ c53c8f11-f8b5-4ca5-8bc7-68c92774d03c │        0 │      3 │ NULL             │ base        │ NULL     │ 00000001000000001000000001001000000001000001000001000000000000000000000000010000000000000000010000100000000000000000000000000000 │\n",
                  "│ 0724848 b.c. ltd.                            │ c53c8f11-f8b5-4ca5-8bc7-68c92774d03c │        0 │      4 │ NULL             │ base        │ NULL     │ 00000001000000001000000000001000000000000001000001000000000000000000000000000000000000010100100000000000000000000000000010010000 │\n",
                  "│ 0731010 b.c. ltd.                            │ c53c8f11-f8b5-4ca5-8bc7-68c92774d03c │        0 │      5 │ NULL             │ base        │ NULL     │ 00000001000000001000000000001000000000001000000000000000000000000000000000000000100000010000000010000000000000000000100010010000 │\n",
                  "│ 0734121 b.c. ltd.                            │ c53c8f11-f8b5-4ca5-8bc7-68c92774d03c │        0 │      6 │ NULL             │ base        │ NULL     │ 00000010000000001000000000001000000001001001000001000000000000000000000000000001000100000000010000000000000000000000000000000000 │\n",
                  "│ 0735677 b.c. ltd.                            │ c53c8f11-f8b5-4ca5-8bc7-68c92774d03c │        0 │      7 │ NULL             │ base        │ NULL     │ 00000001000000001000000000000001001000001000000001000000000000000000000000000000000000000010010100000000000000000000000000010000 │\n",
                  "│ 0739959 b.c. ltd.                            │ c53c8f11-f8b5-4ca5-8bc7-68c92774d03c │        0 │      8 │ NULL             │ base        │ NULL     │ 00000010000000001000000000001000001000001000000001000000000000000000001000001000000000000000010000000000000000000000000000010000 │\n",
                  "│ 0745248 b.c. ltd.                            │ c53c8f11-f8b5-4ca5-8bc7-68c92774d03c │        0 │      9 │ NULL             │ base        │ NULL     │ 00000010000000001000000010001000001000000001000001000000000000000000000000000000001000100000100000000000000000000000000000000000 │\n",
                  "│         ·                                    │                  ·                   │        · │      · │  ·               │  ·          │  ·       │                                                                ·                                                                 │\n",
                  "│         ·                                    │                  ·                   │        · │      · │  ·               │  ·          │  ·       │                                                                ·                                                                 │\n",
                  "│         ·                                    │                  ·                   │        · │      · │  ·               │  ·          │  ·       │                                                                ·                                                                 │\n",
                  "│ payments & grants / paiements et subventions │ a99c50a4-a2f8-4613-9f51-2c5ebb6f4445 │        2 │     90 │ NULL             │ base        │ NULL     │ 00100010001000000010000000010000000000000000100000000000010000000000000000100000000000000000000010000010000000011010000000000000 │\n",
                  "│ payments & grants / paiements et subventions │ a99c50a4-a2f8-4613-9f51-2c5ebb6f4445 │        2 │     91 │ NULL             │ base        │ NULL     │ 00000011010000000010000000000000000000000000101000000000010000100000100000000000000000000010010000000000100000001000000000000001 │\n",
                  "│ payments & grants / paiements et subventions │ a99c50a4-a2f8-4613-9f51-2c5ebb6f4445 │        2 │     92 │ NULL             │ base        │ NULL     │ 00000010001010000010000000000000000000000010100000000000010000000100000000010000000000000000100000100100000001000001010000000000 │\n",
                  "│ payments & grants / paiements et subventions │ a99c50a4-a2f8-4613-9f51-2c5ebb6f4445 │        2 │     93 │ NULL             │ base        │ NULL     │ 00010010001000000010000001000000100000000001100000000000010000000000000000000000000000000000011000010000000000001000000010000000 │\n",
                  "│ payments & grants / paiements et subventions │ a99c50a4-a2f8-4613-9f51-2c5ebb6f4445 │        2 │     94 │ NULL             │ base        │ NULL     │ 00000110010000000010000000000000000010000000100001000000010000000000000000000000000000000100000000000000001001011000000010000000 │\n",
                  "│ payments & grants / paiements et subventions │ a99c50a4-a2f8-4613-9f51-2c5ebb6f4445 │        2 │     95 │ NULL             │ base        │ NULL     │ 00000011001000000010000000000000000000000000101000100001011000100000000000000000000000000000010000010000000000001000010000000000 │\n",
                  "│ payments & grants / paiements et subventions │ a99c50a4-a2f8-4613-9f51-2c5ebb6f4445 │        2 │     96 │ NULL             │ base        │ NULL     │ 00000010001000100010000000000000000000000000100000000000010000000000000100100011000000000000010100001001000000000000000000000000 │\n",
                  "│ payments & grants / paiements et subventions │ a99c50a4-a2f8-4613-9f51-2c5ebb6f4445 │        2 │     97 │ NULL             │ base        │ NULL     │ 00000010011000000010000000010000000000000000100100000000110000000000000100000000001000000000010001000001000010000000000000000000 │\n",
                  "│ payments & grants / paiements et subventions │ a99c50a4-a2f8-4613-9f51-2c5ebb6f4445 │        2 │     98 │ NULL             │ base        │ NULL     │ 00000110001000000010000000000000000000000000100000000000010000000000000000000000010000010000000000001010000100010000000000000000 │\n",
                  "│ payments & grants / paiements et subventions │ a99c50a4-a2f8-4613-9f51-2c5ebb6f4445 │        2 │     99 │ NULL             │ base        │ NULL     │ 00000010010000010010000000000000000000000000100000000000010000000000000000000000000000000100001010100000000001100001000001000000 │\n",
                  "├──────────────────────────────────────────────┴──────────────────────────────────────┴──────────┴────────┴──────────────────┴─────────────┴──────────┴──────────────────────────────────────────────────────────────────────────────────────────────────────────────────────────────────┤\n",
                  "│ 2288 rows (20 shown)                                                                                                                                                                                                                                                         8 columns │\n",
                  "└────────────────────────────────────────────────────────────────────────────────────────────────────────────────────────────────────────────────────────────────────────────────────────────────────────────────────────────────────────────────────────────────────────────────────────┘\n",
                  "\n"
               ]
            }
         ],
         "source": [
            "import duckdb\n",
            "\n",
            "dbcon = duckdb.connect(os.path.join('data', 'blend.db'))\n",
            "dbcon.table('AllTables').show()"
         ]
      },
      {
         "cell_type": "code",
         "execution_count": 141,
         "id": "834310bd",
         "metadata": {},
         "outputs": [
            {
               "data": {
                  "text/plain": [
                     "┌──────────────┐\n",
                     "│ count_star() │\n",
                     "│    int64     │\n",
                     "├──────────────┤\n",
                     "│         2288 │\n",
                     "└──────────────┘"
                  ]
               },
               "execution_count": 141,
               "metadata": {},
               "output_type": "execute_result"
            }
         ],
         "source": [
            "dbcon.sql(\"SELECT COUNT(*) FROM AllTables;\")"
         ]
      },
      {
         "cell_type": "code",
         "execution_count": null,
         "id": "6bee5b0a",
         "metadata": {},
         "outputs": [],
         "source": [
            "import os\n",
            "import re\n",
            "from typing import Dict, List, Literal\n",
            "\n",
            "import polars as pl\n",
            "\n",
            "from blend import BLEND\n",
            "\n",
            "\n",
            "def search_single_joins(\n",
            "    tables_path: str,\n",
            "    searcher: BLEND | None = None,\n",
            "    db_path: str | None = None,\n",
            "    table_ids: List[str] | None = None,\n",
            "    format: Literal[\"csv\", \"parquet\"] = \"csv\",\n",
            "    join_on_columns: Dict[str, List[int]] | None = None,\n",
            "    k: int = 3,\n",
            "    **blend_kwargs,\n",
            ") -> List[Dict]:\n",
            "    \"\"\"\n",
            "    Run a single-column-join search on the given tables.\n",
            "\n",
            "    :param tables_path: directory where table (CSV/parquet) files are stored.\n",
            "    :param searcher: an instance of BLEND searcher. If None, db_path is required to create a new one.\n",
            "    :param db_path: a path where to store the BLEND database, required if searcher parameter is None.\n",
            "    :param table_ids: a subset of table IDs (without any type extension) to use for the search. If None, all tables are used.\n",
            "    :param format: format of tables. Default is CSV.\n",
            "    :param join_on_columns: a dictionary where, for each table,\n",
            "                            is provided a list of columns on which the search is performed.\n",
            "                            If None, the search is done over every column of every tables.\n",
            "    :param k: number of results to return for each search.\n",
            "    :param blend_kwargs: keyword arguments passed to blend.create_index.\n",
            "    :return: a list of dictionaries, where each reports the pair of tablees and columns and the relative overlap.\n",
            "    \"\"\"\n",
            "\n",
            "    # take table IDs\n",
            "    table_ids = list(filter(\n",
            "        lambda _id: True if table_ids is None else _id in table_ids,\n",
            "        map(lambda _id: re.sub(r\"(.csv|.parquet)$\", \"\", _id), os.listdir(tables_path)),\n",
            "    ))\n",
            "\n",
            "    if not searcher:\n",
            "        searcher = BLEND(db_path)\n",
            "        searcher.create_index(data_path=tables_path, **blend_kwargs)\n",
            "\n",
            "    results = []\n",
            "\n",
            "    for table_id in table_ids:\n",
            "        n_rows = blend_kwargs.get(\"limit_table_rows\", None)\n",
            "\n",
            "        # read the current query table\n",
            "        match format:\n",
            "            case \"csv\":\n",
            "                df = pl.read_csv(\n",
            "                    os.path.join(tables_path, table_id + \".csv\"), n_rows=n_rows\n",
            "                )\n",
            "            case \"parquet\":\n",
            "                df = pl.read_parquet(\n",
            "                    os.path.join(tables_path, table_id + \".parquet\"), r_rows=n_rows\n",
            "                )\n",
            "\n",
            "        # for each column, perform a signle-join-search\n",
            "        for column in df.columns:\n",
            "            # if this column is not in the subset of\n",
            "            # selected columns for this table, continue\n",
            "            if (\n",
            "                join_on_columns\n",
            "                and table_id in join_on_columns\n",
            "                and column not in join_on_columns[table_id]\n",
            "            ):\n",
            "                continue\n",
            "\n",
            "            query_values = df.get_column(column).to_list()\n",
            "\n",
            "            # perform the search with BLEND\n",
            "            res = searcher.single_column_join_search(query_values, k)\n",
            "\n",
            "            for res_table_id, res_column_id, overlap in res:\n",
            "                match format:\n",
            "                    case \"csv\":\n",
            "                        r_df = pl.read_csv(\n",
            "                            os.path.join(tables_path, res_table_id + \".csv\"), n_rows=0\n",
            "                        )\n",
            "                    case \"parquet\":\n",
            "                        r_df = pl.read_parquet(\n",
            "                            os.path.join(tables_path, res_table_id + \".parquet\"),\n",
            "                            r_rows=0,\n",
            "                        )\n",
            "\n",
            "                results.append(\n",
            "                    {\n",
            "                        \"left_table\": table_id,\n",
            "                        \"left_column\": column,\n",
            "                        \"right_table\": res_table_id,\n",
            "                        \"right_column\": r_df.columns[res_column_id],\n",
            "                        \"overlap\": overlap,\n",
            "                    }\n",
            "                )\n",
            "\n",
            "    return results\n",
            "\n",
            "\n",
            "def main():\n",
            "    pass\n",
            "\n",
            "\n",
            "if __name__ == \"__main__\":\n",
            "    main()\n"
         ]
      },
      {
         "cell_type": "code",
         "execution_count": 5,
         "id": "b3fb8fe5",
         "metadata": {},
         "outputs": [
            {
               "name": "stdout",
               "output_type": "stream",
               "text": [
                  "['f4b00406-0e71-4ac1-b78b-0faa732a210e', '77296379-7101-4638-a0e8-ad779996f010']\n"
               ]
            }
         ],
         "source": [
            "import re \n",
            "\n",
            "query_tables = os.listdir(os.path.join('data', 'tmp'))[11:13]\n",
            "query_tables = list(map(lambda _id: re.sub(r\"(\\.csv|\\.parquet)\", \"\", _id), query_tables))\n",
            "\n",
            "results = search_single_joins(os.path.join('data', 'tmp'), searcher, os.path.join('data', 'blend.db'), query_tables)"
         ]
      },
      {
         "cell_type": "code",
         "execution_count": 6,
         "id": "1db3f792",
         "metadata": {},
         "outputs": [
            {
               "data": {
                  "text/plain": [
                     "[{'left_table': 'f4b00406-0e71-4ac1-b78b-0faa732a210e',\n",
                     "  'left_column': 'Payment / Paiement',\n",
                     "  'right_table': 'f838d643-e46c-4c90-adf2-d5b8ea694298',\n",
                     "  'right_column': 'Payment / Paiement',\n",
                     "  'overlap': 10},\n",
                     " {'left_table': 'f4b00406-0e71-4ac1-b78b-0faa732a210e',\n",
                     "  'left_column': 'Payment / Paiement',\n",
                     "  'right_table': '18c17dcf-617d-44d7-b351-6fd7c3fc6b48',\n",
                     "  'right_column': 'Amount',\n",
                     "  'overlap': 4},\n",
                     " {'left_table': 'f4b00406-0e71-4ac1-b78b-0faa732a210e',\n",
                     "  'left_column': 'Payment / Paiement',\n",
                     "  'right_table': 'a99c50a4-a2f8-4613-9f51-2c5ebb6f4445',\n",
                     "  'right_column': 'Payment / Paiement',\n",
                     "  'overlap': 3},\n",
                     " {'left_table': '77296379-7101-4638-a0e8-ad779996f010',\n",
                     "  'left_column': 'Payment / Paiement',\n",
                     "  'right_table': 'f838d643-e46c-4c90-adf2-d5b8ea694298',\n",
                     "  'right_column': 'Payment / Paiement',\n",
                     "  'overlap': 100},\n",
                     " {'left_table': '77296379-7101-4638-a0e8-ad779996f010',\n",
                     "  'left_column': 'Payment / Paiement',\n",
                     "  'right_table': 'a99c50a4-a2f8-4613-9f51-2c5ebb6f4445',\n",
                     "  'right_column': 'Payment / Paiement',\n",
                     "  'overlap': 4},\n",
                     " {'left_table': '77296379-7101-4638-a0e8-ad779996f010',\n",
                     "  'left_column': 'Payment / Paiement',\n",
                     "  'right_table': '18c17dcf-617d-44d7-b351-6fd7c3fc6b48',\n",
                     "  'right_column': 'Amount',\n",
                     "  'overlap': 2}]"
                  ]
               },
               "execution_count": 6,
               "metadata": {},
               "output_type": "execute_result"
            }
         ],
         "source": [
            "results"
         ]
      },
      {
         "cell_type": "code",
         "execution_count": null,
         "id": "28707abb-d3f7-440a-a05e-542ed38bd05f",
         "metadata": {},
         "outputs": [],
         "source": [
            "s_rsc_metadata = ckan_client.resource_show(resource_id=data['s_rsc_id'][0])"
         ]
      },
      {
         "cell_type": "code",
         "execution_count": null,
         "id": "8b9d841b",
         "metadata": {},
         "outputs": [],
         "source": [
            "response = ckan_client.package_search(\"payment+supplier\", 3)"
         ]
      },
      {
         "cell_type": "code",
         "execution_count": 1,
         "id": "09dfb7ff",
         "metadata": {},
         "outputs": [
            {
               "name": "stdout",
               "output_type": "stream",
               "text": [
                  "['5935eeed-d098-472c-a9ee-9a2f110ad774.csv', '1bf14924-fbf1-4751-81f8-303500e423cc.csv', 'a7c95445-e336-41e3-945c-1bc938ff0612.csv', 'ae2204c7-db9e-450e-8158-c70eedada7ae.csv', '6730abbb-c9c8-420e-8212-3b469919e488.csv', '61f67f87-aebf-4d94-b34e-7bed82375589.csv', 'e5a6ce4d-cdda-4694-a06f-bec1a0079915.csv', '894f8bee-a888-4bc5-bc2d-caf3214316fc.csv', 'c1b40c98-e75b-476e-b1e4-fbff314b84ec.csv', '46131b54-5905-4e44-96b2-446bab3eb974.csv']\n"
               ]
            },
            {
               "data": {
                  "text/plain": [
                     "['5935eeed-d098-472c-a9ee-9a2f110ad774',\n",
                     " '1bf14924-fbf1-4751-81f8-303500e423cc',\n",
                     " 'a7c95445-e336-41e3-945c-1bc938ff0612',\n",
                     " 'ae2204c7-db9e-450e-8158-c70eedada7ae',\n",
                     " '6730abbb-c9c8-420e-8212-3b469919e488',\n",
                     " '61f67f87-aebf-4d94-b34e-7bed82375589',\n",
                     " 'e5a6ce4d-cdda-4694-a06f-bec1a0079915',\n",
                     " '894f8bee-a888-4bc5-bc2d-caf3214316fc',\n",
                     " 'c1b40c98-e75b-476e-b1e4-fbff314b84ec',\n",
                     " '46131b54-5905-4e44-96b2-446bab3eb974']"
                  ]
               },
               "execution_count": 1,
               "metadata": {},
               "output_type": "execute_result"
            }
         ],
         "source": [
            "# get name of csvs in downloads folder\n",
            "import os\n",
            "csv_files = [f for f in os.listdir('../downloads') if f.endswith('.csv')\n",
            "                and not f.startswith('._') and not f.startswith('.')]\n",
            "print(csv_files)\n",
            "\n",
            "# remove .csv from filenames\n",
            "csv_files = [f.removesuffix('.csv') for f in csv_files]\n",
            "\n",
            "csv_files"
         ]
      },
      {
         "cell_type": "code",
         "execution_count": 2,
         "id": "5083dd1a",
         "metadata": {},
         "outputs": [
            {
               "name": "stdout",
               "output_type": "stream",
               "text": [
                  "['5935eeed-d098-472c-a9ee-9a2f110ad774.csv', '1bf14924-fbf1-4751-81f8-303500e423cc.csv', 'a7c95445-e336-41e3-945c-1bc938ff0612.csv', 'ae2204c7-db9e-450e-8158-c70eedada7ae.csv', '6730abbb-c9c8-420e-8212-3b469919e488.csv', '61f67f87-aebf-4d94-b34e-7bed82375589.csv', 'e5a6ce4d-cdda-4694-a06f-bec1a0079915.csv', '894f8bee-a888-4bc5-bc2d-caf3214316fc.csv', 'c1b40c98-e75b-476e-b1e4-fbff314b84ec.csv', '46131b54-5905-4e44-96b2-446bab3eb974.csv']\n",
                  "Searching in tables: ['5935eeed-d098-472c-a9ee-9a2f110ad774', '1bf14924-fbf1-4751-81f8-303500e423cc', 'a7c95445-e336-41e3-945c-1bc938ff0612', 'ae2204c7-db9e-450e-8158-c70eedada7ae', '6730abbb-c9c8-420e-8212-3b469919e488', '61f67f87-aebf-4d94-b34e-7bed82375589', 'e5a6ce4d-cdda-4694-a06f-bec1a0079915', '894f8bee-a888-4bc5-bc2d-caf3214316fc', 'c1b40c98-e75b-476e-b1e4-fbff314b84ec', '46131b54-5905-4e44-96b2-446bab3eb974']\n",
                  "Creating a new BLEND searcher with db_path: blend.db\n",
                  "Searching in table 5935eeed-d098-472c-a9ee-9a2f110ad774...\n",
                  "Number of rows to read: 1000\n"
               ]
            },
            {
               "ename": "TypeError",
               "evalue": "Plan.__init__() missing 1 required positional argument: 'db'",
               "output_type": "error",
               "traceback": [
                  "\u001b[0;31m---------------------------------------------------------------------------\u001b[0m",
                  "\u001b[0;31mTypeError\u001b[0m                                 Traceback (most recent call last)",
                  "Cell \u001b[0;32mIn[2], line 5\u001b[0m\n\u001b[1;32m      2\u001b[0m sys\u001b[38;5;241m.\u001b[39mpath\u001b[38;5;241m.\u001b[39mappend(\u001b[38;5;124m'\u001b[39m\u001b[38;5;124m..\u001b[39m\u001b[38;5;124m'\u001b[39m)\n\u001b[1;32m      3\u001b[0m \u001b[38;5;28;01mfrom\u001b[39;00m\u001b[38;5;250m \u001b[39m\u001b[38;5;21;01msearch_relations\u001b[39;00m\u001b[38;5;250m \u001b[39m\u001b[38;5;28;01mimport\u001b[39;00m search_single_joins\n\u001b[0;32m----> 5\u001b[0m \u001b[43msearch_single_joins\u001b[49m\u001b[43m(\u001b[49m\u001b[43mtables_path\u001b[49m\u001b[38;5;241;43m=\u001b[39;49m\u001b[38;5;124;43m'\u001b[39;49m\u001b[38;5;124;43m/home/angelo.mozzillo/lakegen_demo/downloads\u001b[39;49m\u001b[38;5;124;43m'\u001b[39;49m\u001b[43m,\u001b[49m\u001b[43m \u001b[49m\u001b[43mdb_path\u001b[49m\u001b[38;5;241;43m=\u001b[39;49m\u001b[38;5;124;43m'\u001b[39;49m\u001b[38;5;124;43mblend.db\u001b[39;49m\u001b[38;5;124;43m'\u001b[39;49m\u001b[43m,\u001b[49m\u001b[43m \u001b[49m\u001b[43mtable_ids\u001b[49m\u001b[38;5;241;43m=\u001b[39;49m\u001b[43mcsv_files\u001b[49m\u001b[43m,\u001b[49m\u001b[43m \u001b[49m\u001b[43mlimit_table_rows\u001b[49m\u001b[38;5;241;43m=\u001b[39;49m\u001b[38;5;241;43m1000\u001b[39;49m\u001b[43m,\u001b[49m\u001b[43m \u001b[49m\u001b[43mmax_workers\u001b[49m\u001b[38;5;241;43m=\u001b[39;49m\u001b[38;5;241;43m6\u001b[39;49m\u001b[43m)\u001b[49m\n",
                  "File \u001b[0;32m/dati/home/angelo.mozzillo/lakegen_demo/tables_filtering/search_relations.py:90\u001b[0m, in \u001b[0;36msearch_single_joins\u001b[0;34m(tables_path, searcher, db_path, table_ids, format, join_on_columns, k, **blend_kwargs)\u001b[0m\n\u001b[1;32m     87\u001b[0m query_values \u001b[38;5;241m=\u001b[39m df\u001b[38;5;241m.\u001b[39mget_column(column)\u001b[38;5;241m.\u001b[39mto_list()\n\u001b[1;32m     89\u001b[0m \u001b[38;5;66;03m# perform the search with BLEND\u001b[39;00m\n\u001b[0;32m---> 90\u001b[0m res \u001b[38;5;241m=\u001b[39m \u001b[43msearcher\u001b[49m\u001b[38;5;241;43m.\u001b[39;49m\u001b[43msingle_column_join_search\u001b[49m\u001b[43m(\u001b[49m\u001b[43mquery_values\u001b[49m\u001b[43m,\u001b[49m\u001b[43m \u001b[49m\u001b[43mk\u001b[49m\u001b[43m)\u001b[49m\n\u001b[1;32m     92\u001b[0m \u001b[38;5;28;01mfor\u001b[39;00m res_table_id, res_column_id, overlap \u001b[38;5;129;01min\u001b[39;00m res:\n\u001b[1;32m     93\u001b[0m     \u001b[38;5;28;01mmatch\u001b[39;00m \u001b[38;5;28mformat\u001b[39m:\n",
                  "File \u001b[0;32m/dati/home/angelo.mozzillo/lakegen_demo/tables_filtering/../blend/blend.py:294\u001b[0m, in \u001b[0;36mBLEND.single_column_join_search\u001b[0;34m(self, values, k, granularity)\u001b[0m\n\u001b[1;32m    291\u001b[0m \u001b[38;5;28;01mdef\u001b[39;00m\u001b[38;5;250m \u001b[39m\u001b[38;5;21msingle_column_join_search\u001b[39m(\n\u001b[1;32m    292\u001b[0m     \u001b[38;5;28mself\u001b[39m, values: List[\u001b[38;5;28mstr\u001b[39m], k: \u001b[38;5;28mint\u001b[39m, granularity: \u001b[38;5;28mstr\u001b[39m \u001b[38;5;241m=\u001b[39m \u001b[38;5;124m\"\u001b[39m\u001b[38;5;124mbase\u001b[39m\u001b[38;5;124m\"\u001b[39m\n\u001b[1;32m    293\u001b[0m ):\n\u001b[0;32m--> 294\u001b[0m     \u001b[38;5;28;01mreturn\u001b[39;00m \u001b[43mSingleColumnJoinSearch\u001b[49m\u001b[43m(\u001b[49m\u001b[43mvalues\u001b[49m\u001b[43m,\u001b[49m\u001b[43m \u001b[49m\u001b[43mk\u001b[49m\u001b[43m,\u001b[49m\u001b[43m \u001b[49m\u001b[43mgranularity\u001b[49m\u001b[43m)\u001b[49m\u001b[38;5;241m.\u001b[39mrun()\n",
                  "File \u001b[0;32m/dati/home/angelo.mozzillo/lakegen_demo/tables_filtering/../blend/Tasks/SingleColumnJoinSearch.py:11\u001b[0m, in \u001b[0;36mSingleColumnJoinSearch\u001b[0;34m(query_values, k, granularity)\u001b[0m\n\u001b[1;32m      8\u001b[0m \u001b[38;5;28;01mdef\u001b[39;00m\u001b[38;5;250m \u001b[39m\u001b[38;5;21mSingleColumnJoinSearch\u001b[39m(\n\u001b[1;32m      9\u001b[0m     query_values: Iterable[\u001b[38;5;28many\u001b[39m], k: \u001b[38;5;28mint\u001b[39m \u001b[38;5;241m=\u001b[39m \u001b[38;5;241m10\u001b[39m, granularity: \u001b[38;5;28mstr\u001b[39m \u001b[38;5;241m=\u001b[39m \u001b[38;5;124m\"\u001b[39m\u001b[38;5;124mbase\u001b[39m\u001b[38;5;124m\"\u001b[39m\n\u001b[1;32m     10\u001b[0m ) \u001b[38;5;241m-\u001b[39m\u001b[38;5;241m>\u001b[39m Plan:\n\u001b[0;32m---> 11\u001b[0m     plan \u001b[38;5;241m=\u001b[39m \u001b[43mPlan\u001b[49m\u001b[43m(\u001b[49m\u001b[43m)\u001b[49m\n\u001b[1;32m     12\u001b[0m     plan\u001b[38;5;241m.\u001b[39madd(\u001b[38;5;124m\"\u001b[39m\u001b[38;5;124msingle_column_overlap\u001b[39m\u001b[38;5;124m\"\u001b[39m, SingleColumnOverlap(query_values, k, granularity))\n\u001b[1;32m     13\u001b[0m     \u001b[38;5;28;01mreturn\u001b[39;00m plan\n",
                  "\u001b[0;31mTypeError\u001b[0m: Plan.__init__() missing 1 required positional argument: 'db'"
               ]
            }
         ],
         "source": [
            "import sys\n",
            "sys.path.append('..')\n",
            "from search_relations import search_single_joins\n",
            "\n",
            "search_single_joins(tables_path='/home/angelo.mozzillo/lakegen_demo/downloads', db_path='blend.db', table_ids=csv_files, limit_table_rows=1000, max_workers=6)"
         ]
      },
      {
         "cell_type": "markdown",
         "id": "b7cb8842",
         "metadata": {},
         "source": [
            "## Packages pre-filtering"
         ]
      },
      {
         "cell_type": "markdown",
         "id": "9843d8b8",
         "metadata": {},
         "source": [
            "If we can **pre-filter** tables by checking their relevance from package metadata, we can download and post-process **few data** and **reduce the search space** for the subsequent table-selector agent"
         ]
      },
      {
         "cell_type": "markdown",
         "id": "f56b3276",
         "metadata": {},
         "source": [
            "### Setup Agent and Prompts"
         ]
      },
      {
         "cell_type": "code",
         "execution_count": 4,
         "id": "dba825cf",
         "metadata": {},
         "outputs": [],
         "source": [
            "import os\n",
            "\n",
            "from dotenv import load_dotenv\n",
            "from autogen_core.models import UserMessage\n",
            "from autogen_agentchat.agents import AssistantAgent\n",
            "from autogen_agentchat.messages import StructuredMessage\n",
            "from autogen_agentchat.ui import Console\n",
            "from autogen_ext.models.openai import OpenAIChatCompletionClient"
         ]
      },
      {
         "cell_type": "code",
         "execution_count": 5,
         "id": "7a1b7d83",
         "metadata": {},
         "outputs": [],
         "source": [
            "# same seed for any random operation\n",
            "seed = 42\n",
            "\n",
            "# Load environment variables from .env file\n",
            "load_dotenv()\n",
            "assert \"TOGETHER_API_KEY\" in os.environ\n",
            "\n",
            "settings = {\n",
            "    \"model\": \"Qwen/Qwen3-235B-A22B-fp8-tput\",\n",
            "    \"temperature\": 0.1,\n",
            "    \"top_p\": 1,\n",
            "    \"frequency_penalty\": 0,\n",
            "    \"presence_penalty\": 0,\n",
            "    \"max_tokens\": 10000,\n",
            "}\n",
            "\n",
            "model_client = OpenAIChatCompletionClient(\n",
            "    base_url = \"https://api.together.xyz/v1/\",\n",
            "    api_key=os.getenv(\"TOGETHER_API_KEY\", \"\"),\n",
            "    model_info= {\n",
            "        \"vision\": False,\n",
            "        \"function_calling\": True,\n",
            "        \"json_output\": True,\n",
            "        \"family\": \"unknown\",\n",
            "        \"structured_output\": True\n",
            "    },\n",
            "    **settings   \n",
            ")"
         ]
      },
      {
         "cell_type": "code",
         "execution_count": 91,
         "id": "c5df4c9f",
         "metadata": {},
         "outputs": [],
         "source": [
            "with open(os.path.join('prompts', 'TablePreFilter.md')) as file:\n",
            "    TABLE_PRE_FILTER_SYSTEM_PROMPT = file.read()\n",
            "\n",
            "with open(os.path.join('prompts', 'TablePreFilter-task.md')) as file:\n",
            "    TABLE_PRE_FILTER_TASK_PROMPT = file.read()\n",
            "\n",
            "with open(os.path.join('prompts', 'TablePreFilter-allatonce.md')) as file:\n",
            "    TABLE_PRE_FILTER_ALL_SYSTEM_PROMPT = file.read()\n",
            "\n",
            "TABLE_PRE_FILTER_ALL_TASK_QUESTION_PROMPT = \"<question>{question}</question>\"\n",
            "TABLE_PRE_FILTER_ALL_TASK_PACKAGE_PROMPT = \"<package>{title}</package><notes>{notes}</notes>\""
         ]
      },
      {
         "cell_type": "code",
         "execution_count": 74,
         "id": "8d1156d6",
         "metadata": {},
         "outputs": [],
         "source": [
            "# analyze packages one-by-one, \n",
            "# without a overall view of available packages\n",
            "analyzer = AssistantAgent(\n",
            "    name=\"TablePreFilter\", \n",
            "    model_client=model_client, \n",
            "    system_message=TABLE_PRE_FILTER_SYSTEM_PROMPT\n",
            ")"
         ]
      },
      {
         "cell_type": "code",
         "execution_count": 92,
         "id": "2f74affd",
         "metadata": {},
         "outputs": [],
         "source": [
            "# analyze packages all-at-once\n",
            "analyzer_all = AssistantAgent(\n",
            "    name=\"TablePreFilter_all\", \n",
            "    model_client=model_client, \n",
            "    system_message=TABLE_PRE_FILTER_ALL_SYSTEM_PROMPT\n",
            ")"
         ]
      },
      {
         "cell_type": "markdown",
         "id": "768d3498",
         "metadata": {},
         "source": [
            "### Prepare data for querying the agent"
         ]
      },
      {
         "cell_type": "code",
         "execution_count": 68,
         "id": "70f82146",
         "metadata": {},
         "outputs": [
            {
               "data": {
                  "text/html": [
                     "<div>\n",
                     "<style scoped>\n",
                     "    .dataframe tbody tr th:only-of-type {\n",
                     "        vertical-align: middle;\n",
                     "    }\n",
                     "\n",
                     "    .dataframe tbody tr th {\n",
                     "        vertical-align: top;\n",
                     "    }\n",
                     "\n",
                     "    .dataframe thead th {\n",
                     "        text-align: right;\n",
                     "    }\n",
                     "</style>\n",
                     "<table border=\"1\" class=\"dataframe\">\n",
                     "  <thead>\n",
                     "    <tr style=\"text-align: right;\">\n",
                     "      <th></th>\n",
                     "      <th>country_tag</th>\n",
                     "      <th>type</th>\n",
                     "      <th>difficulty</th>\n",
                     "      <th>r_rsc_id</th>\n",
                     "      <th>s_rsc_id</th>\n",
                     "      <th>r_pkg_id</th>\n",
                     "      <th>s_pkg_id</th>\n",
                     "      <th>r_col_name</th>\n",
                     "      <th>s_col_name</th>\n",
                     "      <th>nl</th>\n",
                     "      <th>top_k</th>\n",
                     "      <th>n_keywords</th>\n",
                     "      <th>keywords</th>\n",
                     "      <th>presence</th>\n",
                     "      <th>result_count</th>\n",
                     "      <th>r_id_index</th>\n",
                     "      <th>s_id_index</th>\n",
                     "      <th>prompt_tokens</th>\n",
                     "      <th>completion_tokens</th>\n",
                     "      <th>response</th>\n",
                     "    </tr>\n",
                     "  </thead>\n",
                     "  <tbody>\n",
                     "    <tr>\n",
                     "      <th>0</th>\n",
                     "      <td>CAN</td>\n",
                     "      <td>multi-table-join</td>\n",
                     "      <td>simple</td>\n",
                     "      <td>ce336623-43d6-4e5d-81d8-26fb9145cf92</td>\n",
                     "      <td>ab5df4ac-7f55-461b-934f-d7af48d18e6f</td>\n",
                     "      <td>2f40fb8f-a9e7-4f5b-94e9-04fbfaa10676</td>\n",
                     "      <td>2013c544-62e8-4485-ad4b-6e5ba5e373b9</td>\n",
                     "      <td>coa_segment_04_l3_and_desc</td>\n",
                     "      <td>coa_segment_04_l3_and_desc</td>\n",
                     "      <td>How do the operating expenses for different fi...</td>\n",
                     "      <td>1000</td>\n",
                     "      <td>2</td>\n",
                     "      <td>british columbia+operating expenses</td>\n",
                     "      <td>1</td>\n",
                     "      <td>47</td>\n",
                     "      <td>0.0</td>\n",
                     "      <td>31.0</td>\n",
                     "      <td>649</td>\n",
                     "      <td>19</td>\n",
                     "      <td>&lt;think&gt;\\n\\n&lt;/think&gt;\\n\\n&lt;keywords&gt;british colum...</td>\n",
                     "    </tr>\n",
                     "  </tbody>\n",
                     "</table>\n",
                     "</div>"
                  ],
                  "text/plain": [
                     "  country_tag              type difficulty  \\\n",
                     "0         CAN  multi-table-join     simple   \n",
                     "\n",
                     "                               r_rsc_id                              s_rsc_id  \\\n",
                     "0  ce336623-43d6-4e5d-81d8-26fb9145cf92  ab5df4ac-7f55-461b-934f-d7af48d18e6f   \n",
                     "\n",
                     "                               r_pkg_id                              s_pkg_id  \\\n",
                     "0  2f40fb8f-a9e7-4f5b-94e9-04fbfaa10676  2013c544-62e8-4485-ad4b-6e5ba5e373b9   \n",
                     "\n",
                     "                   r_col_name                  s_col_name  \\\n",
                     "0  coa_segment_04_l3_and_desc  coa_segment_04_l3_and_desc   \n",
                     "\n",
                     "                                                  nl  top_k  n_keywords  \\\n",
                     "0  How do the operating expenses for different fi...   1000           2   \n",
                     "\n",
                     "                              keywords  presence  result_count  r_id_index  \\\n",
                     "0  british columbia+operating expenses         1            47         0.0   \n",
                     "\n",
                     "   s_id_index  prompt_tokens  completion_tokens  \\\n",
                     "0        31.0            649                 19   \n",
                     "\n",
                     "                                            response  \n",
                     "0  <think>\\n\\n</think>\\n\\n<keywords>british colum...  "
                  ]
               },
               "execution_count": 68,
               "metadata": {},
               "output_type": "execute_result"
            }
         ],
         "source": [
            "data"
         ]
      },
      {
         "cell_type": "code",
         "execution_count": 69,
         "id": "3631b672",
         "metadata": {},
         "outputs": [
            {
               "data": {
                  "text/plain": [
                     "'british columbia+operating expenses'"
                  ]
               },
               "execution_count": 69,
               "metadata": {},
               "output_type": "execute_result"
            }
         ],
         "source": [
            "keywords = data['keywords'][0]\n",
            "keywords"
         ]
      },
      {
         "cell_type": "code",
         "execution_count": 100,
         "id": "1248cb54",
         "metadata": {},
         "outputs": [
            {
               "name": "stdout",
               "output_type": "stream",
               "text": [
                  "https://open.canada.ca/data/api/3/action/package_search?q=british columbia+operating expenses&rows=50&defType=edismax&sort=sort desc\n"
               ]
            }
         ],
         "source": [
            "from ckan import CanadaCKAN\n",
            "\n",
            "ckan_client = CanadaCKAN() \n",
            "\n",
            "ckan_response = ckan_client.package_search(q=keywords, rows=50, defType='edismax', sort='sort desc')"
         ]
      },
      {
         "cell_type": "code",
         "execution_count": 101,
         "id": "c6d711cb",
         "metadata": {},
         "outputs": [],
         "source": [
            "packages = ckan_response['result']['results']"
         ]
      },
      {
         "cell_type": "code",
         "execution_count": 102,
         "id": "bb3d8fb7",
         "metadata": {},
         "outputs": [
            {
               "data": {
                  "text/plain": [
                     "\"How do the operating expenses for different fiscal years compare between the 2018 and 2023 supplementary estimates for various ministries in the Government of British Columbia budget? Specifically, I'm interested in seeing the alignment of these expenses based on their specific cost categories like salaries and benefits or operating costs.\""
                  ]
               },
               "execution_count": 102,
               "metadata": {},
               "output_type": "execute_result"
            }
         ],
         "source": [
            "data['nl'][0]"
         ]
      },
      {
         "cell_type": "code",
         "execution_count": 105,
         "id": "7bd2e92a",
         "metadata": {},
         "outputs": [],
         "source": [
            "desired_package_ids = [data['r_pkg_id'][0], data['s_pkg_id'][0]]"
         ]
      },
      {
         "cell_type": "code",
         "execution_count": 106,
         "id": "724622c1",
         "metadata": {},
         "outputs": [
            {
               "name": "stdout",
               "output_type": "stream",
               "text": [
                  "2f40fb8f-a9e7-4f5b-94e9-04fbfaa10676 True\n",
                  "2013c544-62e8-4485-ad4b-6e5ba5e373b9 True\n"
               ]
            }
         ],
         "source": [
            "for d in desired_package_ids:\n",
            "    s = False\n",
            "    for p in packages:\n",
            "        if p['id'] == d:\n",
            "            s = True\n",
            "            break\n",
            "    print(d, s)"
         ]
      },
      {
         "cell_type": "markdown",
         "id": "50861305",
         "metadata": {},
         "source": [
            "### Query the Agent"
         ]
      },
      {
         "cell_type": "code",
         "execution_count": null,
         "id": "be912e09",
         "metadata": {},
         "outputs": [
            {
               "name": "stderr",
               "output_type": "stream",
               "text": [
                  "100%|██████████| 17/17 [06:10<00:00, 21.77s/it]\n"
               ]
            }
         ],
         "source": [
            "# ask the agent for an answer. If no_think=True, the thinking process is truncated.\n",
            "# A much shorter time is required for this option\n",
            "no_think = False\n",
            "model_choices = []\n",
            "\n",
            "for package in tqdm(packages[:0]):\n",
            "    # print(package['title'])\n",
            "    # print(package['notes'])\n",
            "    # print(', '.join(package['keywords']['en']))\n",
            "    # print()\n",
            "    prompt = TABLE_PRE_FILTER_TASK_PROMPT.format(\n",
            "        question=data['nl'][0],\n",
            "        title=package['title'],\n",
            "        # notes='N/A', \n",
            "        notes=package['notes'][:300],\n",
            "        keywords='N/A' # ', '.join(package['keywords']['en'])\n",
            "        # keywords=', '.join(package['keywords']['en'])\n",
            "    )\n",
            "\n",
            "    if no_think:\n",
            "        prompt = '/nothink' + ' ' + prompt\n",
            "\n",
            "    response = await analyzer.run(task=prompt)\n",
            "    response = response.messages[-1]\n",
            "    model_choices.append(response)"
         ]
      },
      {
         "cell_type": "code",
         "execution_count": 113,
         "id": "b080ab91",
         "metadata": {},
         "outputs": [],
         "source": [
            "# ask the agent for an answer. If no_think=True, the thinking process is truncated.\n",
            "# A much shorter time is required for this option\n",
            "no_think = True\n",
            "model_allatonce_choices = []\n",
            "\n",
            "prompt = TABLE_PRE_FILTER_ALL_TASK_QUESTION_PROMPT\n",
            "prompt = prompt.format(question=data['nl'][0])\n",
            "\n",
            "for package in packages:\n",
            "    prompt += TABLE_PRE_FILTER_ALL_TASK_PACKAGE_PROMPT.format(\n",
            "        title=package['title'],\n",
            "        notes=package['notes'][:200]\n",
            "    ) + '\\n'\n",
            "\n",
            "if no_think:\n",
            "    prompt = '/nothink' + ' ' + prompt\n",
            "\n",
            "response = await analyzer_all.run(task=prompt)\n",
            "response = response.messages[-1]\n",
            "model_allatonce_choices.append(response)"
         ]
      },
      {
         "cell_type": "code",
         "execution_count": 127,
         "id": "a0cb461d",
         "metadata": {},
         "outputs": [
            {
               "ename": "AttributeError",
               "evalue": "'AssistantAgent' object has no attribute 'create'",
               "output_type": "error",
               "traceback": [
                  "\u001b[31m---------------------------------------------------------------------------\u001b[39m",
                  "\u001b[31mAttributeError\u001b[39m                            Traceback (most recent call last)",
                  "\u001b[36mCell\u001b[39m\u001b[36m \u001b[39m\u001b[32mIn[127]\u001b[39m\u001b[32m, line 1\u001b[39m\n\u001b[32m----> \u001b[39m\u001b[32m1\u001b[39m \u001b[43manalyzer_all\u001b[49m\u001b[43m.\u001b[49m\u001b[43mcreate\u001b[49m\n",
                  "\u001b[31mAttributeError\u001b[39m: 'AssistantAgent' object has no attribute 'create'"
               ]
            }
         ],
         "source": [
            "analyzer_all.create"
         ]
      },
      {
         "cell_type": "code",
         "execution_count": 114,
         "id": "f80e98cd",
         "metadata": {},
         "outputs": [],
         "source": [
            "# extract the YES/NO answer from the agent reply\n",
            "import re\n",
            "\n",
            "answers = [\n",
            "    re.search(r\"<answer>(YES|NO)</answer>\", message.content).group(1)\n",
            "    for message in model_choices\n",
            "]\n",
            "\n",
            "answers = list(zip(answers, [p['id'] for p in ckan_response['result']['results']]))\n",
            "answers = [a[1] for a in answers if a[0] == 'YES']\n",
            "# answers"
         ]
      },
      {
         "cell_type": "code",
         "execution_count": 116,
         "id": "b973238b",
         "metadata": {},
         "outputs": [
            {
               "data": {
                  "text/plain": [
                     "[('2f40fb8f-a9e7-4f5b-94e9-04fbfaa10676',\n",
                     "  'Budget 2023 - Supplement to the Estimates'),\n",
                     " ('2013c544-62e8-4485-ad4b-6e5ba5e373b9',\n",
                     "  'Budget 2018 - Supplement to the Estimates')]"
                  ]
               },
               "execution_count": 116,
               "metadata": {},
               "output_type": "execute_result"
            }
         ],
         "source": [
            "answers = re.findall(r\"<package>(.*)</package><answer>(YES|NO)</answer>\", model_allatonce_choices[0].content)\n",
            "answers = [(i['id'], a[0]) for i, a in zip(packages, answers) if a[1] == 'YES']\n",
            "selected_ids = [a[0] for a in answers]\n",
            "answers"
         ]
      },
      {
         "cell_type": "code",
         "execution_count": 117,
         "id": "ddacac8d",
         "metadata": {},
         "outputs": [
            {
               "name": "stderr",
               "output_type": "stream",
               "text": [
                  "47it [00:00, 70203.81it/s]"
               ]
            },
            {
               "name": "stdout",
               "output_type": "stream",
               "text": [
                  "0 2f40fb8f-a9e7-4f5b-94e9-04fbfaa10676\n",
                  "0 Budget 2023 - Supplement to the Estimates\n",
                  "0 >>> 2f40fb8f-a9e7-4f5b-94e9-04fbfaa10676\n",
                  "0 >>> Budget 2023 - Supplement to the Estimates\n",
                  "31 2013c544-62e8-4485-ad4b-6e5ba5e373b9\n",
                  "31 Budget 2018 - Supplement to the Estimates\n",
                  "31 >>> 2013c544-62e8-4485-ad4b-6e5ba5e373b9\n",
                  "31 >>> Budget 2018 - Supplement to the Estimates\n"
               ]
            },
            {
               "name": "stderr",
               "output_type": "stream",
               "text": [
                  "\n"
               ]
            }
         ],
         "source": [
            "for i, package in tqdm(enumerate(ckan_response['result']['results'])):\n",
            "    if package['id'] in selected_ids:\n",
            "        print(str(i) + ' ' + package['id'])\n",
            "        print(str(i) + ' ' + package['title'])\n",
            "        # print(package['notes'][:300])\n",
            "    if package['id'] in desired_package_ids:\n",
            "        print(str(i) + ' ' + '>>> ' + package['id'])\n",
            "        print(str(i) + ' ' + '>>> ' + package['title'])"
         ]
      },
      {
         "cell_type": "code",
         "execution_count": 86,
         "id": "4188107f",
         "metadata": {},
         "outputs": [
            {
               "data": {
                  "text/plain": [
                     "('2f40fb8f-a9e7-4f5b-94e9-04fbfaa10676',\n",
                     " True,\n",
                     " '2013c544-62e8-4485-ad4b-6e5ba5e373b9',\n",
                     " False)"
                  ]
               },
               "execution_count": 86,
               "metadata": {},
               "output_type": "execute_result"
            }
         ],
         "source": [
            "desired_package_ids[0], desired_package_ids[0] in selected_ids, desired_package_ids[1], desired_package_ids[1] in selected_ids"
         ]
      },
      {
         "cell_type": "code",
         "execution_count": 87,
         "id": "2a4b2061",
         "metadata": {},
         "outputs": [
            {
               "data": {
                  "text/plain": [
                     "\"How do the operating expenses for different fiscal years compare between the 2018 and 2023 supplementary estimates for various ministries in the Government of British Columbia budget? Specifically, I'm interested in seeing the alignment of these expenses based on their specific cost categories like salaries and benefits or operating costs.\""
                  ]
               },
               "execution_count": 87,
               "metadata": {},
               "output_type": "execute_result"
            }
         ],
         "source": [
            "data['nl'][0]"
         ]
      },
      {
         "cell_type": "code",
         "execution_count": 111,
         "id": "172c6816",
         "metadata": {},
         "outputs": [],
         "source": [
            "with open('answers/missing_package_with_all_packages.txt', 'w') as file:\n",
            "    file.write(model_allatonce_choices[0].content)"
         ]
      },
      {
         "cell_type": "code",
         "execution_count": 121,
         "id": "a5f196fb",
         "metadata": {},
         "outputs": [
            {
               "data": {
                  "text/plain": [
                     "TextMessage(id='14cc1647-8bbe-4bfa-9e7c-9b0d2a4ef513', source='TablePreFilter_all', models_usage=RequestUsage(prompt_tokens=11346, completion_tokens=1506), metadata={}, created_at=datetime.datetime(2025, 7, 25, 9, 19, 57, 712520, tzinfo=datetime.timezone.utc), content='<think>\\n\\n</think>\\n\\n<package>Budget 2023 - Supplement to the Estimates</package><answer>YES</answer>  \\n<package>Operating Statement Tbl 2.1</package><answer>NO</answer>  \\n<package>Historical Operating Statement Surplus (Deficit) Tbl A2.14</package><answer>NO</answer>  \\n<package>BC Finance - Standard Object of Expense</package><answer>NO</answer>  \\n<package>Budget 2013 June Update - Provincial Debt Summary Tbl 1.17</package><answer>NO</answer>  \\n<package>Historical Operating Statement Surplus (Deficit), 1969-1970 to 2011-12 Tbl A2.14</package><answer>NO</answer>  \\n<package>Budget 2012 - Provincial Debt Tbl 1.20</package><answer>NO</answer>  \\n<package>Budget 2014 - Ten-Year Operating Statement 2007-08 to 2016-17 Tbl A8</package><answer>NO</answer>  \\n<package>Budget 2014 - Provincial Debt Summary Tbl 1.16</package><answer>NO</answer>  \\n<package>Budget 2014 - Supplement to the Estimates</package><answer>NO</answer>  \\n<package>Budget 2012 - Operating Statement Tbl 1.1</package><answer>NO</answer>  \\n<package>Budget 2012 - Ten-Year Expense Tbls A11 and A12</package><answer>NO</answer>  \\n<package>Budget 2016 - Supplement to the Estimates</package><answer>NO</answer>  \\n<package>Budget 2017 - Supplement to the Estimates</package><answer>NO</answer>  \\n<package>Budget 2012 - Supplement to the Estimates</package><answer>NO</answer>  \\n<package>2013-14 First Quarterly Report - Operating Statement Tbl 1.6</package><answer>NO</answer>  \\n<package>2012-13 Second Quarterly Report - 2012-13 Operating Statement Tbl 1.5</package><answer>NO</answer>  \\n<package>Budget 2015 - Supplement to the Estimates</package><answer>NO</answer>  \\n<package>Budget 2013 June Update - Ten-Year Operating Statement Tbl A8</package><answer>NO</answer>  \\n<package>Operating Statement, 1999-00 to 2010-11 Tbl A2.2</package><answer>NO</answer>  \\n<package>2012-13 First Quarterly Report - 2012-13 Operating Statement Tbl 3.6</package><answer>NO</answer>  \\n<package>Budget 2021 - Supplement to the Estimates</package><answer>NO</answer>  \\n<package>Budget 2012 - Ten-Year Operating Statement Tbl A8</package><answer>NO</answer>  \\n<package>Budget 2019 - Supplement to the Estimates</package><answer>NO</answer>  \\n<package>BC Finance - 2013 Financial and Economic Review - Historical Operating Statement Surplus (Deficit) - 1969-1970 to 2012-13 - Table A2.14</package><answer>NO</answer>  \\n<package>Operating Statement, 2000-01 to 2011-12 Tbl A2.2</package><answer>NO</answer>  \\n<package>Budget 2013 June Update - Ten-Year Expense Tbls A11 and A12</package><answer>NO</answer>  \\n<package>BC Finance - 2013 Financial and Economic Review - BC GDP - Income Based - 2007 to 2012 with annual percentage changes - Table A1.4</package><answer>NO</answer>  \\n<package>2013-14 Third Quarterly Report - Operating Statement Tbl 4.6</package><answer>NO</answer>  \\n<package>Historical Commodity Prices (in US Dollars) Tbl A1.9</package><answer>NO</answer>  \\n<package>Budget 2020 - Supplement to the Estimates</package><answer>NO</answer>  \\n<package>Budget 2018 - Supplement to the Estimates</package><answer>YES</answer>  \\n<package>2013-14 Second Quarterly Report - Operating Statement Tbl 1.6</package><answer>NO</answer>  \\n<package>Budget 2013 - Supplement to the Estimates</package><answer>NO</answer>  \\n<package>Budget 2013 June Update - Three Year Fiscal Plan Tbl 1.1</package><answer>NO</answer>  \\n<package>2013 Financial-Economic Rev - Operating Statement - 2001-02 to 2012-13 Tbl A2.2</package><answer>NO</answer>  \\n<package>Budget 2012 - Third Quarter Summary Tbl 4.7</package><answer>NO</answer>  \\n<package>2012-13 First Quarterly Report - Operating Statement 2005-06 to 2014-15 Tbl A4</package><answer>NO</answer>  \\n<package>2012-13 First Quarterly Report - Fiscal Plan Tbl 1.2</package><answer>NO</answer>  \\n<package>Budget 2014 - Ten-Year Expense by Function 2007-08 to 2016-17 Tbls A11 and A12</package><answer>NO</answer>  \\n<package>Budget 2022 - Supplement to the Estimates</package><answer>NO</answer>  \\n<package>Operating Statement, Budget 2011 Tbl 2.1</package><answer>NO</answer>  \\n<package>Budget 2025 - Supplement to the Estimates</package><answer>NO</answer>  \\n<package>Budget 2014 - Three Year Fiscal Plan, Operating Statement Tbl 1.1</package><answer>NO</answer>  \\n<package>2013 Financial-Economic Rev - Operating Statement Tbl 2.1</package><answer>NO</answer>  \\n<package>Budget 2013 - June update - Supplement to the Estimates</package><answer>NO</answer>  \\n<package>Budget 2024 - Supplement to the Estimates</package><answer>NO</answer>', type='TextMessage')"
                  ]
               },
               "execution_count": 121,
               "metadata": {},
               "output_type": "execute_result"
            }
         ],
         "source": [
            "model_allatonce_choices[0]"
         ]
      },
      {
         "cell_type": "markdown",
         "id": "804cac20",
         "metadata": {},
         "source": [
            "### Results from evaluate_allatonce.py"
         ]
      },
      {
         "cell_type": "code",
         "execution_count": 132,
         "id": "4cfd2de6",
         "metadata": {},
         "outputs": [],
         "source": [
            "import os\n",
            "import pandas as pd\n",
            "\n",
            "df = pd.read_csv(os.path.join('data', 'allatonce_evaluation_k30.csv'))\n",
            "df = pd.read_csv(os.path.join('data', 'embedding_eval_k30.csv'))"
         ]
      },
      {
         "cell_type": "code",
         "execution_count": 133,
         "id": "0507fc8c",
         "metadata": {},
         "outputs": [
            {
               "data": {
                  "text/plain": [
                     "((100, 1), (100, 1))"
                  ]
               },
               "execution_count": 133,
               "metadata": {},
               "output_type": "execute_result"
            }
         ],
         "source": [
            "X = df[['r_present', 'r_selected']].dropna().map(int)\n",
            "y_true = X['r_present'].values.reshape((-1, 1))\n",
            "y_pred = X['r_selected'].values.reshape((-1, 1))\n",
            "y_true.shape, y_pred.shape"
         ]
      },
      {
         "cell_type": "code",
         "execution_count": 134,
         "id": "a77742df",
         "metadata": {},
         "outputs": [],
         "source": [
            "from sklearn.metrics import confusion_matrix, ConfusionMatrixDisplay\n",
            "\n",
            "cm = confusion_matrix(y_true, y_pred)\n"
         ]
      },
      {
         "cell_type": "code",
         "execution_count": 135,
         "id": "ff9035a5",
         "metadata": {},
         "outputs": [
            {
               "data": {
                  "image/png": "[encoded data removed]",
                  "text/plain": [
                     "<Figure size 640x480 with 2 Axes>"
                  ]
               },
               "metadata": {},
               "output_type": "display_data"
            }
         ],
         "source": [
            "import matplotlib.pyplot as plt\n",
            "\n",
            "disp = ConfusionMatrixDisplay(confusion_matrix=cm)\n",
            "disp.plot()\n",
            "plt.show()"
         ]
      },
      {
         "cell_type": "markdown",
         "id": "f11ad82d",
         "metadata": {},
         "source": [
            "## Resources Pre-Filtering"
         ]
      },
      {
         "cell_type": "markdown",
         "id": "35b04a31",
         "metadata": {},
         "source": [
            "Once we have selected a small subset of all the available packages, again we can choose which resources satisfy us most: a model should avoid to download same datasets from different formats (e.g. CSV and XLSX) or languages (EN vs FR)"
         ]
      },
      {
         "cell_type": "code",
         "execution_count": 10,
         "id": "8863fb0e",
         "metadata": {},
         "outputs": [],
         "source": [
            "from ckan import CanadaCKAN\n",
            "\n",
            "ckan_client = CanadaCKAN()"
         ]
      },
      {
         "cell_type": "code",
         "execution_count": 133,
         "id": "fa188c81",
         "metadata": {},
         "outputs": [
            {
               "data": {
                  "text/plain": [
                     "('a5cb7c3c-0371-4a20-ac9a-98fc4c3536bb', nan)"
                  ]
               },
               "execution_count": 133,
               "metadata": {},
               "output_type": "execute_result"
            }
         ],
         "source": [
            "i = 23\n",
            "idx = data.index[i]\n",
            "question = data.loc[idx]['nl']\n",
            "r_pkg_id = data.loc[idx]['r_pkg_id']\n",
            "s_pkg_id = data.loc[idx]['s_pkg_id']\n",
            "r_rsc_id = data.loc[idx]['r_rsc_id']\n",
            "r_pkg_id, s_pkg_id"
         ]
      },
      {
         "cell_type": "code",
         "execution_count": 134,
         "id": "295a268e",
         "metadata": {},
         "outputs": [],
         "source": [
            "package_metadata = ckan_client.package_show(id=r_pkg_id)['result']"
         ]
      },
      {
         "cell_type": "code",
         "execution_count": 135,
         "id": "9379a2fd",
         "metadata": {},
         "outputs": [
            {
               "data": {
                  "text/plain": [
                     "'fb79c2c3-27fe-454e-b9ee-6d1049ea41eb'"
                  ]
               },
               "execution_count": 135,
               "metadata": {},
               "output_type": "execute_result"
            }
         ],
         "source": [
            "r_rsc_id"
         ]
      },
      {
         "cell_type": "code",
         "execution_count": 136,
         "id": "20c13152",
         "metadata": {},
         "outputs": [
            {
               "name": "stdout",
               "output_type": "stream",
               "text": [
                  "---------------------------------------------  ------------------------------------  ---\n",
                  "Appendix B1 of 2020-2021 NCRMP Report EN       001d3db4-8af8-4259-a017-09604beab006\n",
                  "Appendix B1 of 2020-2021 NCRMP Report FR       e0b83ef3-40d0-470b-90df-62699ab742d1\n",
                  "Appendix B2 of 2020-2021 NCRMP Report EN       73358490-423c-4b54-a6e1-383828e4efd7\n",
                  "Appendix B2 of 2020-2021 NCRMP Report FR       c541e163-6fb9-472d-9b48-97d067c84a5f\n",
                  "Appendix B3 of 2020-2021 NCRMP Report EN       fb79c2c3-27fe-454e-b9ee-6d1049ea41eb  <<<\n",
                  "Appendix B3 of 2020-2021 NCRMP Report FR       6c8b55db-546f-487a-981e-4a5e92224680\n",
                  "Appendix B4 of 2020-2021 NCRMP Report EN       8180a735-fa80-4f54-adeb-072ce0c25611\n",
                  "Appendix B4 of 2020-2021 NCRMP Report FR       02705d98-4402-49df-bdd2-6238e505a17e\n",
                  "Appendix B5 of 2020-2021 NCRMP Report EN       b03de182-7e2b-4818-9228-ad8d0b3c84da\n",
                  "Appendix B5 of 2020-2021 NCRMP Report FR       8929476e-21b7-421f-8aeb-a9108d4bcb1c\n",
                  "Appendix B6 of 2020-2021 NCRMP Report EN       bff2426f-7c57-49e0-837f-7065a306623a\n",
                  "Appendix B6 of 2020-2021 NCRMP Report FR       611ddf54-2a3b-45d7-8645-adafa0ebc557\n",
                  "Appendix B7 of 2020-2021 NCRMP Report EN       5c1b87ff-8f2a-4d35-ae10-92ec91bf15fb\n",
                  "Appendix B7 of 2020-2021 NCRMP Report FR       6183bc3c-9aab-4654-a04f-e3dfaf451608\n",
                  "Supplemental Information for NCRMP Appendix B  5cc8348f-4b76-498e-8f1a-e8712912fa96\n",
                  "---------------------------------------------  ------------------------------------  ---\n"
               ]
            }
         ],
         "source": [
            "from tabulate import tabulate\n",
            "\n",
            "x = []\n",
            "for r in package_metadata['resources']:\n",
            "    x.append((r['name'], r['id'], '<<<' if r['id'] == r_rsc_id else ''))\n",
            "print(tabulate(x))"
         ]
      },
      {
         "cell_type": "code",
         "execution_count": 132,
         "id": "6b070870",
         "metadata": {},
         "outputs": [
            {
               "data": {
                  "text/plain": [
                     "\"According to Statistics Canada's data on new housing prices, what are the average values of the indexes for houses and land across various base years when there is no reported status?\""
                  ]
               },
               "execution_count": 132,
               "metadata": {},
               "output_type": "execute_result"
            }
         ],
         "source": [
            "question"
         ]
      },
      {
         "cell_type": "markdown",
         "id": "98c97488",
         "metadata": {},
         "source": [
            "A first simple filter is on data format: ONLY CSVs are ACCEPTED\n",
            "\n",
            "Another one is on language: here we want to work only on ENGLISH resources"
         ]
      },
      {
         "cell_type": "code",
         "execution_count": 127,
         "id": "0e6abe15",
         "metadata": {},
         "outputs": [
            {
               "name": "stdout",
               "output_type": "stream",
               "text": [
                  "resource    cache_last_updated    cache_url    character_set    created                     data_quality            datastore_active    datastore_contains_all_records_of_source_file    date_published    description    format    hash    id                                    language    last_modified    metadata_modified           mimetype    mimetype_inner    name                                                          name_translated                                                                                                                                      package_id                              position  resource_type    state    unique_identifier    url                                                                                                                                                                     url_type\n",
                  "----------  --------------------  -----------  ---------------  --------------------------  ----------------------  ------------------  -----------------------------------------------  ----------------  -------------  --------  ------  ------------------------------------  ----------  ---------------  --------------------------  ----------  ----------------  ------------------------------------------------------------  ---------------------------------------------------------------------------------------------------------------------------------------------------  ------------------------------------  ----------  ---------------  -------  -------------------  ----------------------------------------------------------------------------------------------------------------------------------------------------------------------  ----------\n",
                  "                                               UTF-8            2019-12-13T20:33:12.689902  []                      False               False                                                                             CSV               e632b405-fb49-4f76-a94d-c24964f654ed  ['en']                       2024-11-20T21:44:44.571099                                Statement of Authorities (ARCHIVED)                           {'fr': 'État des autorisations (ARCHIVÉ)', 'en': 'Statement of Authorities (ARCHIVED)'}                                                              fc6ba156-a167-4abd-b172-d1293efebe55           0  dataset          active                        https://open.canada.ca/data/dataset/a35cf382-690c-4221-a971-cf0fd189a46f/resource/d6cda842-f547-4d92-be57-34a11a35507a/download/eso_qfr_en.csv\n",
                  "                                               UTF-8            2019-12-13T20:33:12.689915  ['data_includes_uris']  False               False                                                                             CSV               2035f8aa-9069-4860-82cd-17b48e1ec7c2  ['en']                       2024-11-20T21:44:44.571280                                Expenditures by Standard Object (ARCHIVED)                    {'fr': 'Dépenses par article courant (ARCHIVÉ)', 'en': 'Expenditures by Standard Object (ARCHIVED)'}                                                 fc6ba156-a167-4abd-b172-d1293efebe55           2  dataset          active                        https://open.canada.ca/data/dataset/a35cf382-690c-4221-a971-cf0fd189a46f/resource/d6cda842-f547-4d92-be57-34a11a35507a/download/eso_qfr_en.csv\n",
                  "                                               UTF-8            2019-12-13T20:33:12.689920  []                      False               False                                                                             CSV               0a8eeabf-10fb-435b-84f1-f7f25da8aebc  ['en']                       2023-12-06T19:13:09.733858                                Transfer Payments (Annual)                                    {'fr': 'Paiements de transfert (annuel)', 'en': 'Transfer Payments (Annual)'}                                                                        fc6ba156-a167-4abd-b172-d1293efebe55           4  dataset          active                        https://open.canada.ca/data/dataset/a35cf382-690c-4221-a971-cf0fd189a46f/resource/f942e312-df08-4f05-8fba-8b37b2a688db/download/tp_pt_en.csv\n",
                  "                                               UTF-8            2019-12-13T20:33:12.689926  []                      False               False                                                                             CSV               82e0cd86-7918-4769-89aa-fbe2f0d57d64  ['en']                       2024-11-20T21:44:44.571551                                Expenditures by Standard Object (Annual)                      {'fr': 'Dépenses par article courant (annuel)', 'en': 'Expenditures by Standard Object (Annual)'}                                                    fc6ba156-a167-4abd-b172-d1293efebe55           6  dataset          active                        https://open.canada.ca/data/dataset/a35cf382-690c-4221-a971-cf0fd189a46f/resource/27e54a33-3c39-42a9-8d58-46dd37c527e5/download/eso_eac_en.csv\n",
                  "                                               UTF-8            2019-12-13T20:33:12.689931  []                      True                False                                                                             CSV               3fde453f-e3b7-4fa4-a282-f195bf872f9e  ['en']                       2024-11-20T21:44:44.571708                                Authorities and Expenditures by Vote (Annual)                 {'fr': 'Autorisations et dépenses par crédit (annuel)', 'en': 'Authorities and Expenditures by Vote (Annual)'}                                       fc6ba156-a167-4abd-b172-d1293efebe55           8  dataset          active                        https://open.canada.ca/data/dataset/fc6ba156-a167-4abd-b172-d1293efebe55/resource/3fde453f-e3b7-4fa4-a282-f195bf872f9e/download/eav_eac_en.csv                          upload\n",
                  "                                               UTF-8            2019-12-13T20:33:12.689936  []                      False               False                                                                             CSV               29812c40-2de6-4f5a-bef6-2a062b69502f  ['en']                       2024-11-20T21:44:44.571842                                Authorities and Expenditures by Program (2013-14 to 2017-18)  {'fr': 'Autorisations et dépenses par programme (2013-2014 à 2017-2018)', 'en': 'Authorities and Expenditures by Program (2013-14 to 2017-18)'}      fc6ba156-a167-4abd-b172-d1293efebe55          10  dataset          active                        https://open.canada.ca/data/dataset/a35cf382-690c-4221-a971-cf0fd189a46f/resource/8d237273-a4e2-49ca-96b1-7bbc07b15828/download/ctempdatasetsauth_exp_prog_1317_en.csv\n",
                  ">>>                                            UTF-8            2019-12-13T20:33:12.689941  []                      True                False                                                                             CSV               2d6af7ca-0063-4ce8-a50f-1a273adf196e  ['en']                       2024-11-21T02:07:01.363403                                Estimates - Expenditure Authorities by Vote (Sub-annual)      {'fr': 'Budget des dépenses - Autorisations à dépenser par crédit (sous-annuel)', 'en': 'Estimates - Expenditure Authorities by Vote (Sub-annual)'}  fc6ba156-a167-4abd-b172-d1293efebe55          12  dataset          active                        https://open.canada.ca/data/dataset/fc6ba156-a167-4abd-b172-d1293efebe55/resource/2d6af7ca-0063-4ce8-a50f-1a273adf196e/download/abv_apc_en.csv                          upload\n",
                  "                                               UTF-8            2020-03-12T18:21:29.706633  []                      True                False                                            2020-03-12                       CSV               83004889-d936-406c-87e1-6707b02e9769  ['en']                       2024-11-21T02:07:01.363547                                Estimates - Statutory Forecasts                               {'fr': 'Budget des dépenses - Prévisions législatives', 'en': 'Estimates - Statutory Forecasts'}                                                     fc6ba156-a167-4abd-b172-d1293efebe55          14  dataset          active                        https://open.canada.ca/data/dataset/fc6ba156-a167-4abd-b172-d1293efebe55/resource/83004889-d936-406c-87e1-6707b02e9769/download/sa_al_en.csv                            upload\n"
               ]
            }
         ],
         "source": [
            "res = package_metadata['resources'][:]\n",
            "\n",
            "apply_filters = True\n",
            "\n",
            "def format_f(resource):\n",
            "    return resource['format'] == 'CSV'\n",
            "\n",
            "def language_f(resource):\n",
            "    return 'language' in resource and 'en' in resource['language']\n",
            "\n",
            "def resource_type_f(resource):\n",
            "    return 'resource_type' in resource and resource['resource_type'] == 'dataset'\n",
            "\n",
            "\n",
            "if apply_filters:\n",
            "    res = list(\n",
            "        filter(format_f, \n",
            "               filter(language_f, \n",
            "                      filter(resource_type_f, res\n",
            "                    )\n",
            "                )\n",
            "            )\n",
            "        )\n",
            "\n",
            "keys = res[0].keys()\n",
            "\n",
            "x = []\n",
            "\n",
            "for r in res:\n",
            "    v = ['>>>' if r['id'] == r_rsc_id else '']\n",
            "    for k in keys:\n",
            "        if k in r:\n",
            "            v.append(r[k])\n",
            "        else:\n",
            "            v.append(None)\n",
            "    x.append(v)\n",
            "\n",
            "\n",
            "\n",
            "print(tabulate(x, headers=['resource'] + list(keys)))"
         ]
      },
      {
         "cell_type": "code",
         "execution_count": 60,
         "id": "48206f88",
         "metadata": {},
         "outputs": [
            {
               "data": {
                  "text/plain": [
                     "dict_keys(['cache_last_updated', 'cache_url', 'character_set', 'created', 'data_quality', 'datastore_active', 'datastore_contains_all_records_of_source_file', 'date_published', 'description', 'format', 'hash', 'id', 'language', 'last_modified', 'metadata_modified', 'mimetype', 'mimetype_inner', 'name', 'name_translated', 'package_id', 'position', 'related_relationship', 'related_type', 'resource_type', 'state', 'unique_identifier', 'url', 'url_type'])"
                  ]
               },
               "execution_count": 60,
               "metadata": {},
               "output_type": "execute_result"
            }
         ],
         "source": [
            "keys"
         ]
      },
      {
         "cell_type": "code",
         "execution_count": 73,
         "id": "744c9ffc",
         "metadata": {},
         "outputs": [
            {
               "data": {
                  "text/plain": [
                     "dict_keys(['aafc_resource_metadata_schema', 'aafcdc_evaluation_feedback', 'cache_last_updated', 'cache_url', 'character_set', 'created', 'data_quality', 'data_source_repository', 'datastore_active', 'datastore_contains_all_records_of_source_file', 'date_published', 'description', 'format', 'hash', 'id', 'language', 'last_modified', 'metadata_modified', 'mimetype', 'mimetype_inner', 'name', 'name_translated', 'package_id', 'position', 'resource_type', 'selectResourceOption', 'state', 'unique_identifier', 'url', 'url_type'])"
                  ]
               },
               "execution_count": 73,
               "metadata": {},
               "output_type": "execute_result"
            }
         ],
         "source": [
            "keys"
         ]
      },
      {
         "cell_type": "markdown",
         "id": "cdc3a6fa",
         "metadata": {},
         "source": [
            "## Testing SLOTH for Unionable Tables Search"
         ]
      },
      {
         "cell_type": "code",
         "execution_count": 23,
         "id": "7c556dd9",
         "metadata": {},
         "outputs": [
            {
               "ename": "ModuleNotFoundError",
               "evalue": "No module named 'utils'",
               "output_type": "error",
               "traceback": [
                  "\u001b[31m---------------------------------------------------------------------------\u001b[39m",
                  "\u001b[31mModuleNotFoundError\u001b[39m                       Traceback (most recent call last)",
                  "\u001b[36mCell\u001b[39m\u001b[36m \u001b[39m\u001b[32mIn[23]\u001b[39m\u001b[32m, line 1\u001b[39m\n\u001b[32m----> \u001b[39m\u001b[32m1\u001b[39m \u001b[38;5;28;01mfrom\u001b[39;00m\u001b[38;5;250m \u001b[39m\u001b[34;01mfrontend\u001b[39;00m\u001b[38;5;250m \u001b[39m\u001b[38;5;28;01mimport\u001b[39;00m tools\n",
                  "\u001b[36mFile \u001b[39m\u001b[32m~/projects/lakegen_demo/frontend/tools.py:12\u001b[39m\n\u001b[32m      9\u001b[39m \u001b[38;5;28;01mfrom\u001b[39;00m\u001b[38;5;250m \u001b[39m\u001b[34;01mblend\u001b[39;00m\u001b[38;5;250m \u001b[39m\u001b[38;5;28;01mimport\u001b[39;00m BLEND\n\u001b[32m     10\u001b[39m \u001b[38;5;28;01mfrom\u001b[39;00m\u001b[38;5;250m \u001b[39m\u001b[34;01msloth\u001b[39;00m\u001b[38;5;250m \u001b[39m\u001b[38;5;28;01mimport\u001b[39;00m sloth\n\u001b[32m---> \u001b[39m\u001b[32m12\u001b[39m \u001b[38;5;28;01mfrom\u001b[39;00m\u001b[38;5;250m \u001b[39m\u001b[34;01mutils\u001b[39;00m\u001b[38;5;250m \u001b[39m\u001b[38;5;28;01mimport\u001b[39;00m DOWNLOAD_FOLDER, BLEND_DB\n\u001b[32m     15\u001b[39m \u001b[38;5;28;01masync\u001b[39;00m \u001b[38;5;28;01mdef\u001b[39;00m\u001b[38;5;250m \u001b[39m\u001b[34msearch_single_joins\u001b[39m(\n\u001b[32m     16\u001b[39m     tables_path: Annotated[\u001b[38;5;28mstr\u001b[39m | \u001b[38;5;28;01mNone\u001b[39;00m, \u001b[33m\"\u001b[39m\u001b[33mPath to the tables directory. If None, default location is used. Default is None.\u001b[39m\u001b[33m\"\u001b[39m] = \u001b[38;5;28;01mNone\u001b[39;00m,\n\u001b[32m     17\u001b[39m     db_path: Annotated[\u001b[38;5;28mstr\u001b[39m | \u001b[38;5;28;01mNone\u001b[39;00m, \u001b[33m\"\u001b[39m\u001b[33mPath to the BLEND database file. If None, default location is used. Default is None.\u001b[39m\u001b[33m\"\u001b[39m] = \u001b[38;5;28;01mNone\u001b[39;00m,\n\u001b[32m   (...)\u001b[39m\u001b[32m     20\u001b[39m     n_rows: Annotated[\u001b[38;5;28mint\u001b[39m, \u001b[33m\"\u001b[39m\u001b[33mNumber of rows to load for each table. Default is 1000.\u001b[39m\u001b[33m\"\u001b[39m] = \u001b[32m1000\u001b[39m\n\u001b[32m     21\u001b[39m ) -> List[Dict]:\n\u001b[32m     22\u001b[39m \u001b[38;5;250m    \u001b[39m\u001b[33;03m\"\"\"\u001b[39;00m\n\u001b[32m     23\u001b[39m \u001b[33;03m    Run a single-column-join search on the given tables.\u001b[39;00m\n\u001b[32m     24\u001b[39m \n\u001b[32m     25\u001b[39m \u001b[33;03m    :return: a list of dictionaries, where each reports the pair of tablees and columns and the relative overlap.\u001b[39;00m\n\u001b[32m     26\u001b[39m \u001b[33;03m    \"\"\"\u001b[39;00m\n",
                  "\u001b[31mModuleNotFoundError\u001b[39m: No module named 'utils'"
               ]
            }
         ],
         "source": [
            "from frontend import tools"
         ]
      },
      {
         "cell_type": "code",
         "execution_count": 24,
         "id": "aa57f64e",
         "metadata": {},
         "outputs": [
            {
               "data": {
                  "text/html": [
                     "<div>\n",
                     "<style scoped>\n",
                     "    .dataframe tbody tr th:only-of-type {\n",
                     "        vertical-align: middle;\n",
                     "    }\n",
                     "\n",
                     "    .dataframe tbody tr th {\n",
                     "        vertical-align: top;\n",
                     "    }\n",
                     "\n",
                     "    .dataframe thead th {\n",
                     "        text-align: right;\n",
                     "    }\n",
                     "</style>\n",
                     "<table border=\"1\" class=\"dataframe\">\n",
                     "  <thead>\n",
                     "    <tr style=\"text-align: right;\">\n",
                     "      <th></th>\n",
                     "      <th>country_tag</th>\n",
                     "      <th>type</th>\n",
                     "      <th>difficulty</th>\n",
                     "      <th>r_rsc_id</th>\n",
                     "      <th>s_rsc_id</th>\n",
                     "      <th>r_pkg_id</th>\n",
                     "      <th>s_pkg_id</th>\n",
                     "      <th>nl</th>\n",
                     "      <th>keywords</th>\n",
                     "      <th>prompt_tokens</th>\n",
                     "      <th>completion_tokens</th>\n",
                     "      <th>presence</th>\n",
                     "      <th>response</th>\n",
                     "      <th>result_count</th>\n",
                     "      <th>top_k</th>\n",
                     "      <th>n_keywords</th>\n",
                     "      <th>r_id_index</th>\n",
                     "      <th>s_id_index</th>\n",
                     "    </tr>\n",
                     "  </thead>\n",
                     "  <tbody>\n",
                     "    <tr>\n",
                     "      <th>1225</th>\n",
                     "      <td>CAN</td>\n",
                     "      <td>multi-table-join</td>\n",
                     "      <td>moderate</td>\n",
                     "      <td>d0f2218e-a216-42dd-a696-3f133a16d2ee</td>\n",
                     "      <td>c11ed0d1-b6c1-4c41-b23f-0641a4260853</td>\n",
                     "      <td>00b80f4e-2180-be65-b4c7-9a359e7dbde3</td>\n",
                     "      <td>1fb166a7-6574-b7e8-888c-d567c6cbd632</td>\n",
                     "      <td>Which recipients or clients have received paym...</td>\n",
                     "      <td>agriculture+funding</td>\n",
                     "      <td>1535</td>\n",
                     "      <td>207</td>\n",
                     "      <td>1</td>\n",
                     "      <td>&lt;think&gt;\\n\\n&lt;/think&gt;\\n\\n## Query Analysis Resul...</td>\n",
                     "      <td>34</td>\n",
                     "      <td>1000.0</td>\n",
                     "      <td>2.0</td>\n",
                     "      <td>6.0</td>\n",
                     "      <td>NaN</td>\n",
                     "    </tr>\n",
                     "    <tr>\n",
                     "      <th>827</th>\n",
                     "      <td>CAN</td>\n",
                     "      <td>multi-table-join</td>\n",
                     "      <td>simple</td>\n",
                     "      <td>fe41bfa7-3f9c-4b4d-8a92-31b8fed0db69</td>\n",
                     "      <td>4c203c74-1d01-4736-b8af-690eff87c292</td>\n",
                     "      <td>d7b39dbf-d05c-4103-8ed1-073b3c874671</td>\n",
                     "      <td>8fed8388-e1d2-46da-8876-2f3bc74f4fed</td>\n",
                     "      <td>According to Statistics Canada's data on film,...</td>\n",
                     "      <td>film+production</td>\n",
                     "      <td>1532</td>\n",
                     "      <td>345</td>\n",
                     "      <td>1</td>\n",
                     "      <td>&lt;think&gt;\\n\\n&lt;/think&gt;\\n\\n## Query Analysis Resul...</td>\n",
                     "      <td>49</td>\n",
                     "      <td>1000.0</td>\n",
                     "      <td>2.0</td>\n",
                     "      <td>31.0</td>\n",
                     "      <td>32.0</td>\n",
                     "    </tr>\n",
                     "    <tr>\n",
                     "      <th>519</th>\n",
                     "      <td>CAN</td>\n",
                     "      <td>multi-table-join</td>\n",
                     "      <td>simple</td>\n",
                     "      <td>ed8e7f64-441e-4450-9208-31762b67809b</td>\n",
                     "      <td>620e60c2-076a-46ac-8975-f044319ae95f</td>\n",
                     "      <td>3a33d90e-be3d-4ceb-8f7f-dc6bcd6866f4</td>\n",
                     "      <td>9c9b8d35-d59b-436a-a350-f581ea71a798</td>\n",
                     "      <td>How do the total market transactions in 2018 c...</td>\n",
                     "      <td>british columbia+market</td>\n",
                     "      <td>1531</td>\n",
                     "      <td>353</td>\n",
                     "      <td>1</td>\n",
                     "      <td>&lt;think&gt;\\n\\n&lt;/think&gt;\\n\\n## Query Analysis Resul...</td>\n",
                     "      <td>58</td>\n",
                     "      <td>1000.0</td>\n",
                     "      <td>2.0</td>\n",
                     "      <td>30.0</td>\n",
                     "      <td>22.0</td>\n",
                     "    </tr>\n",
                     "    <tr>\n",
                     "      <th>1140</th>\n",
                     "      <td>CAN</td>\n",
                     "      <td>multi-table-join</td>\n",
                     "      <td>moderate</td>\n",
                     "      <td>a6d5dbaf-8efb-44df-8f4b-59bfb6024cea</td>\n",
                     "      <td>b380ab66-98e6-4e71-a28e-c6b4bd557c02</td>\n",
                     "      <td>6c757cd4-de4a-4468-8489-240ea1a1b97a</td>\n",
                     "      <td>6a300cfe-0ffb-4e8a-996f-a72df2aa5139</td>\n",
                     "      <td>What are the average percentages of enterprise...</td>\n",
                     "      <td>environmental+benefits</td>\n",
                     "      <td>1530</td>\n",
                     "      <td>218</td>\n",
                     "      <td>1</td>\n",
                     "      <td>&lt;think&gt;\\n\\n&lt;/think&gt;\\n\\n## Query Analysis Resul...</td>\n",
                     "      <td>32</td>\n",
                     "      <td>1000.0</td>\n",
                     "      <td>2.0</td>\n",
                     "      <td>14.0</td>\n",
                     "      <td>NaN</td>\n",
                     "    </tr>\n",
                     "    <tr>\n",
                     "      <th>193</th>\n",
                     "      <td>CAN</td>\n",
                     "      <td>multi-table-join</td>\n",
                     "      <td>moderate</td>\n",
                     "      <td>b76cea14-12de-4275-ad34-a52d8243893c</td>\n",
                     "      <td>d094964c-32c6-4e52-b1be-e9cf82686b1a</td>\n",
                     "      <td>eaaef3a6-1100-fa3b-5c05-f4b97b0fab1e</td>\n",
                     "      <td>a9103f31-f16b-a7a2-d056-68a685155c22</td>\n",
                     "      <td>Which department received payments or grants f...</td>\n",
                     "      <td>new brunswick+department</td>\n",
                     "      <td>1525</td>\n",
                     "      <td>353</td>\n",
                     "      <td>1</td>\n",
                     "      <td>&lt;think&gt;\\n\\n&lt;/think&gt;\\n\\n## Query Analysis Resul...</td>\n",
                     "      <td>121</td>\n",
                     "      <td>1000.0</td>\n",
                     "      <td>2.0</td>\n",
                     "      <td>7.0</td>\n",
                     "      <td>31.0</td>\n",
                     "    </tr>\n",
                     "    <tr>\n",
                     "      <th>885</th>\n",
                     "      <td>CAN</td>\n",
                     "      <td>multi-table-join</td>\n",
                     "      <td>moderate</td>\n",
                     "      <td>fb79c2c3-27fe-454e-b9ee-6d1049ea41eb</td>\n",
                     "      <td>3d46c823-a7e0-4ea2-a024-83d91e7317f8</td>\n",
                     "      <td>a5cb7c3c-0371-4a20-ac9a-98fc4c3536bb</td>\n",
                     "      <td>9e5211c8-c11f-4ebe-a7b2-65a6799a6032</td>\n",
                     "      <td>What is the average value of the unnamed colum...</td>\n",
                     "      <td>chemical residues+food products</td>\n",
                     "      <td>1569</td>\n",
                     "      <td>273</td>\n",
                     "      <td>1</td>\n",
                     "      <td>&lt;think&gt;\\n\\n&lt;/think&gt;\\n\\n## Query Analysis Resul...</td>\n",
                     "      <td>21</td>\n",
                     "      <td>1000.0</td>\n",
                     "      <td>2.0</td>\n",
                     "      <td>14.0</td>\n",
                     "      <td>NaN</td>\n",
                     "    </tr>\n",
                     "    <tr>\n",
                     "      <th>1144</th>\n",
                     "      <td>CAN</td>\n",
                     "      <td>multi-table-join</td>\n",
                     "      <td>simple</td>\n",
                     "      <td>bbb998ec-e1a1-47f3-8e88-13fe0b68e04e</td>\n",
                     "      <td>dfa208e8-9243-4c38-a0b1-150423530de2</td>\n",
                     "      <td>01c85d28-2a81-4295-9c06-4af792a7c209</td>\n",
                     "      <td>4a1b260a-7ac4-4985-80a0-603bfe4aec11</td>\n",
                     "      <td>What is the total number of resettled refugees...</td>\n",
                     "      <td>resettled+immigration</td>\n",
                     "      <td>1530</td>\n",
                     "      <td>184</td>\n",
                     "      <td>1</td>\n",
                     "      <td>&lt;think&gt;\\n\\n&lt;/think&gt;\\n\\n## Query Analysis Resul...</td>\n",
                     "      <td>5</td>\n",
                     "      <td>1000.0</td>\n",
                     "      <td>2.0</td>\n",
                     "      <td>0.0</td>\n",
                     "      <td>3.0</td>\n",
                     "    </tr>\n",
                     "    <tr>\n",
                     "      <th>1188</th>\n",
                     "      <td>CAN</td>\n",
                     "      <td>multi-table-join</td>\n",
                     "      <td>moderate</td>\n",
                     "      <td>b76cea14-12de-4275-ad34-a52d8243893c</td>\n",
                     "      <td>d094964c-32c6-4e52-b1be-e9cf82686b1a</td>\n",
                     "      <td>eaaef3a6-1100-fa3b-5c05-f4b97b0fab1e</td>\n",
                     "      <td>a9103f31-f16b-a7a2-d056-68a685155c22</td>\n",
                     "      <td>Which department received payments or grants f...</td>\n",
                     "      <td>new brunswick+department</td>\n",
                     "      <td>1525</td>\n",
                     "      <td>217</td>\n",
                     "      <td>1</td>\n",
                     "      <td>&lt;think&gt;\\n\\n&lt;/think&gt;\\n\\n## Query Analysis Resul...</td>\n",
                     "      <td>121</td>\n",
                     "      <td>1000.0</td>\n",
                     "      <td>2.0</td>\n",
                     "      <td>7.0</td>\n",
                     "      <td>31.0</td>\n",
                     "    </tr>\n",
                     "    <tr>\n",
                     "      <th>1236</th>\n",
                     "      <td>CAN</td>\n",
                     "      <td>multi-table-join</td>\n",
                     "      <td>simple</td>\n",
                     "      <td>a8c31196-0e6d-4170-9175-c9361d0b7eb5</td>\n",
                     "      <td>873867d2-e759-4d84-b5f0-d5e5fa3c3e09</td>\n",
                     "      <td>3e69e0cd-02f2-c425-1107-05a524cc0260</td>\n",
                     "      <td>665ad1a8-553b-8103-eacf-d6db8ac2cfe8</td>\n",
                     "      <td>What are the names of roads or tracks from the...</td>\n",
                     "      <td>roads+track names</td>\n",
                     "      <td>1515</td>\n",
                     "      <td>212</td>\n",
                     "      <td>1</td>\n",
                     "      <td>&lt;think&gt;\\n\\n&lt;/think&gt;\\n\\n## Query Analysis Resul...</td>\n",
                     "      <td>54</td>\n",
                     "      <td>1000.0</td>\n",
                     "      <td>2.0</td>\n",
                     "      <td>34.0</td>\n",
                     "      <td>42.0</td>\n",
                     "    </tr>\n",
                     "    <tr>\n",
                     "      <th>147</th>\n",
                     "      <td>CAN</td>\n",
                     "      <td>multi-table-join</td>\n",
                     "      <td>moderate</td>\n",
                     "      <td>a6d5dbaf-8efb-44df-8f4b-59bfb6024cea</td>\n",
                     "      <td>b380ab66-98e6-4e71-a28e-c6b4bd557c02</td>\n",
                     "      <td>6c757cd4-de4a-4468-8489-240ea1a1b97a</td>\n",
                     "      <td>6a300cfe-0ffb-4e8a-996f-a72df2aa5139</td>\n",
                     "      <td>What are the average percentages of enterprise...</td>\n",
                     "      <td>enterprises+environmental</td>\n",
                     "      <td>1530</td>\n",
                     "      <td>199</td>\n",
                     "      <td>1</td>\n",
                     "      <td>&lt;think&gt;\\n\\n&lt;/think&gt;\\n\\n## Query Analysis Resul...</td>\n",
                     "      <td>20</td>\n",
                     "      <td>1000.0</td>\n",
                     "      <td>2.0</td>\n",
                     "      <td>5.0</td>\n",
                     "      <td>NaN</td>\n",
                     "    </tr>\n",
                     "    <tr>\n",
                     "      <th>1158</th>\n",
                     "      <td>CAN</td>\n",
                     "      <td>multi-table-join</td>\n",
                     "      <td>moderate</td>\n",
                     "      <td>b945aade-92fc-458b-910f-39222e2157ae</td>\n",
                     "      <td>3d957919-e6e0-41a7-b0a1-b40f4ce6484f</td>\n",
                     "      <td>dfbd4d72-227a-2b59-4520-6f3158e028af</td>\n",
                     "      <td>fa7fe27c-0169-0f7e-e1f8-d2ffd6c9313e</td>\n",
                     "      <td>Which counties in Nova Scotia have the same ve...</td>\n",
                     "      <td>vendors+nova scotia</td>\n",
                     "      <td>1528</td>\n",
                     "      <td>328</td>\n",
                     "      <td>1</td>\n",
                     "      <td>&lt;think&gt;\\n\\n&lt;/think&gt;\\n\\n## Query Analysis Resul...</td>\n",
                     "      <td>5</td>\n",
                     "      <td>1000.0</td>\n",
                     "      <td>2.0</td>\n",
                     "      <td>3.0</td>\n",
                     "      <td>0.0</td>\n",
                     "    </tr>\n",
                     "    <tr>\n",
                     "      <th>803</th>\n",
                     "      <td>CAN</td>\n",
                     "      <td>multi-table-join</td>\n",
                     "      <td>simple</td>\n",
                     "      <td>ebb68c61-e6cd-4e97-b94e-5361bbf1acc5</td>\n",
                     "      <td>8132794f-8473-4644-a195-1ae926559e5a</td>\n",
                     "      <td>84d71f2f-fbe9-40df-ada4-84f3b58f5ad2</td>\n",
                     "      <td>169d93b2-6417-498d-a6a6-131f9f1faeae</td>\n",
                     "      <td>How does the annual water yield in cubic kilom...</td>\n",
                     "      <td>water+yield</td>\n",
                     "      <td>1529</td>\n",
                     "      <td>320</td>\n",
                     "      <td>1</td>\n",
                     "      <td>&lt;think&gt;\\n\\n&lt;/think&gt;\\n\\n## Query Analysis Resul...</td>\n",
                     "      <td>30</td>\n",
                     "      <td>1000.0</td>\n",
                     "      <td>2.0</td>\n",
                     "      <td>9.0</td>\n",
                     "      <td>4.0</td>\n",
                     "    </tr>\n",
                     "    <tr>\n",
                     "      <th>1019</th>\n",
                     "      <td>CAN</td>\n",
                     "      <td>multi-table-join</td>\n",
                     "      <td>simple</td>\n",
                     "      <td>ed8e7f64-441e-4450-9208-31762b67809b</td>\n",
                     "      <td>620e60c2-076a-46ac-8975-f044319ae95f</td>\n",
                     "      <td>3a33d90e-be3d-4ceb-8f7f-dc6bcd6866f4</td>\n",
                     "      <td>9c9b8d35-d59b-436a-a350-f581ea71a798</td>\n",
                     "      <td>How do the total market transactions in 2018 c...</td>\n",
                     "      <td>market+transactions</td>\n",
                     "      <td>1531</td>\n",
                     "      <td>228</td>\n",
                     "      <td>1</td>\n",
                     "      <td>&lt;think&gt;\\n\\n&lt;/think&gt;\\n\\n## Query Analysis Resul...</td>\n",
                     "      <td>26</td>\n",
                     "      <td>1000.0</td>\n",
                     "      <td>2.0</td>\n",
                     "      <td>12.0</td>\n",
                     "      <td>7.0</td>\n",
                     "    </tr>\n",
                     "    <tr>\n",
                     "      <th>645</th>\n",
                     "      <td>CAN</td>\n",
                     "      <td>multi-table-join</td>\n",
                     "      <td>challenging</td>\n",
                     "      <td>bbb998ec-e1a1-47f3-8e88-13fe0b68e04e</td>\n",
                     "      <td>dfa208e8-9243-4c38-a0b1-150423530de2</td>\n",
                     "      <td>01c85d28-2a81-4295-9c06-4af792a7c209</td>\n",
                     "      <td>4a1b260a-7ac4-4985-80a0-603bfe4aec11</td>\n",
                     "      <td>Which Canadian province or territory, accordin...</td>\n",
                     "      <td>resettled+immigration</td>\n",
                     "      <td>1564</td>\n",
                     "      <td>402</td>\n",
                     "      <td>1</td>\n",
                     "      <td>&lt;think&gt;\\n\\n&lt;/think&gt;\\n\\n## Query Analysis Resul...</td>\n",
                     "      <td>5</td>\n",
                     "      <td>1000.0</td>\n",
                     "      <td>2.0</td>\n",
                     "      <td>0.0</td>\n",
                     "      <td>3.0</td>\n",
                     "    </tr>\n",
                     "    <tr>\n",
                     "      <th>1000</th>\n",
                     "      <td>CAN</td>\n",
                     "      <td>multi-table-join</td>\n",
                     "      <td>moderate</td>\n",
                     "      <td>ce336623-43d6-4e5d-81d8-26fb9145cf92</td>\n",
                     "      <td>ab5df4ac-7f55-461b-934f-d7af48d18e6f</td>\n",
                     "      <td>2f40fb8f-a9e7-4f5b-94e9-04fbfaa10676</td>\n",
                     "      <td>2013c544-62e8-4485-ad4b-6e5ba5e373b9</td>\n",
                     "      <td>For similar operating cost categories, how do ...</td>\n",
                     "      <td>operating+cost</td>\n",
                     "      <td>1526</td>\n",
                     "      <td>360</td>\n",
                     "      <td>1</td>\n",
                     "      <td>&lt;think&gt;\\n\\n&lt;/think&gt;\\n\\n## Query Analysis Resul...</td>\n",
                     "      <td>112</td>\n",
                     "      <td>1000.0</td>\n",
                     "      <td>2.0</td>\n",
                     "      <td>1.0</td>\n",
                     "      <td>45.0</td>\n",
                     "    </tr>\n",
                     "    <tr>\n",
                     "      <th>946</th>\n",
                     "      <td>CAN</td>\n",
                     "      <td>multi-table-join</td>\n",
                     "      <td>simple</td>\n",
                     "      <td>f72b49eb-9605-4bba-bf90-f4a539c188ad</td>\n",
                     "      <td>894f8bee-a888-4bc5-bc2d-caf3214316fc</td>\n",
                     "      <td>fe1761bf-5e9f-c098-098e-a205519a43b3</td>\n",
                     "      <td>c409a88e-1692-98ce-7a49-b86ec695d8dc</td>\n",
                     "      <td>Which suppliers received payments from both in...</td>\n",
                     "      <td>suppliers+new brunswick</td>\n",
                     "      <td>1540</td>\n",
                     "      <td>380</td>\n",
                     "      <td>1</td>\n",
                     "      <td>&lt;think&gt;\\n\\n&lt;/think&gt;\\n\\n## Query Analysis Resul...</td>\n",
                     "      <td>10</td>\n",
                     "      <td>1000.0</td>\n",
                     "      <td>2.0</td>\n",
                     "      <td>4.0</td>\n",
                     "      <td>9.0</td>\n",
                     "    </tr>\n",
                     "  </tbody>\n",
                     "</table>\n",
                     "</div>"
                  ],
                  "text/plain": [
                     "     country_tag              type   difficulty  \\\n",
                     "1225         CAN  multi-table-join     moderate   \n",
                     "827          CAN  multi-table-join       simple   \n",
                     "519          CAN  multi-table-join       simple   \n",
                     "1140         CAN  multi-table-join     moderate   \n",
                     "193          CAN  multi-table-join     moderate   \n",
                     "885          CAN  multi-table-join     moderate   \n",
                     "1144         CAN  multi-table-join       simple   \n",
                     "1188         CAN  multi-table-join     moderate   \n",
                     "1236         CAN  multi-table-join       simple   \n",
                     "147          CAN  multi-table-join     moderate   \n",
                     "1158         CAN  multi-table-join     moderate   \n",
                     "803          CAN  multi-table-join       simple   \n",
                     "1019         CAN  multi-table-join       simple   \n",
                     "645          CAN  multi-table-join  challenging   \n",
                     "1000         CAN  multi-table-join     moderate   \n",
                     "946          CAN  multi-table-join       simple   \n",
                     "\n",
                     "                                  r_rsc_id  \\\n",
                     "1225  d0f2218e-a216-42dd-a696-3f133a16d2ee   \n",
                     "827   fe41bfa7-3f9c-4b4d-8a92-31b8fed0db69   \n",
                     "519   ed8e7f64-441e-4450-9208-31762b67809b   \n",
                     "1140  a6d5dbaf-8efb-44df-8f4b-59bfb6024cea   \n",
                     "193   b76cea14-12de-4275-ad34-a52d8243893c   \n",
                     "885   fb79c2c3-27fe-454e-b9ee-6d1049ea41eb   \n",
                     "1144  bbb998ec-e1a1-47f3-8e88-13fe0b68e04e   \n",
                     "1188  b76cea14-12de-4275-ad34-a52d8243893c   \n",
                     "1236  a8c31196-0e6d-4170-9175-c9361d0b7eb5   \n",
                     "147   a6d5dbaf-8efb-44df-8f4b-59bfb6024cea   \n",
                     "1158  b945aade-92fc-458b-910f-39222e2157ae   \n",
                     "803   ebb68c61-e6cd-4e97-b94e-5361bbf1acc5   \n",
                     "1019  ed8e7f64-441e-4450-9208-31762b67809b   \n",
                     "645   bbb998ec-e1a1-47f3-8e88-13fe0b68e04e   \n",
                     "1000  ce336623-43d6-4e5d-81d8-26fb9145cf92   \n",
                     "946   f72b49eb-9605-4bba-bf90-f4a539c188ad   \n",
                     "\n",
                     "                                  s_rsc_id  \\\n",
                     "1225  c11ed0d1-b6c1-4c41-b23f-0641a4260853   \n",
                     "827   4c203c74-1d01-4736-b8af-690eff87c292   \n",
                     "519   620e60c2-076a-46ac-8975-f044319ae95f   \n",
                     "1140  b380ab66-98e6-4e71-a28e-c6b4bd557c02   \n",
                     "193   d094964c-32c6-4e52-b1be-e9cf82686b1a   \n",
                     "885   3d46c823-a7e0-4ea2-a024-83d91e7317f8   \n",
                     "1144  dfa208e8-9243-4c38-a0b1-150423530de2   \n",
                     "1188  d094964c-32c6-4e52-b1be-e9cf82686b1a   \n",
                     "1236  873867d2-e759-4d84-b5f0-d5e5fa3c3e09   \n",
                     "147   b380ab66-98e6-4e71-a28e-c6b4bd557c02   \n",
                     "1158  3d957919-e6e0-41a7-b0a1-b40f4ce6484f   \n",
                     "803   8132794f-8473-4644-a195-1ae926559e5a   \n",
                     "1019  620e60c2-076a-46ac-8975-f044319ae95f   \n",
                     "645   dfa208e8-9243-4c38-a0b1-150423530de2   \n",
                     "1000  ab5df4ac-7f55-461b-934f-d7af48d18e6f   \n",
                     "946   894f8bee-a888-4bc5-bc2d-caf3214316fc   \n",
                     "\n",
                     "                                  r_pkg_id  \\\n",
                     "1225  00b80f4e-2180-be65-b4c7-9a359e7dbde3   \n",
                     "827   d7b39dbf-d05c-4103-8ed1-073b3c874671   \n",
                     "519   3a33d90e-be3d-4ceb-8f7f-dc6bcd6866f4   \n",
                     "1140  6c757cd4-de4a-4468-8489-240ea1a1b97a   \n",
                     "193   eaaef3a6-1100-fa3b-5c05-f4b97b0fab1e   \n",
                     "885   a5cb7c3c-0371-4a20-ac9a-98fc4c3536bb   \n",
                     "1144  01c85d28-2a81-4295-9c06-4af792a7c209   \n",
                     "1188  eaaef3a6-1100-fa3b-5c05-f4b97b0fab1e   \n",
                     "1236  3e69e0cd-02f2-c425-1107-05a524cc0260   \n",
                     "147   6c757cd4-de4a-4468-8489-240ea1a1b97a   \n",
                     "1158  dfbd4d72-227a-2b59-4520-6f3158e028af   \n",
                     "803   84d71f2f-fbe9-40df-ada4-84f3b58f5ad2   \n",
                     "1019  3a33d90e-be3d-4ceb-8f7f-dc6bcd6866f4   \n",
                     "645   01c85d28-2a81-4295-9c06-4af792a7c209   \n",
                     "1000  2f40fb8f-a9e7-4f5b-94e9-04fbfaa10676   \n",
                     "946   fe1761bf-5e9f-c098-098e-a205519a43b3   \n",
                     "\n",
                     "                                  s_pkg_id  \\\n",
                     "1225  1fb166a7-6574-b7e8-888c-d567c6cbd632   \n",
                     "827   8fed8388-e1d2-46da-8876-2f3bc74f4fed   \n",
                     "519   9c9b8d35-d59b-436a-a350-f581ea71a798   \n",
                     "1140  6a300cfe-0ffb-4e8a-996f-a72df2aa5139   \n",
                     "193   a9103f31-f16b-a7a2-d056-68a685155c22   \n",
                     "885   9e5211c8-c11f-4ebe-a7b2-65a6799a6032   \n",
                     "1144  4a1b260a-7ac4-4985-80a0-603bfe4aec11   \n",
                     "1188  a9103f31-f16b-a7a2-d056-68a685155c22   \n",
                     "1236  665ad1a8-553b-8103-eacf-d6db8ac2cfe8   \n",
                     "147   6a300cfe-0ffb-4e8a-996f-a72df2aa5139   \n",
                     "1158  fa7fe27c-0169-0f7e-e1f8-d2ffd6c9313e   \n",
                     "803   169d93b2-6417-498d-a6a6-131f9f1faeae   \n",
                     "1019  9c9b8d35-d59b-436a-a350-f581ea71a798   \n",
                     "645   4a1b260a-7ac4-4985-80a0-603bfe4aec11   \n",
                     "1000  2013c544-62e8-4485-ad4b-6e5ba5e373b9   \n",
                     "946   c409a88e-1692-98ce-7a49-b86ec695d8dc   \n",
                     "\n",
                     "                                                     nl  \\\n",
                     "1225  Which recipients or clients have received paym...   \n",
                     "827   According to Statistics Canada's data on film,...   \n",
                     "519   How do the total market transactions in 2018 c...   \n",
                     "1140  What are the average percentages of enterprise...   \n",
                     "193   Which department received payments or grants f...   \n",
                     "885   What is the average value of the unnamed colum...   \n",
                     "1144  What is the total number of resettled refugees...   \n",
                     "1188  Which department received payments or grants f...   \n",
                     "1236  What are the names of roads or tracks from the...   \n",
                     "147   What are the average percentages of enterprise...   \n",
                     "1158  Which counties in Nova Scotia have the same ve...   \n",
                     "803   How does the annual water yield in cubic kilom...   \n",
                     "1019  How do the total market transactions in 2018 c...   \n",
                     "645   Which Canadian province or territory, accordin...   \n",
                     "1000  For similar operating cost categories, how do ...   \n",
                     "946   Which suppliers received payments from both in...   \n",
                     "\n",
                     "                             keywords  prompt_tokens  completion_tokens  \\\n",
                     "1225              agriculture+funding           1535                207   \n",
                     "827                   film+production           1532                345   \n",
                     "519           british columbia+market           1531                353   \n",
                     "1140           environmental+benefits           1530                218   \n",
                     "193          new brunswick+department           1525                353   \n",
                     "885   chemical residues+food products           1569                273   \n",
                     "1144            resettled+immigration           1530                184   \n",
                     "1188         new brunswick+department           1525                217   \n",
                     "1236                roads+track names           1515                212   \n",
                     "147         enterprises+environmental           1530                199   \n",
                     "1158              vendors+nova scotia           1528                328   \n",
                     "803                       water+yield           1529                320   \n",
                     "1019              market+transactions           1531                228   \n",
                     "645             resettled+immigration           1564                402   \n",
                     "1000                   operating+cost           1526                360   \n",
                     "946           suppliers+new brunswick           1540                380   \n",
                     "\n",
                     "      presence                                           response  \\\n",
                     "1225         1  <think>\\n\\n</think>\\n\\n## Query Analysis Resul...   \n",
                     "827          1  <think>\\n\\n</think>\\n\\n## Query Analysis Resul...   \n",
                     "519          1  <think>\\n\\n</think>\\n\\n## Query Analysis Resul...   \n",
                     "1140         1  <think>\\n\\n</think>\\n\\n## Query Analysis Resul...   \n",
                     "193          1  <think>\\n\\n</think>\\n\\n## Query Analysis Resul...   \n",
                     "885          1  <think>\\n\\n</think>\\n\\n## Query Analysis Resul...   \n",
                     "1144         1  <think>\\n\\n</think>\\n\\n## Query Analysis Resul...   \n",
                     "1188         1  <think>\\n\\n</think>\\n\\n## Query Analysis Resul...   \n",
                     "1236         1  <think>\\n\\n</think>\\n\\n## Query Analysis Resul...   \n",
                     "147          1  <think>\\n\\n</think>\\n\\n## Query Analysis Resul...   \n",
                     "1158         1  <think>\\n\\n</think>\\n\\n## Query Analysis Resul...   \n",
                     "803          1  <think>\\n\\n</think>\\n\\n## Query Analysis Resul...   \n",
                     "1019         1  <think>\\n\\n</think>\\n\\n## Query Analysis Resul...   \n",
                     "645          1  <think>\\n\\n</think>\\n\\n## Query Analysis Resul...   \n",
                     "1000         1  <think>\\n\\n</think>\\n\\n## Query Analysis Resul...   \n",
                     "946          1  <think>\\n\\n</think>\\n\\n## Query Analysis Resul...   \n",
                     "\n",
                     "      result_count   top_k  n_keywords  r_id_index  s_id_index  \n",
                     "1225            34  1000.0         2.0         6.0         NaN  \n",
                     "827             49  1000.0         2.0        31.0        32.0  \n",
                     "519             58  1000.0         2.0        30.0        22.0  \n",
                     "1140            32  1000.0         2.0        14.0         NaN  \n",
                     "193            121  1000.0         2.0         7.0        31.0  \n",
                     "885             21  1000.0         2.0        14.0         NaN  \n",
                     "1144             5  1000.0         2.0         0.0         3.0  \n",
                     "1188           121  1000.0         2.0         7.0        31.0  \n",
                     "1236            54  1000.0         2.0        34.0        42.0  \n",
                     "147             20  1000.0         2.0         5.0         NaN  \n",
                     "1158             5  1000.0         2.0         3.0         0.0  \n",
                     "803             30  1000.0         2.0         9.0         4.0  \n",
                     "1019            26  1000.0         2.0        12.0         7.0  \n",
                     "645              5  1000.0         2.0         0.0         3.0  \n",
                     "1000           112  1000.0         2.0         1.0        45.0  \n",
                     "946             10  1000.0         2.0         4.0         9.0  "
                  ]
               },
               "execution_count": 24,
               "metadata": {},
               "output_type": "execute_result"
            }
         ],
         "source": [
            "union_cases = data[data['type'] == 'multi-table-join']\n",
            "union_cases"
         ]
      },
      {
         "cell_type": "code",
         "execution_count": 25,
         "id": "cc99d979",
         "metadata": {},
         "outputs": [
            {
               "data": {
                  "text/plain": [
                     "'Which counties in Nova Scotia have the same vendors selling both fishing and hunting licenses, and how many addresses do these vendors have? Please provide the number of addresses for each vendor that appears in both lists.'"
                  ]
               },
               "execution_count": 25,
               "metadata": {},
               "output_type": "execute_result"
            }
         ],
         "source": [
            "union_cases.loc[1158]['nl']"
         ]
      },
      {
         "cell_type": "code",
         "execution_count": 26,
         "id": "aadcfacc",
         "metadata": {},
         "outputs": [
            {
               "data": {
                  "text/plain": [
                     "country_tag                                                        CAN\n",
                     "type                                                  multi-table-join\n",
                     "difficulty                                                    moderate\n",
                     "r_rsc_id                          b945aade-92fc-458b-910f-39222e2157ae\n",
                     "s_rsc_id                          3d957919-e6e0-41a7-b0a1-b40f4ce6484f\n",
                     "r_pkg_id                          dfbd4d72-227a-2b59-4520-6f3158e028af\n",
                     "s_pkg_id                          fa7fe27c-0169-0f7e-e1f8-d2ffd6c9313e\n",
                     "nl                   Which counties in Nova Scotia have the same ve...\n",
                     "keywords                                           vendors+nova scotia\n",
                     "prompt_tokens                                                     1528\n",
                     "completion_tokens                                                  328\n",
                     "presence                                                             1\n",
                     "response             <think>\\n\\n</think>\\n\\n## Query Analysis Resul...\n",
                     "result_count                                                         5\n",
                     "top_k                                                           1000.0\n",
                     "n_keywords                                                         2.0\n",
                     "r_id_index                                                         3.0\n",
                     "s_id_index                                                         0.0\n",
                     "Name: 1158, dtype: object"
                  ]
               },
               "execution_count": 26,
               "metadata": {},
               "output_type": "execute_result"
            }
         ],
         "source": [
            "union_cases.loc[1158]"
         ]
      },
      {
         "cell_type": "code",
         "execution_count": null,
         "id": "a82ba301",
         "metadata": {},
         "outputs": [],
         "source": [
            "orqa = pd.read_csv('../data/orqa.csv')"
         ]
      },
      {
         "cell_type": "code",
         "execution_count": 29,
         "id": "399eea0e",
         "metadata": {},
         "outputs": [
            {
               "data": {
                  "text/plain": [
                     "country_tag                                                  CAN\n",
                     "type                                            multi-table-join\n",
                     "difficulty                                              moderate\n",
                     "success                                                     True\n",
                     "r_rsc_id                    b945aade-92fc-458b-910f-39222e2157ae\n",
                     "s_rsc_id                    3d957919-e6e0-41a7-b0a1-b40f4ce6484f\n",
                     "r_pkg_id                    dfbd4d72-227a-2b59-4520-6f3158e028af\n",
                     "s_pkg_id                    fa7fe27c-0169-0f7e-e1f8-d2ffd6c9313e\n",
                     "r_rsc_name              [ARCHIVED] Fishing License Sellers (CSV)\n",
                     "s_rsc_name              [ARCHIVED] Hunting License Sellers (CSV)\n",
                     "r_col_name                                       licensed_vendor\n",
                     "s_col_name                                       licensed_vendor\n",
                     "sql            SELECT R.county AS county_r, S.county AS count...\n",
                     "nl             Which counties in Nova Scotia have the same ve...\n",
                     "sql_success                                              success\n",
                     "sql_time                                                   8.784\n",
                     "sql_n_rev                                                      0\n",
                     "sql_review                                                   NaN\n",
                     "sql_intok                                                   2008\n",
                     "sql_outok                                                    349\n",
                     "nl_time                                                    7.298\n",
                     "nl_n_rev                                                       0\n",
                     "nl_review                                                    NaN\n",
                     "nl_intok                                                    2422\n",
                     "nl_outok                                                     176\n",
                     "tot_time                                                  16.082\n",
                     "Name: 667, dtype: object"
                  ]
               },
               "execution_count": 29,
               "metadata": {},
               "output_type": "execute_result"
            }
         ],
         "source": [
            "orqa[orqa['r_rsc_id'] == 'b945aade-92fc-458b-910f-39222e2157ae'].loc[667]"
         ]
      },
      {
         "cell_type": "code",
         "execution_count": 1,
         "id": "78d92b3b",
         "metadata": {},
         "outputs": [],
         "source": [
            "import os\n",
            "import pandas as pd\n",
            "from sloth import sloth"
         ]
      },
      {
         "cell_type": "code",
         "execution_count": 2,
         "id": "3b55db3d",
         "metadata": {},
         "outputs": [],
         "source": [
            "# !pip install bitarray wrapt_timeout_decorator -q"
         ]
      },
      {
         "cell_type": "code",
         "execution_count": 3,
         "id": "e7641d7b",
         "metadata": {},
         "outputs": [],
         "source": [
            "tables = os.listdir(os.path.join('data', 'tmp'))"
         ]
      },
      {
         "cell_type": "code",
         "execution_count": 9,
         "id": "7d349877",
         "metadata": {},
         "outputs": [],
         "source": [
            "r, s = tables[:2]"
         ]
      },
      {
         "cell_type": "code",
         "execution_count": 10,
         "id": "371b542f",
         "metadata": {},
         "outputs": [],
         "source": [
            "r_df = pd.read_csv(os.path.join('data', 'tmp', r))\n",
            "s_df = pd.read_csv(os.path.join('data', 'tmp', s))"
         ]
      },
      {
         "cell_type": "code",
         "execution_count": 12,
         "id": "f865d685",
         "metadata": {},
         "outputs": [
            {
               "data": {
                  "text/plain": [
                     "((5090, 3), (5674, 4))"
                  ]
               },
               "execution_count": 12,
               "metadata": {},
               "output_type": "execute_result"
            }
         ],
         "source": [
            "r_df.shape, s_df.shape"
         ]
      },
      {
         "cell_type": "code",
         "execution_count": 13,
         "id": "48a04eb3",
         "metadata": {},
         "outputs": [
            {
               "data": {
                  "text/html": [
                     "<div>\n",
                     "<style scoped>\n",
                     "    .dataframe tbody tr th:only-of-type {\n",
                     "        vertical-align: middle;\n",
                     "    }\n",
                     "\n",
                     "    .dataframe tbody tr th {\n",
                     "        vertical-align: top;\n",
                     "    }\n",
                     "\n",
                     "    .dataframe thead th {\n",
                     "        text-align: right;\n",
                     "    }\n",
                     "</style>\n",
                     "<table border=\"1\" class=\"dataframe\">\n",
                     "  <thead>\n",
                     "    <tr style=\"text-align: right;\">\n",
                     "      <th></th>\n",
                     "      <th>ï»¿Supplier Name / Nom du fournisseur</th>\n",
                     "      <th>Payment / Paiement</th>\n",
                     "      <th>Payment Type / Type de paiement</th>\n",
                     "    </tr>\n",
                     "  </thead>\n",
                     "  <tbody>\n",
                     "    <tr>\n",
                     "      <th>0</th>\n",
                     "      <td>053350 NB Ltd</td>\n",
                     "      <td>135,418</td>\n",
                     "      <td>Payments &amp; Grants / Paiements et subventions</td>\n",
                     "    </tr>\n",
                     "    <tr>\n",
                     "      <th>1</th>\n",
                     "      <td>056880 NB LtÃ©e (Roy Excavation)</td>\n",
                     "      <td>78,147</td>\n",
                     "      <td>Payments &amp; Grants / Paiements et subventions</td>\n",
                     "    </tr>\n",
                     "  </tbody>\n",
                     "</table>\n",
                     "</div>"
                  ],
                  "text/plain": [
                     "  ï»¿Supplier Name / Nom du fournisseur Payment / Paiement  \\\n",
                     "0                         053350 NB Ltd            135,418   \n",
                     "1      056880 NB LtÃ©e (Roy Excavation)             78,147   \n",
                     "\n",
                     "                Payment Type / Type de paiement  \n",
                     "0  Payments & Grants / Paiements et subventions  \n",
                     "1  Payments & Grants / Paiements et subventions  "
                  ]
               },
               "execution_count": 13,
               "metadata": {},
               "output_type": "execute_result"
            }
         ],
         "source": [
            "r_df.head(2)"
         ]
      },
      {
         "cell_type": "code",
         "execution_count": 14,
         "id": "6f4f0660",
         "metadata": {},
         "outputs": [
            {
               "data": {
                  "text/html": [
                     "<div>\n",
                     "<style scoped>\n",
                     "    .dataframe tbody tr th:only-of-type {\n",
                     "        vertical-align: middle;\n",
                     "    }\n",
                     "\n",
                     "    .dataframe tbody tr th {\n",
                     "        vertical-align: top;\n",
                     "    }\n",
                     "\n",
                     "    .dataframe thead th {\n",
                     "        text-align: right;\n",
                     "    }\n",
                     "</style>\n",
                     "<table border=\"1\" class=\"dataframe\">\n",
                     "  <thead>\n",
                     "    <tr style=\"text-align: right;\">\n",
                     "      <th></th>\n",
                     "      <th>Department / MinistÃ¨re</th>\n",
                     "      <th>Supplier Name / Nom du fournisseur</th>\n",
                     "      <th>Payment / Paiement</th>\n",
                     "      <th>Payment Type / Type de paiement</th>\n",
                     "    </tr>\n",
                     "  </thead>\n",
                     "  <tbody>\n",
                     "    <tr>\n",
                     "      <th>0</th>\n",
                     "      <td>Health / SantÃ©</td>\n",
                     "      <td>Flextrack Inc</td>\n",
                     "      <td>3524555.0</td>\n",
                     "      <td>Payments &amp; Grants / Paiements et subventions</td>\n",
                     "    </tr>\n",
                     "    <tr>\n",
                     "      <th>1</th>\n",
                     "      <td>Health / SantÃ©</td>\n",
                     "      <td>Food Depot Alimentaire Inc</td>\n",
                     "      <td>1000000.0</td>\n",
                     "      <td>Payments &amp; Grants / Paiements et subventions</td>\n",
                     "    </tr>\n",
                     "  </tbody>\n",
                     "</table>\n",
                     "</div>"
                  ],
                  "text/plain": [
                     "  Department / MinistÃ¨re Supplier Name / Nom du fournisseur  \\\n",
                     "0         Health / SantÃ©                      Flextrack Inc   \n",
                     "1         Health / SantÃ©         Food Depot Alimentaire Inc   \n",
                     "\n",
                     "   Payment / Paiement               Payment Type / Type de paiement  \n",
                     "0           3524555.0  Payments & Grants / Paiements et subventions  \n",
                     "1           1000000.0  Payments & Grants / Paiements et subventions  "
                  ]
               },
               "execution_count": 14,
               "metadata": {},
               "output_type": "execute_result"
            }
         ],
         "source": [
            "s_df.head(2)"
         ]
      },
      {
         "cell_type": "code",
         "execution_count": 37,
         "id": "63968e70",
         "metadata": {},
         "outputs": [
            {
               "name": "stdout",
               "output_type": "stream",
               "text": [
                  "Detected 2 seed(s) in 0.06766009330749512 seconds.\n",
                  "Generated 1 candidate(s) in 4.6253204345703125e-05 seconds.\n",
                  "Verified 1 candidate(s) in 0.02621150016784668 seconds.\n",
                  "Detected 1 largest overlap(s) in 0.026291370391845703 seconds.\n",
                  "Size of the detected largest overlap(s): 2 columns, 2331 rows, 4662 cells.\n",
                  "Total elapsed time: 0.09484124183654785 seconds.\n",
                  "                                  0  \\\n",
                  "0                     053350 NB Ltd   \n",
                  "1               2M Distribution Inc   \n",
                  "2                3 Brooks Villa Ltd   \n",
                  "3                3655806 Canada Inc   \n",
                  "4        3D Property Management Inc   \n",
                  "...                             ...   \n",
                  "2326      Youth Impact Jeunesse Inc   \n",
                  "2327        Youth in Transition Inc   \n",
                  "2328  Yvon Cormier Auto Salvage Inc   \n",
                  "2329      Yvon Robichaud Garage Ltd   \n",
                  "2330              Zoetis Canada Inc   \n",
                  "\n",
                  "                                                 1  \n",
                  "0     Payments & Grants / Paiements et subventions  \n",
                  "1     Payments & Grants / Paiements et subventions  \n",
                  "2     Payments & Grants / Paiements et subventions  \n",
                  "3     Payments & Grants / Paiements et subventions  \n",
                  "4     Payments & Grants / Paiements et subventions  \n",
                  "...                                            ...  \n",
                  "2326  Payments & Grants / Paiements et subventions  \n",
                  "2327  Payments & Grants / Paiements et subventions  \n",
                  "2328  Payments & Grants / Paiements et subventions  \n",
                  "2329  Payments & Grants / Paiements et subventions  \n",
                  "2330  Payments & Grants / Paiements et subventions  \n",
                  "\n",
                  "[2331 rows x 2 columns]\n"
               ]
            },
            {
               "data": {
                  "text/plain": [
                     "True"
                  ]
               },
               "execution_count": 37,
               "metadata": {},
               "output_type": "execute_result"
            }
         ],
         "source": [
            "metrics = {}\n",
            "success, results, metrics = sloth(r_df, s_df, min_w=2, metrics=metrics)\n",
            "success"
         ]
      },
      {
         "cell_type": "code",
         "execution_count": 34,
         "id": "1693d288",
         "metadata": {},
         "outputs": [
            {
               "data": {
                  "text/plain": [
                     "0       Payments & Grants / Paiements et subventions\n",
                     "1       Payments & Grants / Paiements et subventions\n",
                     "2       Payments & Grants / Paiements et subventions\n",
                     "3       Payments & Grants / Paiements et subventions\n",
                     "4       Payments & Grants / Paiements et subventions\n",
                     "                            ...                     \n",
                     "5669    Payments & Grants / Paiements et subventions\n",
                     "5670    Payments & Grants / Paiements et subventions\n",
                     "5671                 Purchase Cards / Cartes d'achat\n",
                     "5672                 Purchase Cards / Cartes d'achat\n",
                     "5673                 Purchase Cards / Cartes d'achat\n",
                     "Name: Payment Type / Type de paiement, Length: 5674, dtype: object"
                  ]
               },
               "execution_count": 34,
               "metadata": {},
               "output_type": "execute_result"
            }
         ],
         "source": [
            "r_df.iloc[:, 2]\n",
            "s_df.iloc[:, 3]"
         ]
      },
      {
         "cell_type": "code",
         "execution_count": 35,
         "id": "816d3e67",
         "metadata": {},
         "outputs": [
            {
               "data": {
                  "text/plain": [
                     "[(2, 3), (0, 1)]"
                  ]
               },
               "execution_count": 35,
               "metadata": {},
               "output_type": "execute_result"
            }
         ],
         "source": [
            "results[0][0]"
         ]
      },
      {
         "cell_type": "code",
         "execution_count": 38,
         "id": "285c296a",
         "metadata": {},
         "outputs": [
            {
               "data": {
                  "text/plain": [
                     "{'num_seeds': 2,\n",
                     " 'seed_init_time': 0.06766009330749512,\n",
                     " 'e_setup_time': 1.6450881958007812e-05,\n",
                     " 'e_n_gen_cands': 1,\n",
                     " 'e_gen_time': 4.6253204345703125e-05,\n",
                     " 'e_n_ver_vands': 1,\n",
                     " 'e_ver_time': 0.02621150016784668,\n",
                     " 'e_n_res': 1,\n",
                     " 'e_largest_overlap_width': 2,\n",
                     " 'e_largest_overlap_heigth': 2331,\n",
                     " 'e_largest_overlap_area': 4662,\n",
                     " 'total_time': 0.09484124183654785}"
                  ]
               },
               "execution_count": 38,
               "metadata": {},
               "output_type": "execute_result"
            }
         ],
         "source": [
            "metrics"
         ]
      },
      {
         "cell_type": "code",
         "execution_count": 1,
         "id": "1d598464",
         "metadata": {},
         "outputs": [],
         "source": [
            "import re\n",
            "import os\n",
            "\n",
            "table_ids = os.listdir(os.path.join('data', 'tmp'))[:10]\n",
            "table_ids = list(map(lambda _id: re.sub(r\"(\\.csv|\\.parquet)\", \"\", _id), table_ids))"
         ]
      },
      {
         "cell_type": "code",
         "execution_count": 2,
         "id": "5dde8190",
         "metadata": {},
         "outputs": [
            {
               "data": {
                  "text/plain": [
                     "(0.3678898811340332, 0.05871295928955078, 0.426602840423584)"
                  ]
               },
               "execution_count": 2,
               "metadata": {},
               "output_type": "execute_result"
            }
         ],
         "source": [
            "from blend import BLEND\n",
            "\n",
            "searcher = BLEND(os.path.join(\"data\", \"blend.db\"))\n",
            "\n",
            "searcher.create_index(os.path.join('data', 'tmp'), table_ids, limit_table_rows=100)"
         ]
      },
      {
         "cell_type": "code",
         "execution_count": 19,
         "id": "98ed7f51",
         "metadata": {},
         "outputs": [],
         "source": [
            "from itertools import chain\n",
            "import os\n",
            "import re\n",
            "from typing import Dict, List, Literal\n",
            "\n",
            "import polars as pl\n",
            "\n",
            "from blend import BLEND\n",
            "from sloth import sloth\n",
            "\n",
            "def search_unions(\n",
            "    tables_path: str,\n",
            "    searcher: BLEND | None = None,\n",
            "    db_path: str | None = None,\n",
            "    table_ids: List[str] | None = None,\n",
            "    format: Literal[\"csv\", \"parquet\"] = \"csv\", \n",
            "    k: int = 3,\n",
            "    check_headers: bool = True,\n",
            "    check_data: bool = True,\n",
            "    **blend_kwargs,\n",
            ") -> List[Dict]:\n",
            "    \"\"\"\n",
            "    Run a union search on the given tables.\n",
            "\n",
            "    :param tables_path: directory where table (CSV/parquet) files are stored.\n",
            "    :param searcher: an instance of BLEND searcher. If None, db_path is required to create a new one.\n",
            "    :param db_path: a path where to store the BLEND database, required if searcher parameter is None.\n",
            "    :param table_ids: a subset of table IDs (without any type extension) to use for the search. If None, all tables are used.\n",
            "    :param format: format of tables. Default is CSV.\n",
            "    :param check_headers: if True, use overlapping headers to identify potential unionable tables. \n",
            "                          If associated with check_data=True, a ranked list of candidates with both methods is returned.\n",
            "    :param check_data: if True, use BLEND combined with SLOTH to identify potential unionable tables. \n",
            "                       If associated with check_headers=True, a ranked list of candidates with both methods is returned.\n",
            "    :param k: number of results to return for each search.\n",
            "    :param blend_kwargs: keyword arguments passed to blend.create_index.\n",
            "    :return: a list of dictionaries, where each reports the pair of tablees and columns and the relative overlap.\n",
            "    \"\"\"\n",
            "\n",
            "    # FIXED: Store the original table_ids parameter before reassigning\n",
            "    allowed_table_ids = table_ids\n",
            "    \n",
            "    # Get all table files and filter them\n",
            "    all_files = os.listdir(tables_path)\n",
            "    table_ids = []\n",
            "    \n",
            "    for filename in all_files:\n",
            "        if filename.endswith(('.csv', '.parquet')):\n",
            "            table_id = re.sub(r\"\\.(csv|parquet)$\", \"\", filename)\n",
            "            # Apply filter if provided\n",
            "            if allowed_table_ids is None or table_id in allowed_table_ids:\n",
            "                table_ids.append(table_id)\n",
            "    \n",
            "    print(f\"Searching in tables: {table_ids}\")\n",
            "\n",
            "    if not searcher:\n",
            "        print(f\"Creating a new BLEND searcher with db_path: {db_path}\")\n",
            "        searcher = BLEND(db_path)\n",
            "        searcher.create_index(data_path=tables_path, **blend_kwargs)\n",
            "\n",
            "    results_by_data = []\n",
            "\n",
            "    if check_data:\n",
            "        for table_id in table_ids:\n",
            "            n_rows = blend_kwargs.get(\"limit_table_rows\", None)\n",
            "\n",
            "            # read the current query table\n",
            "            match format:\n",
            "                case \"csv\":\n",
            "                    df = pl.read_csv(\n",
            "                        os.path.join(tables_path, table_id + \".csv\"), n_rows=n_rows\n",
            "                    )\n",
            "                case \"parquet\":\n",
            "                    df = pl.read_parquet(\n",
            "                        os.path.join(tables_path, table_id + \".parquet\"), r_rows=n_rows\n",
            "                    )\n",
            "\n",
            "            # first perform a search with BLEND keywords seeker\n",
            "            query_values = list(chain(*df.rows()))\n",
            "            res = searcher.keyword_search(query_values, k)\n",
            "\n",
            "            # then, for each identified pairs, \n",
            "            # check its largest overlap in terms of width \n",
            "            for res_table_id, overlap in res:\n",
            "                match format:\n",
            "                    case \"csv\":\n",
            "                        s_df = pl.read_csv(\n",
            "                            os.path.join(tables_path, table_id + \".csv\"), n_rows=n_rows\n",
            "                        ).to_pandas()\n",
            "                    case \"parquet\":\n",
            "                        s_df = pl.read_parquet(\n",
            "                            os.path.join(tables_path, table_id + \".parquet\"), r_rows=n_rows\n",
            "                        ).to_pandas()\n",
            "                \n",
            "                min_w = min(df.shape[1], s_df.shape[1])\n",
            "\n",
            "                while min_w >= 1:\n",
            "                    sloth_metrics = {}\n",
            "                    print(df.shape, s_df.shape, min_w)\n",
            "                    print(table_id, res_table_id)\n",
            "                    success, sloth_results, sloth_metrics = sloth(df.to_pandas(), s_df, min_w=min_w, metrics=sloth_metrics, verbose=False)\n",
            "                    \n",
            "                    if sloth_results == []:\n",
            "                        # if any result is found, decrease the required width\n",
            "                        min_w -= 1\n",
            "                    \n",
            "                    else:\n",
            "                        # if a valid overlap is found, then stop the search for the\n",
            "                        # current table and pass to the next one\n",
            "                        \n",
            "                        left_columns = [\n",
            "                            df.columns[p[0]]\n",
            "                            for p in sloth_results[0][0]\n",
            "                        ]\n",
            "\n",
            "                        right_columns = [\n",
            "                            s_df.columns[p[1]]\n",
            "                            for p in sloth_results[0][0]\n",
            "                        ]\n",
            "\n",
            "                        results_by_data.append(\n",
            "                            {\n",
            "                                \"left_table\": table_id,\n",
            "                                \"right_table\": res_table_id,\n",
            "                                \"left_columns\": left_columns,\n",
            "                                \"right_columns\": right_columns,\n",
            "                                \"width\": sloth_metrics[\"largest_overlap_width\"],\n",
            "                                \"heigth\": sloth_metrics[\"largest_overlap_heigth\"],\n",
            "                                \"area\": sloth_metrics[\"largest_overlap_area\"] \n",
            "                            }\n",
            "                        )\n",
            "\n",
            "                        break\n",
            "\n",
            "\n",
            "    if check_headers:\n",
            "        raise NotImplementedError(\"Headers mode not implemented yet.\")\n",
            "\n",
            "    return results_by_data\n"
         ]
      },
      {
         "cell_type": "code",
         "execution_count": 20,
         "id": "a93774d4",
         "metadata": {},
         "outputs": [],
         "source": [
            "import pandas as pd\n",
            "r, s = 'a99c50a4-a2f8-4613-9f51-2c5ebb6f4445', 'a99c50a4-a2f8-4613-9f51-2c5ebb6f4445'\n",
            "r_df = pd.read_csv('data/tmp/' + r + '.csv', nrows=100)\n",
            "s_df = pd.read_csv('data/tmp/' + s + '.csv', nrows=100)\n",
            "\n",
            "r_df = pl.read_csv('data/tmp/' + r + '.csv', n_rows=100).to_pandas()\n",
            "s_df = pl.read_csv('data/tmp/' + s + '.csv', n_rows=100).to_pandas()"
         ]
      },
      {
         "cell_type": "code",
         "execution_count": 21,
         "id": "ac36aeae",
         "metadata": {},
         "outputs": [
            {
               "name": "stdout",
               "output_type": "stream",
               "text": [
                  "Detected 3 seed(s) in 0.0008835792541503906 seconds.\n",
                  "Generated 1 candidate(s) in 2.3603439331054688e-05 seconds.\n",
                  "Verified 1 candidate(s) in 0.00026726722717285156 seconds.\n",
                  "Detected 1 largest overlap(s) in 0.0003066062927246094 seconds.\n",
                  "Size of the detected largest overlap(s): 3 columns, 100 rows, 300 cells.\n",
                  "Total elapsed time: 0.0014977455139160156 seconds.\n",
                  "                                                    0        1  \\\n",
                  "0                                       053350 NB Ltd  135,418   \n",
                  "1                    056880 NB LtÃ©e (Roy Excavation)   78,147   \n",
                  "2         057033 NB Inc (Manoir Pascal Poirier Manor)  427,589   \n",
                  "3          10833762 Canada Inc. (o/a Le Salon Dieppe)   31,660   \n",
                  "4                          13 Barrels Brewing Company   34,001   \n",
                  "..                                                ...      ...   \n",
                  "95                                A S M Transport Ltd   79,798   \n",
                  "96                           A T Roy Construction Ltd   86,949   \n",
                  "97                       A-1 Auto Supplies (2018) Ltd   77,634   \n",
                  "98                                 A-Tech Roofing Ltd  733,658   \n",
                  "99  AMDHHA  (Association Maison Doucet Henessy Hou...   32,682   \n",
                  "\n",
                  "                                               2  \n",
                  "0   Payments & Grants / Paiements et subventions  \n",
                  "1   Payments & Grants / Paiements et subventions  \n",
                  "2   Payments & Grants / Paiements et subventions  \n",
                  "3   Payments & Grants / Paiements et subventions  \n",
                  "4   Payments & Grants / Paiements et subventions  \n",
                  "..                                           ...  \n",
                  "95  Payments & Grants / Paiements et subventions  \n",
                  "96  Payments & Grants / Paiements et subventions  \n",
                  "97  Payments & Grants / Paiements et subventions  \n",
                  "98  Payments & Grants / Paiements et subventions  \n",
                  "99  Payments & Grants / Paiements et subventions  \n",
                  "\n",
                  "[100 rows x 3 columns]\n"
               ]
            },
            {
               "data": {
                  "text/plain": [
                     "(True,\n",
                     " [([(0, 0), (1, 1), (2, 2)],\n",
                     "   [('053350 NB Ltd',\n",
                     "     '135,418',\n",
                     "     'Payments & Grants / Paiements et subventions'),\n",
                     "    ('056880 NB LtÃ©e (Roy Excavation)',\n",
                     "     '78,147',\n",
                     "     'Payments & Grants / Paiements et subventions'),\n",
                     "    ('057033 NB Inc (Manoir Pascal Poirier Manor)',\n",
                     "     '427,589',\n",
                     "     'Payments & Grants / Paiements et subventions'),\n",
                     "    ('10833762 Canada Inc. (o/a Le Salon Dieppe)',\n",
                     "     '31,660',\n",
                     "     'Payments & Grants / Paiements et subventions'),\n",
                     "    ('13 Barrels Brewing Company',\n",
                     "     '34,001',\n",
                     "     'Payments & Grants / Paiements et subventions'),\n",
                     "    ('250 King Street (SOT NB Inc)',\n",
                     "     '1,595,353',\n",
                     "     'Payments & Grants / Paiements et subventions'),\n",
                     "    ('2M Distribution Inc',\n",
                     "     '29,547',\n",
                     "     'Payments & Grants / Paiements et subventions'),\n",
                     "    ('3 Brooks Villa Ltd',\n",
                     "     '433,902',\n",
                     "     'Payments & Grants / Paiements et subventions'),\n",
                     "    ('3 plus Economic Development Corporation (3+ Corporation)',\n",
                     "     '269,975',\n",
                     "     'Payments & Grants / Paiements et subventions'),\n",
                     "    ('3299499 NS Ltd',\n",
                     "     '53,680',\n",
                     "     'Payments & Grants / Paiements et subventions'),\n",
                     "    ('3313789 NS Ltd',\n",
                     "     '30,899',\n",
                     "     'Payments & Grants / Paiements et subventions'),\n",
                     "    ('3509702 Canada Inc',\n",
                     "     '39,293',\n",
                     "     'Payments & Grants / Paiements et subventions'),\n",
                     "    ('3514 Rue Principale Inc',\n",
                     "     '986,871',\n",
                     "     'Payments & Grants / Paiements et subventions'),\n",
                     "    ('3655806 Canada Inc',\n",
                     "     '1,340,004',\n",
                     "     'Payments & Grants / Paiements et subventions'),\n",
                     "    ('3D Datacomm',\n",
                     "     '1,471,469',\n",
                     "     'Payments & Grants / Paiements et subventions'),\n",
                     "    ('3D Property Management Inc',\n",
                     "     '459,903',\n",
                     "     'Payments & Grants / Paiements et subventions'),\n",
                     "    ('3M Canada Company',\n",
                     "     '197,756',\n",
                     "     'Payments & Grants / Paiements et subventions'),\n",
                     "    ('4478959 Canada Inc (Mackie Moving Systems)',\n",
                     "     '113,591',\n",
                     "     'Payments & Grants / Paiements et subventions'),\n",
                     "    ('460 Two Nations Crossing (SOT NB Inc)',\n",
                     "     '1,181,996',\n",
                     "     'Payments & Grants / Paiements et subventions'),\n",
                     "    ('4Imprint Inc', '31,496', 'Payments & Grants / Paiements et subventions'),\n",
                     "    ('50-70 & 110 Crown Street inc',\n",
                     "     '80,959',\n",
                     "     'Payments & Grants / Paiements et subventions'),\n",
                     "    ('502087 NB Ltd (Mercers Trucking)',\n",
                     "     '104,064',\n",
                     "     'Payments & Grants / Paiements et subventions'),\n",
                     "    ('507913 NB Inc',\n",
                     "     '57,460',\n",
                     "     'Payments & Grants / Paiements et subventions'),\n",
                     "    ('508482 NB Inc o/a Kent Senior Homecare',\n",
                     "     '2,164,966',\n",
                     "     'Payments & Grants / Paiements et subventions'),\n",
                     "    ('513356 NB Ltd (High Tech Industries)',\n",
                     "     '39,172',\n",
                     "     'Payments & Grants / Paiements et subventions'),\n",
                     "    ('58 Legion Court Inc',\n",
                     "     '200,000',\n",
                     "     'Payments & Grants / Paiements et subventions'),\n",
                     "    ('606913 NB LtÃ©e (Bellefeuille Productions)',\n",
                     "     '408,121',\n",
                     "     'Payments & Grants / Paiements et subventions'),\n",
                     "    ('609082 NB Ltd (Wayne MacBeth Contracting)',\n",
                     "     '123,874',\n",
                     "     'Payments & Grants / Paiements et subventions'),\n",
                     "    ('621090 NB Inc (Daniel Goguen)',\n",
                     "     '502,871',\n",
                     "     'Payments & Grants / Paiements et subventions'),\n",
                     "    ('621455 NB Ltd (o/a McTague Insurance)',\n",
                     "     '41,132',\n",
                     "     'Payments & Grants / Paiements et subventions'),\n",
                     "    ('635013 NB Inc',\n",
                     "     '346,523',\n",
                     "     'Payments & Grants / Paiements et subventions'),\n",
                     "    ('635307 NB Inc (Jean Coutu #405)',\n",
                     "     '54,524',\n",
                     "     'Payments & Grants / Paiements et subventions'),\n",
                     "    ('637346 NB LtÃ©e',\n",
                     "     '90,226',\n",
                     "     'Payments & Grants / Paiements et subventions'),\n",
                     "    ('642705 NB Inc (Loogaroo)',\n",
                     "     '37,641',\n",
                     "     'Payments & Grants / Paiements et subventions'),\n",
                     "    ('644668 NB Inc',\n",
                     "     '25,770',\n",
                     "     'Payments & Grants / Paiements et subventions'),\n",
                     "    ('645905 NB Inc',\n",
                     "     '25,749',\n",
                     "     'Payments & Grants / Paiements et subventions'),\n",
                     "    ('647013 NB Inc (Residence Notre-Dame)',\n",
                     "     '207,902',\n",
                     "     'Payments & Grants / Paiements et subventions'),\n",
                     "    ('647697 NB LtÃ©e (Claude Ferguson Construction)',\n",
                     "     '76,574',\n",
                     "     'Payments & Grants / Paiements et subventions'),\n",
                     "    ('649120 NB Inc',\n",
                     "     '34,075',\n",
                     "     'Payments & Grants / Paiements et subventions'),\n",
                     "    ('653181 NB Inc',\n",
                     "     '92,604',\n",
                     "     'Payments & Grants / Paiements et subventions'),\n",
                     "    ('653461 NB Inc (Productions du Milieu Inc)',\n",
                     "     '166,884',\n",
                     "     'Payments & Grants / Paiements et subventions'),\n",
                     "    ('654893 NB Ltd',\n",
                     "     '279,959',\n",
                     "     'Payments & Grants / Paiements et subventions'),\n",
                     "    ('655103 NB Inc (Productions du Milieu Inc)',\n",
                     "     '249,695',\n",
                     "     'Payments & Grants / Paiements et subventions'),\n",
                     "    ('658698 NB Ltd (The Happy Baker)',\n",
                     "     '59,969',\n",
                     "     'Payments & Grants / Paiements et subventions'),\n",
                     "    ('661682 NB Inc (Ea9648)',\n",
                     "     '240,000',\n",
                     "     'Payments & Grants / Paiements et subventions'),\n",
                     "    ('663069 NB Ltd',\n",
                     "     '63,556',\n",
                     "     'Payments & Grants / Paiements et subventions'),\n",
                     "    ('668010 NB Inc (Criterion Consulting)',\n",
                     "     '50,375',\n",
                     "     'Payments & Grants / Paiements et subventions'),\n",
                     "    ('669311 NB Ltd',\n",
                     "     '376,259',\n",
                     "     'Payments & Grants / Paiements et subventions'),\n",
                     "    ('669315 NB Inc (o/a Video Band & Earthlings Childcare)',\n",
                     "     '53,329',\n",
                     "     'Payments & Grants / Paiements et subventions'),\n",
                     "    ('670261 NB Inc',\n",
                     "     '482,201',\n",
                     "     'Payments & Grants / Paiements et subventions'),\n",
                     "    ('671661 NB Inc (Haven Stream Residence, Fundy Royal Manor I & II)',\n",
                     "     '1,784,226',\n",
                     "     'Payments & Grants / Paiements et subventions'),\n",
                     "    ('672392 NB Ltd (Pro Fleet Care SENB)',\n",
                     "     '43,629',\n",
                     "     'Payments & Grants / Paiements et subventions'),\n",
                     "    ('673139 NB Inc',\n",
                     "     '65,150',\n",
                     "     'Payments & Grants / Paiements et subventions'),\n",
                     "    ('678677 NB Inc',\n",
                     "     '36,626',\n",
                     "     'Payments & Grants / Paiements et subventions'),\n",
                     "    ('678780 NB Inc (Daniel Goguen)',\n",
                     "     '424,517',\n",
                     "     'Payments & Grants / Paiements et subventions'),\n",
                     "    ('679995 NB Inc (Centre Ã\\x89ducatif Le Platinum (2014) Inc)',\n",
                     "     '116,396',\n",
                     "     'Payments & Grants / Paiements et subventions'),\n",
                     "    ('681717 NB Inc (Servpro of Fredericton Inc)',\n",
                     "     '30,120',\n",
                     "     'Payments & Grants / Paiements et subventions'),\n",
                     "    ('681751 NB Ltd (Sunfield Apartment Rentals)',\n",
                     "     '426,339',\n",
                     "     'Payments & Grants / Paiements et subventions'),\n",
                     "    ('685010 NB Inc',\n",
                     "     '25,665',\n",
                     "     'Payments & Grants / Paiements et subventions'),\n",
                     "    ('685209 NB Inc (o/a Four Eyes Financial)',\n",
                     "     '35,385',\n",
                     "     'Payments & Grants / Paiements et subventions'),\n",
                     "    ('685704 NB Inc',\n",
                     "     '29,975',\n",
                     "     'Payments & Grants / Paiements et subventions'),\n",
                     "    ('685952 NB Inc',\n",
                     "     '225,481',\n",
                     "     'Payments & Grants / Paiements et subventions'),\n",
                     "    ('685988 NB LtÃ©e (Manoir Brideau)',\n",
                     "     '532,037',\n",
                     "     'Payments & Grants / Paiements et subventions'),\n",
                     "    ('686127 NB Inc (River Valley Preschool & Daycare Inc)',\n",
                     "     '285,123',\n",
                     "     'Payments & Grants / Paiements et subventions'),\n",
                     "    ('686935 NB Ltd (Topaz Special Care Home)',\n",
                     "     '172,893',\n",
                     "     'Payments & Grants / Paiements et subventions'),\n",
                     "    ('688262 NB Ltd',\n",
                     "     '92,455',\n",
                     "     'Payments & Grants / Paiements et subventions'),\n",
                     "    ('689815 NB Inc (Magasin Chez Bernard)',\n",
                     "     '31,186',\n",
                     "     'Payments & Grants / Paiements et subventions'),\n",
                     "    ('690821 NB Inc (o/a Loyalist City Brewing)',\n",
                     "     '31,650',\n",
                     "     'Payments & Grants / Paiements et subventions'),\n",
                     "    ('691890 NB Ltd',\n",
                     "     '97,088',\n",
                     "     'Payments & Grants / Paiements et subventions'),\n",
                     "    ('694758 NB Inc (DBA Rembrant Agrivest)',\n",
                     "     '64,259',\n",
                     "     'Payments & Grants / Paiements et subventions'),\n",
                     "    ('695558 NB Inc (Mozus Productions)',\n",
                     "     '600,271',\n",
                     "     'Payments & Grants / Paiements et subventions'),\n",
                     "    ('697130 NB Inc (Unum Health Inc)',\n",
                     "     '47,650',\n",
                     "     'Payments & Grants / Paiements et subventions'),\n",
                     "    ('699963 NB Ltd',\n",
                     "     '29,588',\n",
                     "     'Payments & Grants / Paiements et subventions'),\n",
                     "    ('700365 NB Inc (The Childrens Academy)',\n",
                     "     '509,805',\n",
                     "     'Payments & Grants / Paiements et subventions'),\n",
                     "    ('702476 NB Ltd',\n",
                     "     '55,156',\n",
                     "     'Payments & Grants / Paiements et subventions'),\n",
                     "    ('703474 NB Inc (Little Bear Productions Inc)',\n",
                     "     '27,221',\n",
                     "     'Payments & Grants / Paiements et subventions'),\n",
                     "    ('703887 NB Ltd',\n",
                     "     '62,813',\n",
                     "     'Payments & Grants / Paiements et subventions'),\n",
                     "    ('704507 NB Ltd',\n",
                     "     '49,611',\n",
                     "     'Payments & Grants / Paiements et subventions'),\n",
                     "    ('708045 NB Inc (o/a Station 33 Cafe & Yoga)',\n",
                     "     '33,893',\n",
                     "     'Payments & Grants / Paiements et subventions'),\n",
                     "    ('709924 NB Inc',\n",
                     "     '25,126',\n",
                     "     'Payments & Grants / Paiements et subventions'),\n",
                     "    ('710771 NB Inc (Productions Les Freres Breau Inc)',\n",
                     "     '93,086',\n",
                     "     'Payments & Grants / Paiements et subventions'),\n",
                     "    ('8620385 Canada Ltd  (Comeau Electrical Services)',\n",
                     "     '52,083',\n",
                     "     'Payments & Grants / Paiements et subventions'),\n",
                     "    ('8944989 Canada Inc (Groupe Dumont)',\n",
                     "     '1,124,632',\n",
                     "     'Payments & Grants / Paiements et subventions'),\n",
                     "    ('92.9 FM-CKLE-FM CJVA-FM (Radio de la Baie LtÃ©e)',\n",
                     "     '34,404',\n",
                     "     'Payments & Grants / Paiements et subventions'),\n",
                     "    ('A & J Hanna Construction Ltd',\n",
                     "     '136,132',\n",
                     "     'Payments & Grants / Paiements et subventions'),\n",
                     "    ('A D Fiander Associates Ltd',\n",
                     "     '1,047,055',\n",
                     "     'Payments & Grants / Paiements et subventions'),\n",
                     "    ('A F Theriault Son Ltd',\n",
                     "     '771,723',\n",
                     "     'Payments & Grants / Paiements et subventions'),\n",
                     "    ('A Girardin Inc (Girardin Autobus Inc)',\n",
                     "     '92,288',\n",
                     "     'Payments & Grants / Paiements et subventions'),\n",
                     "    ('A J W Mechanical Ltd',\n",
                     "     '47,221',\n",
                     "     'Payments & Grants / Paiements et subventions'),\n",
                     "    ('A Landry Fabrication',\n",
                     "     '74,057',\n",
                     "     'Payments & Grants / Paiements et subventions'),\n",
                     "    ('AMDHHA  (Association Maison Doucet Henessy House Association Inc)',\n",
                     "     '32,682',\n",
                     "     'Payments & Grants / Paiements et subventions'),\n",
                     "    ('A Moment in Time Care Home',\n",
                     "     '117,873',\n",
                     "     'Payments & Grants / Paiements et subventions'),\n",
                     "    ('A R Emberley Electric',\n",
                     "     '42,199',\n",
                     "     'Payments & Grants / Paiements et subventions'),\n",
                     "    ('A R Lanteigne Construction Ltd',\n",
                     "     '93,000',\n",
                     "     'Payments & Grants / Paiements et subventions'),\n",
                     "    ('A R Rietzel Landscaping Ltd.',\n",
                     "     '123,181',\n",
                     "     'Payments & Grants / Paiements et subventions'),\n",
                     "    ('A R Santos Caring Home Ltd',\n",
                     "     '93,719',\n",
                     "     'Payments & Grants / Paiements et subventions'),\n",
                     "    ('A S M Transport Ltd',\n",
                     "     '79,798',\n",
                     "     'Payments & Grants / Paiements et subventions'),\n",
                     "    ('A T Roy Construction Ltd',\n",
                     "     '86,949',\n",
                     "     'Payments & Grants / Paiements et subventions'),\n",
                     "    ('A-1 Auto Supplies (2018) Ltd',\n",
                     "     '77,634',\n",
                     "     'Payments & Grants / Paiements et subventions'),\n",
                     "    ('A-Tech Roofing Ltd',\n",
                     "     '733,658',\n",
                     "     'Payments & Grants / Paiements et subventions')])],\n",
                     " None)"
                  ]
               },
               "execution_count": 21,
               "metadata": {},
               "output_type": "execute_result"
            }
         ],
         "source": [
            "sloth(r_df, s_df, min_w=3)"
         ]
      },
      {
         "cell_type": "code",
         "execution_count": 23,
         "id": "660804fc",
         "metadata": {},
         "outputs": [
            {
               "name": "stdout",
               "output_type": "stream",
               "text": [
                  "Searching in tables: ['a99c50a4-a2f8-4613-9f51-2c5ebb6f4445', '46131b54-5905-4e44-96b2-446bab3eb974', '1fa525e8-383e-47e9-86a7-5395c01caf6a', 'f838d643-e46c-4c90-adf2-d5b8ea694298', '18c17dcf-617d-44d7-b351-6fd7c3fc6b48', 'c53c8f11-f8b5-4ca5-8bc7-68c92774d03c', 'e5a6ce4d-cdda-4694-a06f-bec1a0079915', '2edcc334-25ef-47a3-91ba-f59aa4bb348d', '9f6d2287-0679-4eac-acfb-f03e1fcdba52', '06dc0d9f-d163-457c-b689-d58e41f5c0bb']\n",
                  "(100, 3) (100, 3) 3\n",
                  "a99c50a4-a2f8-4613-9f51-2c5ebb6f4445 a99c50a4-a2f8-4613-9f51-2c5ebb6f4445\n",
                  "(100, 4) (100, 4) 4\n",
                  "46131b54-5905-4e44-96b2-446bab3eb974 46131b54-5905-4e44-96b2-446bab3eb974\n",
                  "(100, 3) (100, 3) 3\n",
                  "f838d643-e46c-4c90-adf2-d5b8ea694298 f838d643-e46c-4c90-adf2-d5b8ea694298\n",
                  "(100, 2) (100, 2) 2\n",
                  "18c17dcf-617d-44d7-b351-6fd7c3fc6b48 18c17dcf-617d-44d7-b351-6fd7c3fc6b48\n",
                  "(100, 2) (100, 2) 2\n",
                  "c53c8f11-f8b5-4ca5-8bc7-68c92774d03c c53c8f11-f8b5-4ca5-8bc7-68c92774d03c\n",
                  "(100, 3) (100, 3) 3\n",
                  "e5a6ce4d-cdda-4694-a06f-bec1a0079915 e5a6ce4d-cdda-4694-a06f-bec1a0079915\n"
               ]
            }
         ],
         "source": [
            "results = search_unions(os.path.join('data', 'tmp'), searcher, os.path.join('data', 'blend.db'), table_ids, check_headers=False, limit_table_rows=100)"
         ]
      },
      {
         "cell_type": "code",
         "execution_count": 24,
         "id": "17e96bd6",
         "metadata": {},
         "outputs": [
            {
               "data": {
                  "text/plain": [
                     "[{'left_table': 'a99c50a4-a2f8-4613-9f51-2c5ebb6f4445',\n",
                     "  'right_table': 'a99c50a4-a2f8-4613-9f51-2c5ebb6f4445',\n",
                     "  'left_columns': ['ï»¿Supplier Name / Nom du fournisseur',\n",
                     "   'Payment / Paiement',\n",
                     "   'Payment Type / Type de paiement'],\n",
                     "  'right_columns': ['ï»¿Supplier Name / Nom du fournisseur',\n",
                     "   'Payment / Paiement',\n",
                     "   'Payment Type / Type de paiement'],\n",
                     "  'width': 3,\n",
                     "  'heigth': 100,\n",
                     "  'area': 300},\n",
                     " {'left_table': '46131b54-5905-4e44-96b2-446bab3eb974',\n",
                     "  'right_table': '46131b54-5905-4e44-96b2-446bab3eb974',\n",
                     "  'left_columns': ['Department / MinistÃ¨re',\n",
                     "   'Supplier Name / Nom du fournisseur',\n",
                     "   'Payment / Paiement',\n",
                     "   'Payment Type / Type de paiement'],\n",
                     "  'right_columns': ['Department / MinistÃ¨re',\n",
                     "   'Supplier Name / Nom du fournisseur',\n",
                     "   'Payment / Paiement',\n",
                     "   'Payment Type / Type de paiement'],\n",
                     "  'width': 4,\n",
                     "  'heigth': 100,\n",
                     "  'area': 400},\n",
                     " {'left_table': 'f838d643-e46c-4c90-adf2-d5b8ea694298',\n",
                     "  'right_table': 'f838d643-e46c-4c90-adf2-d5b8ea694298',\n",
                     "  'left_columns': ['ï»¿Supplier Name / Nom du fournisseur',\n",
                     "   'Payment / Paiement',\n",
                     "   'Payment Type / Type de paiement'],\n",
                     "  'right_columns': ['ï»¿Supplier Name / Nom du fournisseur',\n",
                     "   'Payment / Paiement',\n",
                     "   'Payment Type / Type de paiement'],\n",
                     "  'width': 3,\n",
                     "  'heigth': 100,\n",
                     "  'area': 300},\n",
                     " {'left_table': '18c17dcf-617d-44d7-b351-6fd7c3fc6b48',\n",
                     "  'right_table': '18c17dcf-617d-44d7-b351-6fd7c3fc6b48',\n",
                     "  'left_columns': ['Name', 'Amount'],\n",
                     "  'right_columns': ['Name', 'Amount'],\n",
                     "  'width': 2,\n",
                     "  'heigth': 100,\n",
                     "  'area': 200},\n",
                     " {'left_table': 'c53c8f11-f8b5-4ca5-8bc7-68c92774d03c',\n",
                     "  'right_table': 'c53c8f11-f8b5-4ca5-8bc7-68c92774d03c',\n",
                     "  'left_columns': ['NAME', 'AMOUNT'],\n",
                     "  'right_columns': ['NAME', 'AMOUNT'],\n",
                     "  'width': 2,\n",
                     "  'heigth': 100,\n",
                     "  'area': 200},\n",
                     " {'left_table': 'e5a6ce4d-cdda-4694-a06f-bec1a0079915',\n",
                     "  'right_table': 'e5a6ce4d-cdda-4694-a06f-bec1a0079915',\n",
                     "  'left_columns': ['Supplier Name / Nom du fournisseur',\n",
                     "   'Payment / Paiement',\n",
                     "   'Payment Type / Type de paiement'],\n",
                     "  'right_columns': ['Supplier Name / Nom du fournisseur',\n",
                     "   'Payment / Paiement',\n",
                     "   'Payment Type / Type de paiement'],\n",
                     "  'width': 3,\n",
                     "  'heigth': 100,\n",
                     "  'area': 300}]"
                  ]
               },
               "execution_count": 24,
               "metadata": {},
               "output_type": "execute_result"
            }
         ],
         "source": [
            "results"
         ]
      }
   ],
   "metadata": {
      "kernelspec": {
         "display_name": "lakegen",
         "language": "python",
         "name": "python3"
      },
      "language_info": {
         "codemirror_mode": {
            "name": "ipython",
            "version": 3
         },
         "file_extension": ".py",
         "mimetype": "text/x-python",
         "name": "python",
         "nbconvert_exporter": "python",
         "pygments_lexer": "ipython3",
         "version": "3.12.11"
      }
   },
   "nbformat": 4,
   "nbformat_minor": 5
}
