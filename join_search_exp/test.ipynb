{
 "cells": [
  {
   "cell_type": "code",
   "execution_count": null,
   "id": "ba51000a-bcd8-4db3-9ad4-eddf6a2badfd",
   "metadata": {},
   "outputs": [],
   "source": [
    "import os\n",
    "\n",
    "import pandas as pd\n",
    "from tqdm import tqdm"
   ]
  },
  {
   "cell_type": "code",
   "execution_count": 7,
   "id": "86240dd5-7b4f-4b72-9a80-a72b42774df3",
   "metadata": {},
   "outputs": [],
   "source": [
    "keywords_gt = pd.read_csv(os.path.join('..', 'data', 'keywords_gt_with_examples.csv'))"
   ]
  },
  {
   "cell_type": "code",
   "execution_count": 8,
   "id": "f1191b13-792f-47a0-8d86-b6372937bd64",
   "metadata": {},
   "outputs": [
    {
     "data": {
      "text/html": [
       "<div>\n",
       "<style scoped>\n",
       "    .dataframe tbody tr th:only-of-type {\n",
       "        vertical-align: middle;\n",
       "    }\n",
       "\n",
       "    .dataframe tbody tr th {\n",
       "        vertical-align: top;\n",
       "    }\n",
       "\n",
       "    .dataframe thead th {\n",
       "        text-align: right;\n",
       "    }\n",
       "</style>\n",
       "<table border=\"1\" class=\"dataframe\">\n",
       "  <thead>\n",
       "    <tr style=\"text-align: right;\">\n",
       "      <th></th>\n",
       "      <th>country_tag</th>\n",
       "      <th>type</th>\n",
       "      <th>difficulty</th>\n",
       "      <th>r_rsc_id</th>\n",
       "      <th>s_rsc_id</th>\n",
       "      <th>r_pkg_id</th>\n",
       "      <th>s_pkg_id</th>\n",
       "      <th>r_col_name</th>\n",
       "      <th>s_col_name</th>\n",
       "      <th>nl</th>\n",
       "      <th>top_k</th>\n",
       "      <th>n_keywords</th>\n",
       "      <th>keywords</th>\n",
       "      <th>presence</th>\n",
       "      <th>result_count</th>\n",
       "      <th>r_id_index</th>\n",
       "      <th>s_id_index</th>\n",
       "      <th>prompt_tokens</th>\n",
       "      <th>completion_tokens</th>\n",
       "      <th>response</th>\n",
       "    </tr>\n",
       "  </thead>\n",
       "  <tbody>\n",
       "    <tr>\n",
       "      <th>0</th>\n",
       "      <td>CAN</td>\n",
       "      <td>multi-table-join</td>\n",
       "      <td>challenging</td>\n",
       "      <td>a7c95445-e336-41e3-945c-1bc938ff0612</td>\n",
       "      <td>ae2204c7-db9e-450e-8158-c70eedada7ae</td>\n",
       "      <td>12c89aa5-063a-f0ed-334a-3019133b9ee8</td>\n",
       "      <td>4879e498-c9ac-44a3-d7d1-21af22e2224c</td>\n",
       "      <td>department_/_minista_re</td>\n",
       "      <td>department_/_minista_re</td>\n",
       "      <td>How has the payment amount changed for the sam...</td>\n",
       "      <td>1000</td>\n",
       "      <td>2</td>\n",
       "      <td>suppliers+payments</td>\n",
       "      <td>1</td>\n",
       "      <td>17</td>\n",
       "      <td>14.0</td>\n",
       "      <td>12.0</td>\n",
       "      <td>648</td>\n",
       "      <td>15</td>\n",
       "      <td>&lt;think&gt;\\n\\n&lt;/think&gt;\\n\\n&lt;keywords&gt;suppliers+pay...</td>\n",
       "    </tr>\n",
       "  </tbody>\n",
       "</table>\n",
       "</div>"
      ],
      "text/plain": [
       "  country_tag              type   difficulty  \\\n",
       "0         CAN  multi-table-join  challenging   \n",
       "\n",
       "                               r_rsc_id                              s_rsc_id  \\\n",
       "0  a7c95445-e336-41e3-945c-1bc938ff0612  ae2204c7-db9e-450e-8158-c70eedada7ae   \n",
       "\n",
       "                               r_pkg_id                              s_pkg_id  \\\n",
       "0  12c89aa5-063a-f0ed-334a-3019133b9ee8  4879e498-c9ac-44a3-d7d1-21af22e2224c   \n",
       "\n",
       "                r_col_name               s_col_name  \\\n",
       "0  department_/_minista_re  department_/_minista_re   \n",
       "\n",
       "                                                  nl  top_k  n_keywords  \\\n",
       "0  How has the payment amount changed for the sam...   1000           2   \n",
       "\n",
       "             keywords  presence  result_count  r_id_index  s_id_index  \\\n",
       "0  suppliers+payments         1            17        14.0        12.0   \n",
       "\n",
       "   prompt_tokens  completion_tokens  \\\n",
       "0            648                 15   \n",
       "\n",
       "                                            response  \n",
       "0  <think>\\n\\n</think>\\n\\n<keywords>suppliers+pay...  "
      ]
     },
     "execution_count": 8,
     "metadata": {},
     "output_type": "execute_result"
    }
   ],
   "source": [
    "data = keywords_gt[\n",
    "    (keywords_gt['n_keywords'] == 2) & \n",
    "    (keywords_gt['presence'] == 1) &\n",
    "    (keywords_gt['result_count'] >= 15) & \n",
    "    (keywords_gt['r_id_index'] < 20)\n",
    "].iloc[:1].reset_index(drop=True)\n",
    "\n",
    "data"
   ]
  },
  {
   "cell_type": "markdown",
   "id": "8972371f",
   "metadata": {},
   "source": [
    "## Fetching Packages and relative Tables"
   ]
  },
  {
   "cell_type": "code",
   "execution_count": 1,
   "id": "d6bae1d7",
   "metadata": {},
   "outputs": [],
   "source": [
    "from ckan import CanadaCKAN\n",
    "\n",
    "ckan_client = CanadaCKAN() "
   ]
  },
  {
   "cell_type": "code",
   "execution_count": 2,
   "id": "d3b2e458",
   "metadata": {},
   "outputs": [],
   "source": [
    "result = ckan_client.resource_show('e801d617-497e-4a18-b6ce-85e7c81eb471')"
   ]
  },
  {
   "cell_type": "code",
   "execution_count": 3,
   "id": "e3bfd0f7",
   "metadata": {},
   "outputs": [
    {
     "data": {
      "text/plain": [
       "{'help': 'https://open.canada.ca/data/api/3/action/help_show?name=resource_show',\n",
       " 'success': True,\n",
       " 'result': {'cache_last_updated': None,\n",
       "  'cache_url': None,\n",
       "  'character_set': 'UTF-8',\n",
       "  'created': '2023-06-02T12:36:26.740000',\n",
       "  'data_quality': [],\n",
       "  'datastore_active': False,\n",
       "  'datastore_contains_all_records_of_source_file': False,\n",
       "  'date_published': '2023-06-02',\n",
       "  'description': None,\n",
       "  'format': 'CSV',\n",
       "  'hash': '',\n",
       "  'id': 'e801d617-497e-4a18-b6ce-85e7c81eb471',\n",
       "  'language': ['en', 'fr'],\n",
       "  'last_modified': '2025-06-28T00:00:00',\n",
       "  'metadata_modified': '2025-06-29T05:10:45.143905',\n",
       "  'mimetype': None,\n",
       "  'mimetype_inner': None,\n",
       "  'name': 'Contract history, 2020-2021',\n",
       "  'name_translated': {'fr': 'Contrats octroyés, 2020-2021',\n",
       "   'en': 'Contract history, 2020-2021'},\n",
       "  'package_id': '4fe645a1-ffcd-40c1-9385-2c771be956a4',\n",
       "  'position': 15,\n",
       "  'resource_type': 'dataset',\n",
       "  'state': 'active',\n",
       "  'unique_identifier': '',\n",
       "  'url': 'https://canadabuys.canada.ca/opendata/pub/2020-2021-contractHistory-contratsOctroyes.csv',\n",
       "  'url_type': None,\n",
       "  'validation_status': '',\n",
       "  'validation_timestamp': ''}}"
      ]
     },
     "execution_count": 3,
     "metadata": {},
     "output_type": "execute_result"
    }
   ],
   "source": [
    "result\n"
   ]
  },
  {
   "cell_type": "code",
   "execution_count": 2,
   "id": "ad5c7d2c",
   "metadata": {},
   "outputs": [
    {
     "name": "stderr",
     "output_type": "stream",
     "text": [
      "Exception in thread Thread-4:\n",
      "Traceback (most recent call last):\n",
      "  File \"/home/nanni/miniconda3/envs/lakegen/lib/python3.12/threading.py\", line 1075, in _bootstrap_inner\n",
      "    self.run()\n",
      "  File \"/home/nanni/miniconda3/envs/lakegen/lib/python3.12/concurrent/futures/process.py\", line 388, in run\n",
      "    self.join_executor_internals()\n",
      "  File \"/home/nanni/miniconda3/envs/lakegen/lib/python3.12/concurrent/futures/process.py\", line 570, in join_executor_internals\n",
      "    self._join_executor_internals()\n",
      "  File \"/home/nanni/miniconda3/envs/lakegen/lib/python3.12/concurrent/futures/process.py\", line 587, in _join_executor_internals\n",
      "    p.join()\n",
      "  File \"/home/nanni/miniconda3/envs/lakegen/lib/python3.12/multiprocessing/process.py\", line 149, in join\n",
      "    res = self._popen.wait(timeout)\n",
      "          ^^^^^^^^^^^^^^^^^^^^^^^^^\n",
      "  File \"/home/nanni/miniconda3/envs/lakegen/lib/python3.12/multiprocessing/popen_fork.py\", line 43, in wait\n",
      "    return self.poll(os.WNOHANG if timeout == 0.0 else 0)\n",
      "           ^^^^^^^^^^^^^^^^^^^^^^^^^^^^^^^^^^^^^^^^^^^^^^\n",
      "  File \"/home/nanni/miniconda3/envs/lakegen/lib/python3.12/multiprocessing/popen_fork.py\", line 27, in poll\n",
      "    pid, sts = os.waitpid(self.pid, flag)\n",
      "               ^^^^^^^^^^^^^^^^^^^^^^^^^^\n",
      "  File \"/home/nanni/miniconda3/envs/lakegen/lib/python3.12/site-packages/gevent/os.py\", line 380, in waitpid\n",
      "    get_hub().wait(new_watcher)\n",
      "  File \"src/gevent/_hub_primitives.py\", line 46, in gevent._gevent_c_hub_primitives.WaitOperationsGreenlet.wait\n",
      "  File \"src/gevent/_hub_primitives.py\", line 55, in gevent._gevent_c_hub_primitives.WaitOperationsGreenlet.wait\n",
      "  File \"src/gevent/_waiter.py\", line 154, in gevent._gevent_c_waiter.Waiter.get\n",
      "  File \"src/gevent/_greenlet_primitives.py\", line 65, in gevent._gevent_c_greenlet_primitives.SwitchOutGreenletWithLoop.switch\n",
      "  File \"src/gevent/_gevent_c_greenlet_primitives.pxd\", line 35, in gevent._gevent_c_greenlet_primitives._greenlet_switch\n",
      "gevent.exceptions.LoopExit: This operation would block forever\n",
      "\tHub: <Hub '' at 0x7f59b14f9760 epoll pending=0 ref=0 fileno=67 thread_ident=0x7f59b0c586c0>\n",
      "\tHandles:\n",
      "[]\n"
     ]
    },
    {
     "name": "stdout",
     "output_type": "stream",
     "text": [
      "'NoneType' object has no attribute 'headers'\n",
      "'NoneType' object has no attribute 'headers'\n",
      "'NoneType' object has no attribute 'headers'\n",
      "'NoneType' object has no attribute 'headers'\n",
      "'NoneType' object has no attribute 'headers'\n",
      "'NoneType' object has no attribute 'headers'\n",
      "'NoneType' object has no attribute 'headers'\n",
      "'NoneType' object has no attribute 'headers'\n",
      "'NoneType' object has no attribute 'headers'\n",
      "'NoneType' object has no attribute 'headers'\n",
      "'NoneType' object has no attribute 'headers'\n",
      "'NoneType' object has no attribute 'headers'\n",
      "'NoneType' object has no attribute 'headers'\n",
      "'NoneType' object has no attribute 'headers'\n",
      "'NoneType' object has no attribute 'headers'\n",
      "'NoneType' object has no attribute 'headers'\n",
      "'NoneType' object has no attribute 'headers'\n",
      "'NoneType' object has no attribute 'headers'\n",
      "'NoneType' object has no attribute 'headers'\n",
      "'NoneType' object has no attribute 'headers'\n",
      "'NoneType' object has no attribute 'headers'\n",
      "'NoneType' object has no attribute 'headers'\n",
      "'NoneType' object has no attribute 'headers'\n",
      "'NoneType' object has no attribute 'headers'\n",
      "'NoneType' object has no attribute 'headers'\n",
      "'NoneType' object has no attribute 'headers'\n",
      "'NoneType' object has no attribute 'headers'\n",
      "'NoneType' object has no attribute 'headers'\n",
      "'NoneType' object has no attribute 'headers'\n",
      "'NoneType' object has no attribute 'headers'\n",
      "'NoneType' object has no attribute 'headers'\n",
      "'NoneType' object has no attribute 'headers'\n",
      "'NoneType' object has no attribute 'headers'\n",
      "'NoneType' object has no attribute 'headers'\n",
      "'NoneType' object has no attribute 'headers'\n",
      "'NoneType' object has no attribute 'headers'\n",
      "'NoneType' object has no attribute 'headers'\n",
      "'NoneType' object has no attribute 'headers'\n",
      "'NoneType' object has no attribute 'headers'\n",
      "'NoneType' object has no attribute 'headers'\n",
      "'NoneType' object has no attribute 'headers'\n",
      "'NoneType' object has no attribute 'headers'\n",
      "'NoneType' object has no attribute 'headers'\n",
      "'NoneType' object has no attribute 'headers'\n",
      "'NoneType' object has no attribute 'headers'\n",
      "'NoneType' object has no attribute 'headers'\n",
      "'NoneType' object has no attribute 'headers'\n",
      "'NoneType' object has no attribute 'headers'\n",
      "'NoneType' object has no attribute 'headers'\n"
     ]
    },
    {
     "data": {
      "text/plain": [
       "0"
      ]
     },
     "execution_count": 2,
     "metadata": {},
     "output_type": "execute_result"
    }
   ],
   "source": [
    "import os\n",
    "import shutil\n",
    "\n",
    "shutil.rmtree('tmp')\n",
    "os.makedirs('tmp', exist_ok=True)\n",
    "\n",
    "cnt = ckan_client.download_tables_from_package_search('tmp', 'csv', 3, q='suppliers+payments', rows=20)\n",
    "\n",
    "cnt"
   ]
  },
  {
   "cell_type": "markdown",
   "id": "30e632e3",
   "metadata": {},
   "source": [
    "## Setup the BLEND index with ALL the downloaded resources"
   ]
  },
  {
   "cell_type": "code",
   "execution_count": 1,
   "id": "d60431ce",
   "metadata": {},
   "outputs": [],
   "source": [
    "import blend\n",
    "\n",
    "indexer = blend.BLEND('blend.db')"
   ]
  },
  {
   "cell_type": "code",
   "execution_count": null,
   "id": "ca019132",
   "metadata": {},
   "outputs": [
    {
     "name": "stdout",
     "output_type": "stream",
     "text": [
      "┌───────────┬─────────┬──────────┬────────┬──────────────────┬─────────────┬──────────┬──────────┐\n",
      "│ CellValue │ TableId │ ColumnId │ RowId  │ GranularityClass │ Granularity │ Quadrant │ SuperKey │\n",
      "│  varchar  │ varchar │  uint32  │ uint32 │     varchar      │   varchar   │ boolean  │   blob   │\n",
      "├───────────┴─────────┴──────────┴────────┴──────────────────┴─────────────┴──────────┴──────────┤\n",
      "│                                             0 rows                                             │\n",
      "└────────────────────────────────────────────────────────────────────────────────────────────────┘\n",
      "\n",
      "None\n"
     ]
    },
    {
     "name": "stderr",
     "output_type": "stream",
     "text": [
      "Parsing and storing tables:   0%|          | 0/45 [00:06<?, ?it/s]\n"
     ]
    }
   ],
   "source": [
    "_, dbcon = indexer.create_index('tmp', max_workers=6, limit_rows_per_table=1000, verbose=True)"
   ]
  },
  {
   "cell_type": "code",
   "execution_count": 5,
   "id": "bd97b063",
   "metadata": {},
   "outputs": [
    {
     "ename": "ConnectionException",
     "evalue": "Connection Error: Connection already closed!",
     "output_type": "error",
     "traceback": [
      "\u001b[31m---------------------------------------------------------------------------\u001b[39m",
      "\u001b[31mConnectionException\u001b[39m                       Traceback (most recent call last)",
      "\u001b[36mCell\u001b[39m\u001b[36m \u001b[39m\u001b[32mIn[5]\u001b[39m\u001b[32m, line 1\u001b[39m\n\u001b[32m----> \u001b[39m\u001b[32m1\u001b[39m \u001b[43mdbcon\u001b[49m\u001b[43m.\u001b[49m\u001b[43mtable\u001b[49m\u001b[43m(\u001b[49m\u001b[33;43m'\u001b[39;49m\u001b[33;43mAllTables\u001b[39;49m\u001b[33;43m'\u001b[39;49m\u001b[43m)\u001b[49m.show()\n",
      "\u001b[31mConnectionException\u001b[39m: Connection Error: Connection already closed!"
     ]
    }
   ],
   "source": [
    "dbcon.table('AllTables').show()"
   ]
  },
  {
   "cell_type": "code",
   "execution_count": 3,
   "id": "834310bd",
   "metadata": {},
   "outputs": [
    {
     "data": {
      "text/plain": [
       "┌──────────────┐\n",
       "│ count_star() │\n",
       "│    int64     │\n",
       "├──────────────┤\n",
       "│         2953 │\n",
       "└──────────────┘"
      ]
     },
     "execution_count": 3,
     "metadata": {},
     "output_type": "execute_result"
    }
   ],
   "source": [
    "dbcon.sql(\"SELECT COUNT(*) FROM AllTables;\")"
   ]
  },
  {
   "cell_type": "code",
   "execution_count": null,
   "id": "28707abb-d3f7-440a-a05e-542ed38bd05f",
   "metadata": {},
   "outputs": [],
   "source": [
    "s_rsc_metadata = ckan_client.resource_show(resource_id=data['s_rsc_id'][0])"
   ]
  },
  {
   "cell_type": "code",
   "execution_count": null,
   "id": "8b9d841b",
   "metadata": {},
   "outputs": [],
   "source": [
    "response = ckan_client.package_search(\"payment+supplier\", 3)"
   ]
  },
  {
   "cell_type": "markdown",
   "id": "b7cb8842",
   "metadata": {},
   "source": [
    "## Setup an Agent for Joinable Column Selection"
   ]
  },
  {
   "cell_type": "code",
   "execution_count": null,
   "id": "dba825cf",
   "metadata": {},
   "outputs": [],
   "source": [
    "from dotenv import load_dotenv\n",
    "from autogen_core.models import UserMessage\n",
    "from autogen_agentchat.agents import AssistantAgent\n",
    "from autogen_agentchat.messages import StructuredMessage\n",
    "from autogen_agentchat.ui import Console\n",
    "from autogen_ext.models.openai import OpenAIChatCompletionClient"
   ]
  },
  {
   "cell_type": "code",
   "execution_count": null,
   "id": "7a1b7d83",
   "metadata": {},
   "outputs": [
    {
     "ename": "NameError",
     "evalue": "name 'load_dotenv' is not defined",
     "output_type": "error",
     "traceback": [
      "\u001b[31m---------------------------------------------------------------------------\u001b[39m",
      "\u001b[31mNameError\u001b[39m                                 Traceback (most recent call last)",
      "\u001b[36mCell\u001b[39m\u001b[36m \u001b[39m\u001b[32mIn[5]\u001b[39m\u001b[32m, line 5\u001b[39m\n\u001b[32m      2\u001b[39m seed = \u001b[32m42\u001b[39m\n\u001b[32m      4\u001b[39m \u001b[38;5;66;03m# Load environment variables from .env file\u001b[39;00m\n\u001b[32m----> \u001b[39m\u001b[32m5\u001b[39m \u001b[43mload_dotenv\u001b[49m()\n\u001b[32m      6\u001b[39m \u001b[38;5;28;01massert\u001b[39;00m \u001b[33m\"\u001b[39m\u001b[33mTOGETHER_API_KEY\u001b[39m\u001b[33m\"\u001b[39m \u001b[38;5;129;01min\u001b[39;00m os.environ\n\u001b[32m      8\u001b[39m settings = {\n\u001b[32m      9\u001b[39m     \u001b[33m\"\u001b[39m\u001b[33mmodel\u001b[39m\u001b[33m\"\u001b[39m: \u001b[33m\"\u001b[39m\u001b[33mQwen/Qwen3-235B-A22B-fp8-tput\u001b[39m\u001b[33m\"\u001b[39m,\n\u001b[32m     10\u001b[39m     \u001b[33m\"\u001b[39m\u001b[33mtemperature\u001b[39m\u001b[33m\"\u001b[39m: \u001b[32m0.1\u001b[39m,\n\u001b[32m   (...)\u001b[39m\u001b[32m     14\u001b[39m     \u001b[33m\"\u001b[39m\u001b[33mmax_tokens\u001b[39m\u001b[33m\"\u001b[39m: \u001b[32m10000\u001b[39m,\n\u001b[32m     15\u001b[39m }\n",
      "\u001b[31mNameError\u001b[39m: name 'load_dotenv' is not defined"
     ]
    }
   ],
   "source": [
    "# same seed for any random operation\n",
    "seed = 42\n",
    "\n",
    "# Load environment variables from .env file\n",
    "load_dotenv()\n",
    "assert \"TOGETHER_API_KEY\" in os.environ\n",
    "\n",
    "settings = {\n",
    "    \"model\": \"Qwen/Qwen3-235B-A22B-fp8-tput\",\n",
    "    \"temperature\": 0.1,\n",
    "    \"top_p\": 1,\n",
    "    \"frequency_penalty\": 0,\n",
    "    \"presence_penalty\": 0,\n",
    "    \"max_tokens\": 10000,\n",
    "}\n",
    "\n",
    "model_client = OpenAIChatCompletionClient(\n",
    "    base_url = \"https://api.together.xyz/v1/\",\n",
    "    api_key=os.getenv(\"TOGETHER_API_KEY\", \"\"),\n",
    "    model_info= {\n",
    "        \"vision\": False,\n",
    "        \"function_calling\": True,\n",
    "        \"json_output\": True,\n",
    "        \"family\": \"unknown\",\n",
    "        \"structured_output\": True\n",
    "    },\n",
    "    **settings   \n",
    ")"
   ]
  },
  {
   "cell_type": "code",
   "execution_count": null,
   "id": "c5df4c9f",
   "metadata": {},
   "outputs": [],
   "source": [
    "with open(os.path.join('..', 'backend', 'prompts', 'JoinSelector.md')) as file:\n",
    "    JOIN_SELECTOR_PROMPT_TEMPLATE = file.read()"
   ]
  },
  {
   "cell_type": "code",
   "execution_count": null,
   "id": "f80e98cd",
   "metadata": {},
   "outputs": [],
   "source": [
    "analyzer = AssistantAgent(\n",
    "    name=\"QueryAnalyzer\", model_client=model_client, system_message=formatted_prompt\n",
    ")\n",
    "\n",
    "response = await analyzer.run(task=question)\n",
    "response = response.messages[-1]\n"
   ]
  }
 ],
 "metadata": {
  "kernelspec": {
   "display_name": "lakegen",
   "language": "python",
   "name": "python3"
  },
  "language_info": {
   "codemirror_mode": {
    "name": "ipython",
    "version": 3
   },
   "file_extension": ".py",
   "mimetype": "text/x-python",
   "name": "python",
   "nbconvert_exporter": "python",
   "pygments_lexer": "ipython3",
   "version": "3.12.11"
  }
 },
 "nbformat": 4,
 "nbformat_minor": 5
}
