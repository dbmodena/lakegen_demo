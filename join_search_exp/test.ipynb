{
 "cells": [
  {
   "cell_type": "code",
   "execution_count": 1,
   "id": "ba51000a-bcd8-4db3-9ad4-eddf6a2badfd",
   "metadata": {},
   "outputs": [],
   "source": [
    "import os\n",
    "\n",
    "import pandas as pd\n",
    "from tqdm import tqdm"
   ]
  },
  {
   "cell_type": "code",
   "execution_count": 2,
   "id": "86240dd5-7b4f-4b72-9a80-a72b42774df3",
   "metadata": {},
   "outputs": [],
   "source": [
    "keywords_gt = pd.read_csv(os.path.join('..', 'data', 'keywords_gt_with_examples.csv'))"
   ]
  },
  {
   "cell_type": "code",
   "execution_count": 3,
   "id": "f1191b13-792f-47a0-8d86-b6372937bd64",
   "metadata": {},
   "outputs": [
    {
     "data": {
      "text/html": [
       "<div>\n",
       "<style scoped>\n",
       "    .dataframe tbody tr th:only-of-type {\n",
       "        vertical-align: middle;\n",
       "    }\n",
       "\n",
       "    .dataframe tbody tr th {\n",
       "        vertical-align: top;\n",
       "    }\n",
       "\n",
       "    .dataframe thead th {\n",
       "        text-align: right;\n",
       "    }\n",
       "</style>\n",
       "<table border=\"1\" class=\"dataframe\">\n",
       "  <thead>\n",
       "    <tr style=\"text-align: right;\">\n",
       "      <th></th>\n",
       "      <th>country_tag</th>\n",
       "      <th>type</th>\n",
       "      <th>difficulty</th>\n",
       "      <th>r_rsc_id</th>\n",
       "      <th>s_rsc_id</th>\n",
       "      <th>r_pkg_id</th>\n",
       "      <th>s_pkg_id</th>\n",
       "      <th>r_col_name</th>\n",
       "      <th>s_col_name</th>\n",
       "      <th>nl</th>\n",
       "      <th>top_k</th>\n",
       "      <th>n_keywords</th>\n",
       "      <th>keywords</th>\n",
       "      <th>presence</th>\n",
       "      <th>result_count</th>\n",
       "      <th>r_id_index</th>\n",
       "      <th>s_id_index</th>\n",
       "      <th>prompt_tokens</th>\n",
       "      <th>completion_tokens</th>\n",
       "      <th>response</th>\n",
       "    </tr>\n",
       "  </thead>\n",
       "  <tbody>\n",
       "    <tr>\n",
       "      <th>0</th>\n",
       "      <td>CAN</td>\n",
       "      <td>multi-table-join</td>\n",
       "      <td>challenging</td>\n",
       "      <td>a7c95445-e336-41e3-945c-1bc938ff0612</td>\n",
       "      <td>ae2204c7-db9e-450e-8158-c70eedada7ae</td>\n",
       "      <td>12c89aa5-063a-f0ed-334a-3019133b9ee8</td>\n",
       "      <td>4879e498-c9ac-44a3-d7d1-21af22e2224c</td>\n",
       "      <td>department_/_minista_re</td>\n",
       "      <td>department_/_minista_re</td>\n",
       "      <td>How has the payment amount changed for the sam...</td>\n",
       "      <td>1000</td>\n",
       "      <td>2</td>\n",
       "      <td>suppliers+payments</td>\n",
       "      <td>1</td>\n",
       "      <td>17</td>\n",
       "      <td>14.0</td>\n",
       "      <td>12.0</td>\n",
       "      <td>648</td>\n",
       "      <td>15</td>\n",
       "      <td>&lt;think&gt;\\n\\n&lt;/think&gt;\\n\\n&lt;keywords&gt;suppliers+pay...</td>\n",
       "    </tr>\n",
       "  </tbody>\n",
       "</table>\n",
       "</div>"
      ],
      "text/plain": [
       "  country_tag              type   difficulty  \\\n",
       "0         CAN  multi-table-join  challenging   \n",
       "\n",
       "                               r_rsc_id                              s_rsc_id  \\\n",
       "0  a7c95445-e336-41e3-945c-1bc938ff0612  ae2204c7-db9e-450e-8158-c70eedada7ae   \n",
       "\n",
       "                               r_pkg_id                              s_pkg_id  \\\n",
       "0  12c89aa5-063a-f0ed-334a-3019133b9ee8  4879e498-c9ac-44a3-d7d1-21af22e2224c   \n",
       "\n",
       "                r_col_name               s_col_name  \\\n",
       "0  department_/_minista_re  department_/_minista_re   \n",
       "\n",
       "                                                  nl  top_k  n_keywords  \\\n",
       "0  How has the payment amount changed for the sam...   1000           2   \n",
       "\n",
       "             keywords  presence  result_count  r_id_index  s_id_index  \\\n",
       "0  suppliers+payments         1            17        14.0        12.0   \n",
       "\n",
       "   prompt_tokens  completion_tokens  \\\n",
       "0            648                 15   \n",
       "\n",
       "                                            response  \n",
       "0  <think>\\n\\n</think>\\n\\n<keywords>suppliers+pay...  "
      ]
     },
     "execution_count": 3,
     "metadata": {},
     "output_type": "execute_result"
    }
   ],
   "source": [
    "data = keywords_gt[\n",
    "    (keywords_gt['n_keywords'] == 2) & \n",
    "    (keywords_gt['presence'] == 1) &\n",
    "    (keywords_gt['result_count'] >= 15) & \n",
    "    (keywords_gt['r_id_index'] < 20)\n",
    "].iloc[:1].reset_index(drop=True)\n",
    "\n",
    "data"
   ]
  },
  {
   "cell_type": "markdown",
   "id": "8972371f",
   "metadata": {},
   "source": [
    "## Fetching Packages and relative Tables"
   ]
  },
  {
   "cell_type": "code",
   "execution_count": 8,
   "id": "d6bae1d7",
   "metadata": {},
   "outputs": [],
   "source": [
    "from ckan import CanadaCKAN\n",
    "\n",
    "ckan_client = CanadaCKAN() "
   ]
  },
  {
   "cell_type": "code",
   "execution_count": 9,
   "id": "ad5c7d2c",
   "metadata": {},
   "outputs": [
    {
     "name": "stdout",
     "output_type": "stream",
     "text": [
      "https://open.canada.ca/data/api/3/action/package_search?q=suppliers+payments&rows=20&defType=edismax&sort=sort desc\n"
     ]
    },
    {
     "data": {
      "text/plain": [
       "53"
      ]
     },
     "execution_count": 9,
     "metadata": {},
     "output_type": "execute_result"
    }
   ],
   "source": [
    "import os\n",
    "import shutil\n",
    "\n",
    "shutil.rmtree('tmp')\n",
    "os.makedirs('tmp', exist_ok=True)\n",
    "\n",
    "cnt = ckan_client.download_tables_from_package_search('tmp', 'csv', 3, q='suppliers+payments', rows=20, defType='edismax', sort='sort desc')\n",
    "\n",
    "cnt"
   ]
  },
  {
   "cell_type": "code",
   "execution_count": 10,
   "id": "96a8dd0a",
   "metadata": {},
   "outputs": [
    {
     "data": {
      "text/plain": [
       "(True, True)"
      ]
     },
     "execution_count": 10,
     "metadata": {},
     "output_type": "execute_result"
    }
   ],
   "source": [
    "resource_ids = list(map(lambda s: s.removesuffix('.csv'), os.listdir('tmp')))\n",
    "\n",
    "data['r_rsc_id'][0] in resource_ids, data['s_rsc_id'][0] in resource_ids"
   ]
  },
  {
   "cell_type": "markdown",
   "id": "30e632e3",
   "metadata": {},
   "source": [
    "## Setup the BLEND index with ALL the downloaded resources"
   ]
  },
  {
   "cell_type": "code",
   "execution_count": 11,
   "id": "d60431ce",
   "metadata": {},
   "outputs": [],
   "source": [
    "import blend\n",
    "\n",
    "indexer = blend.BLEND('blend.db')"
   ]
  },
  {
   "cell_type": "code",
   "execution_count": 12,
   "id": "ca019132",
   "metadata": {},
   "outputs": [
    {
     "name": "stdout",
     "output_type": "stream",
     "text": [
      "┌───────────┬─────────┬──────────┬────────┬──────────────────┬─────────────┬──────────┬──────────┐\n",
      "│ CellValue │ TableId │ ColumnId │ RowId  │ GranularityClass │ Granularity │ Quadrant │ SuperKey │\n",
      "│  varchar  │ varchar │  uint32  │ uint32 │     varchar      │   varchar   │ boolean  │   blob   │\n",
      "├───────────┴─────────┴──────────┴────────┴──────────────────┴─────────────┴──────────┴──────────┤\n",
      "│                                             0 rows                                             │\n",
      "└────────────────────────────────────────────────────────────────────────────────────────────────┘\n",
      "\n",
      "None\n"
     ]
    },
    {
     "name": "stderr",
     "output_type": "stream",
     "text": [
      "Parsing and storing tables: 100%|██████████| 53/53 [00:01<00:00, 46.05it/s]\n"
     ]
    },
    {
     "name": "stdout",
     "output_type": "stream",
     "text": [
      "Tables ingestion completed.\n",
      "Creating indexes...\n",
      "Index creation completed.\n"
     ]
    }
   ],
   "source": [
    "_, dbcon = indexer.create_index('tmp', max_workers=6, limit_rows_per_table=1000, verbose=True)"
   ]
  },
  {
   "cell_type": "code",
   "execution_count": 13,
   "id": "bd97b063",
   "metadata": {},
   "outputs": [
    {
     "ename": "AttributeError",
     "evalue": "'NoneType' object has no attribute 'table'",
     "output_type": "error",
     "traceback": [
      "\u001b[31m---------------------------------------------------------------------------\u001b[39m",
      "\u001b[31mAttributeError\u001b[39m                            Traceback (most recent call last)",
      "\u001b[36mCell\u001b[39m\u001b[36m \u001b[39m\u001b[32mIn[13]\u001b[39m\u001b[32m, line 1\u001b[39m\n\u001b[32m----> \u001b[39m\u001b[32m1\u001b[39m \u001b[43mdbcon\u001b[49m\u001b[43m.\u001b[49m\u001b[43mtable\u001b[49m(\u001b[33m'\u001b[39m\u001b[33mAllTables\u001b[39m\u001b[33m'\u001b[39m).show()\n",
      "\u001b[31mAttributeError\u001b[39m: 'NoneType' object has no attribute 'table'"
     ]
    }
   ],
   "source": [
    "dbcon.table('AllTables').show()"
   ]
  },
  {
   "cell_type": "code",
   "execution_count": null,
   "id": "834310bd",
   "metadata": {},
   "outputs": [
    {
     "data": {
      "text/plain": [
       "┌──────────────┐\n",
       "│ count_star() │\n",
       "│    int64     │\n",
       "├──────────────┤\n",
       "│         2953 │\n",
       "└──────────────┘"
      ]
     },
     "execution_count": 3,
     "metadata": {},
     "output_type": "execute_result"
    }
   ],
   "source": [
    "dbcon.sql(\"SELECT COUNT(*) FROM AllTables;\")"
   ]
  },
  {
   "cell_type": "code",
   "execution_count": null,
   "id": "28707abb-d3f7-440a-a05e-542ed38bd05f",
   "metadata": {},
   "outputs": [],
   "source": [
    "s_rsc_metadata = ckan_client.resource_show(resource_id=data['s_rsc_id'][0])"
   ]
  },
  {
   "cell_type": "code",
   "execution_count": null,
   "id": "8b9d841b",
   "metadata": {},
   "outputs": [],
   "source": [
    "response = ckan_client.package_search(\"payment+supplier\", 3)"
   ]
  },
  {
   "cell_type": "markdown",
   "id": "b7cb8842",
   "metadata": {},
   "source": [
    "## Setup an Agent for Joinable Column Selection"
   ]
  },
  {
   "cell_type": "code",
   "execution_count": 4,
   "id": "dba825cf",
   "metadata": {},
   "outputs": [],
   "source": [
    "import os\n",
    "\n",
    "from dotenv import load_dotenv\n",
    "from autogen_core.models import UserMessage\n",
    "from autogen_agentchat.agents import AssistantAgent\n",
    "from autogen_agentchat.messages import StructuredMessage\n",
    "from autogen_agentchat.ui import Console\n",
    "from autogen_ext.models.openai import OpenAIChatCompletionClient"
   ]
  },
  {
   "cell_type": "code",
   "execution_count": 5,
   "id": "7a1b7d83",
   "metadata": {},
   "outputs": [],
   "source": [
    "# same seed for any random operation\n",
    "seed = 42\n",
    "\n",
    "# Load environment variables from .env file\n",
    "load_dotenv()\n",
    "assert \"TOGETHER_API_KEY\" in os.environ\n",
    "\n",
    "settings = {\n",
    "    \"model\": \"Qwen/Qwen3-235B-A22B-fp8-tput\",\n",
    "    \"temperature\": 0.1,\n",
    "    \"top_p\": 1,\n",
    "    \"frequency_penalty\": 0,\n",
    "    \"presence_penalty\": 0,\n",
    "    \"max_tokens\": 10000,\n",
    "}\n",
    "\n",
    "model_client = OpenAIChatCompletionClient(\n",
    "    base_url = \"https://api.together.xyz/v1/\",\n",
    "    api_key=os.getenv(\"TOGETHER_API_KEY\", \"\"),\n",
    "    model_info= {\n",
    "        \"vision\": False,\n",
    "        \"function_calling\": True,\n",
    "        \"json_output\": True,\n",
    "        \"family\": \"unknown\",\n",
    "        \"structured_output\": True\n",
    "    },\n",
    "    **settings   \n",
    ")"
   ]
  },
  {
   "cell_type": "code",
   "execution_count": 22,
   "id": "c5df4c9f",
   "metadata": {},
   "outputs": [],
   "source": [
    "with open(os.path.join('..', 'backend', 'prompts', 'TablePreFilter.md')) as file:\n",
    "    TABLE_PRE_FILTER_PROMPT_TEMPLATE = file.read()"
   ]
  },
  {
   "cell_type": "code",
   "execution_count": 7,
   "id": "70f82146",
   "metadata": {},
   "outputs": [
    {
     "data": {
      "text/html": [
       "<div>\n",
       "<style scoped>\n",
       "    .dataframe tbody tr th:only-of-type {\n",
       "        vertical-align: middle;\n",
       "    }\n",
       "\n",
       "    .dataframe tbody tr th {\n",
       "        vertical-align: top;\n",
       "    }\n",
       "\n",
       "    .dataframe thead th {\n",
       "        text-align: right;\n",
       "    }\n",
       "</style>\n",
       "<table border=\"1\" class=\"dataframe\">\n",
       "  <thead>\n",
       "    <tr style=\"text-align: right;\">\n",
       "      <th></th>\n",
       "      <th>country_tag</th>\n",
       "      <th>type</th>\n",
       "      <th>difficulty</th>\n",
       "      <th>r_rsc_id</th>\n",
       "      <th>s_rsc_id</th>\n",
       "      <th>r_pkg_id</th>\n",
       "      <th>s_pkg_id</th>\n",
       "      <th>r_col_name</th>\n",
       "      <th>s_col_name</th>\n",
       "      <th>nl</th>\n",
       "      <th>top_k</th>\n",
       "      <th>n_keywords</th>\n",
       "      <th>keywords</th>\n",
       "      <th>presence</th>\n",
       "      <th>result_count</th>\n",
       "      <th>r_id_index</th>\n",
       "      <th>s_id_index</th>\n",
       "      <th>prompt_tokens</th>\n",
       "      <th>completion_tokens</th>\n",
       "      <th>response</th>\n",
       "    </tr>\n",
       "  </thead>\n",
       "  <tbody>\n",
       "    <tr>\n",
       "      <th>0</th>\n",
       "      <td>CAN</td>\n",
       "      <td>multi-table-join</td>\n",
       "      <td>challenging</td>\n",
       "      <td>a7c95445-e336-41e3-945c-1bc938ff0612</td>\n",
       "      <td>ae2204c7-db9e-450e-8158-c70eedada7ae</td>\n",
       "      <td>12c89aa5-063a-f0ed-334a-3019133b9ee8</td>\n",
       "      <td>4879e498-c9ac-44a3-d7d1-21af22e2224c</td>\n",
       "      <td>department_/_minista_re</td>\n",
       "      <td>department_/_minista_re</td>\n",
       "      <td>How has the payment amount changed for the sam...</td>\n",
       "      <td>1000</td>\n",
       "      <td>2</td>\n",
       "      <td>suppliers+payments</td>\n",
       "      <td>1</td>\n",
       "      <td>17</td>\n",
       "      <td>14.0</td>\n",
       "      <td>12.0</td>\n",
       "      <td>648</td>\n",
       "      <td>15</td>\n",
       "      <td>&lt;think&gt;\\n\\n&lt;/think&gt;\\n\\n&lt;keywords&gt;suppliers+pay...</td>\n",
       "    </tr>\n",
       "  </tbody>\n",
       "</table>\n",
       "</div>"
      ],
      "text/plain": [
       "  country_tag              type   difficulty  \\\n",
       "0         CAN  multi-table-join  challenging   \n",
       "\n",
       "                               r_rsc_id                              s_rsc_id  \\\n",
       "0  a7c95445-e336-41e3-945c-1bc938ff0612  ae2204c7-db9e-450e-8158-c70eedada7ae   \n",
       "\n",
       "                               r_pkg_id                              s_pkg_id  \\\n",
       "0  12c89aa5-063a-f0ed-334a-3019133b9ee8  4879e498-c9ac-44a3-d7d1-21af22e2224c   \n",
       "\n",
       "                r_col_name               s_col_name  \\\n",
       "0  department_/_minista_re  department_/_minista_re   \n",
       "\n",
       "                                                  nl  top_k  n_keywords  \\\n",
       "0  How has the payment amount changed for the sam...   1000           2   \n",
       "\n",
       "             keywords  presence  result_count  r_id_index  s_id_index  \\\n",
       "0  suppliers+payments         1            17        14.0        12.0   \n",
       "\n",
       "   prompt_tokens  completion_tokens  \\\n",
       "0            648                 15   \n",
       "\n",
       "                                            response  \n",
       "0  <think>\\n\\n</think>\\n\\n<keywords>suppliers+pay...  "
      ]
     },
     "execution_count": 7,
     "metadata": {},
     "output_type": "execute_result"
    }
   ],
   "source": [
    "data"
   ]
  },
  {
   "cell_type": "code",
   "execution_count": 9,
   "id": "1248cb54",
   "metadata": {},
   "outputs": [
    {
     "name": "stdout",
     "output_type": "stream",
     "text": [
      "https://open.canada.ca/data/api/3/action/package_search?q=suppliers+payments&rows=20&defType=edismax&sort=sort desc\n"
     ]
    }
   ],
   "source": [
    "from ckan import CanadaCKAN\n",
    "\n",
    "ckan_client = CanadaCKAN() \n",
    "\n",
    "ckan_response = ckan_client.package_search(q='suppliers+payments', rows=20, defType='edismax', sort='sort desc')"
   ]
  },
  {
   "cell_type": "code",
   "execution_count": 10,
   "id": "bb3d8fb7",
   "metadata": {},
   "outputs": [
    {
     "data": {
      "text/plain": [
       "'How has the payment amount changed for the same suppliers between fiscal year 2020 and 2023 in different departments? Could you show me the department name, supplier name, payments from both years, and the difference in payment amounts? Please focus on suppliers that appear in both years.'"
      ]
     },
     "execution_count": 10,
     "metadata": {},
     "output_type": "execute_result"
    }
   ],
   "source": [
    "data['nl'][0]"
   ]
  },
  {
   "cell_type": "code",
   "execution_count": 18,
   "id": "ffe3b99b",
   "metadata": {},
   "outputs": [],
   "source": [
    "model_choices = []"
   ]
  },
  {
   "cell_type": "code",
   "execution_count": 23,
   "id": "be912e09",
   "metadata": {},
   "outputs": [
    {
     "name": "stderr",
     "output_type": "stream",
     "text": [
      "100%|██████████| 17/17 [00:16<00:00,  1.05it/s]\n"
     ]
    }
   ],
   "source": [
    "no_think = True\n",
    "\n",
    "for package in tqdm(ckan_response['result']['results']):\n",
    "    # print(package['title'])\n",
    "    # print(package['notes'])\n",
    "    # print(', '.join(package['keywords']['en']))\n",
    "    # print()\n",
    "    prompt = TABLE_PRE_FILTER_PROMPT_TEMPLATE.format(\n",
    "        question=data['nl'][0],\n",
    "        title=package['title'],\n",
    "        notes='N/A', # package['notes'][:300],\n",
    "        keywords='N/A' # ', '.join(package['keywords']['en'])\n",
    "    )\n",
    "\n",
    "    if no_think:\n",
    "        prompt = '/nothink' + prompt\n",
    "\n",
    "    analyzer = AssistantAgent(\n",
    "    name=\"TablePreFilter\", model_client=model_client, system_message=prompt\n",
    ")\n",
    "\n",
    "    response = await analyzer.run()\n",
    "    response = response.messages[-1]\n",
    "    model_choices.append(response)\n"
   ]
  },
  {
   "cell_type": "code",
   "execution_count": 24,
   "id": "7bd2e92a",
   "metadata": {},
   "outputs": [
    {
     "data": {
      "text/plain": [
       "0    4879e498-c9ac-44a3-d7d1-21af22e2224c\n",
       "Name: s_pkg_id, dtype: object"
      ]
     },
     "execution_count": 24,
     "metadata": {},
     "output_type": "execute_result"
    }
   ],
   "source": [
    "data['s_pkg_id']"
   ]
  },
  {
   "cell_type": "code",
   "execution_count": 41,
   "id": "f80e98cd",
   "metadata": {},
   "outputs": [
    {
     "data": {
      "text/plain": [
       "['f6bad1d5-d1dc-4fdd-a076-650f55cc3fbc',\n",
       " '3d48d117-64a0-e504-085d-159c69ee51da',\n",
       " '804a1d01-7ec3-a54c-022f-faf471350661']"
      ]
     },
     "execution_count": 41,
     "metadata": {},
     "output_type": "execute_result"
    }
   ],
   "source": [
    "import re\n",
    "\n",
    "answers = [\n",
    "    re.search(r\"<answer>(YES|NO)</answer>\", message.content).group(1)\n",
    "    for message in model_choices\n",
    "]\n",
    "\n",
    "answers = list(zip(answers, [p['id'] for p in ckan_response['result']['results']]))\n",
    "answers = [a[1] for a in answers if a[0] == 'YES']\n",
    "answers"
   ]
  },
  {
   "cell_type": "code",
   "execution_count": 43,
   "id": "ddacac8d",
   "metadata": {},
   "outputs": [
    {
     "name": "stderr",
     "output_type": "stream",
     "text": [
      "100%|██████████| 17/17 [00:00<00:00, 29796.56it/s]"
     ]
    },
    {
     "name": "stdout",
     "output_type": "stream",
     "text": [
      "a5367f15-3f30-4d2b-91df-40275513788f\n",
      "Difficulty of obstacles when exporting or attempting to export goods or services, by industry and enterprise size\n",
      "eaaef3a6-1100-fa3b-5c05-f4b97b0fab1e\n",
      "2021 - Combined Supplier and Grant Payments\n",
      "f6bad1d5-d1dc-4fdd-a076-650f55cc3fbc\n",
      "CRF Detailed Schedules of Payments - Other Supplier Payments\n",
      "19cc9559-b2da-e0a5-f269-362cee1a3612\n",
      "Grant payments over $250,000 2014-2015\n",
      "a9103f31-f16b-a7a2-d056-68a685155c22\n",
      "2021 - Supplier and Grant Payments by Department\n",
      "8be07a6b-2f19-48e5-a4ba-024e5e4933c5\n",
      "Confidence level of business or organization in its ability to make payments to suppliers and service providers in full and on time, first quarter of 2025\n",
      "b8189a86-fa88-4c1d-86e4-cc61ff549b71\n",
      "Confidence level of business or organization in its ability to make payments to suppliers and service providers in full and on time, second quarter of 2025\n",
      "2142e30d-9275-424d-be43-f5cc7ec91916\n",
      "Aircraft Fleet: Monthly Fuel Cost and Consumption, by Region or Group\n",
      "3d48d117-64a0-e504-085d-159c69ee51da\n",
      "2024 - Supplier and Grant Payments by Department\n",
      "804a1d01-7ec3-a54c-022f-faf471350661\n",
      "2024 - Combined Supplier and Grant Payments\n",
      "fe1761bf-5e9f-c098-098e-a205519a43b3\n",
      "2022 - Supplier and Grant Payments by Department\n",
      "9fa1da9a-8c0f-493e-b207-0cc95889823e\n",
      "GC InfoBase – COVID-19 Authorities and Expenditures\n",
      "4879e498-c9ac-44a3-d7d1-21af22e2224c\n",
      "2023 - Supplier and Grant Payments by Department\n",
      "bc84bcd7-a8fa-7d19-ae5d-4e3cb0d64bdc\n",
      "2023 - Combined Supplier and Grant Payments\n",
      "12c89aa5-063a-f0ed-334a-3019133b9ee8\n",
      "2020 - Supplier and Grant Payments by Department\n",
      "\n",
      "33f573dc-a097-83ad-c6ce-2efe01c1b04c\n",
      "2020 - Combined Supplier and Grant Payments\n",
      "c409a88e-1692-98ce-7a49-b86ec695d8dc\n",
      "2022 - Combined Supplier and Grant Payments\n"
     ]
    },
    {
     "name": "stderr",
     "output_type": "stream",
     "text": [
      "\n"
     ]
    }
   ],
   "source": [
    "for package in tqdm(ckan_response['result']['results']):\n",
    "    if package['id'] == 'f6bad1d5-d1dc-4fdd-a076-650f55cc3fbc' or True:\n",
    "        print(package['id'])\n",
    "        print(package['title'])\n",
    "        # print(package['notes'][:300])\n",
    "    if package['id'] == '12c89aa5-063a-f0ed-334a-3019133b9ee8':\n",
    "        print()\n",
    "    # print(', '.join(package['keywords']['en']))\n",
    "    # print()\n"
   ]
  },
  {
   "cell_type": "code",
   "execution_count": 71,
   "id": "2a4b2061",
   "metadata": {},
   "outputs": [
    {
     "data": {
      "text/plain": [
       "'How has the payment amount changed for the same suppliers between fiscal year 2020 and 2023 in different departments? Could you show me the department name, supplier name, payments from both years, and the difference in payment amounts? Please focus on suppliers that appear in both years.'"
      ]
     },
     "execution_count": 71,
     "metadata": {},
     "output_type": "execute_result"
    }
   ],
   "source": [
    "data['nl'][0]"
   ]
  },
  {
   "cell_type": "code",
   "execution_count": 21,
   "id": "5cf8f9b0",
   "metadata": {},
   "outputs": [
    {
     "name": "stdout",
     "output_type": "stream",
     "text": [
      "<think>\n",
      "Okay, let's see. The user is asking about changes in payment amounts for the same suppliers between fiscal years 2020 and 2023 across different departments. They want the department name, supplier name, payments from both years, and the difference. The key here is that the suppliers must appear in both years.\n",
      "\n",
      "The available package is titled \"2020 - Combined Supplier and Grant Payments\". The notes and keywords are not available. So, the package is specific to 2020 and includes supplier payments. But the user is asking for data from both 2020 and 2023. Since the package only covers 2020, it doesn't include 2023 data. The question requires comparing two different years, so the package alone can't answer that. However, maybe if there's another package for 2023, but the current task only mentions this one package. Since the package is only for 2020, it can't provide the 2023 data needed for comparison. Therefore, the answer would be no because the package doesn't contain data for both years required. Also, the package might not have the supplier details across departments or the specific payment amounts needed for comparison. Even if it had some data, without 2023 info, it's impossible. So the answer should be NO.\n",
      "</think>\n",
      "\n",
      "`<answer>NO</answer>`\n"
     ]
    }
   ],
   "source": [
    "print(model_choices[-2].content)"
   ]
  }
 ],
 "metadata": {
  "kernelspec": {
   "display_name": "lakegen",
   "language": "python",
   "name": "python3"
  },
  "language_info": {
   "codemirror_mode": {
    "name": "ipython",
    "version": 3
   },
   "file_extension": ".py",
   "mimetype": "text/x-python",
   "name": "python",
   "nbconvert_exporter": "python",
   "pygments_lexer": "ipython3",
   "version": "3.12.11"
  }
 },
 "nbformat": 4,
 "nbformat_minor": 5
}
